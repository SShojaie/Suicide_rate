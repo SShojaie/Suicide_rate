{
 "cells": [
  {
   "cell_type": "code",
   "execution_count": 21,
   "metadata": {},
   "outputs": [],
   "source": [
    "# Dependencies\n",
    "import csv\n",
    "import pandas as pd\n",
    "import numpy as np\n",
    "import matplotlib.pyplot as plt\n",
    "from scipy.stats import linregress\n",
    "import seaborn as sns\n",
    "from numpy import nan\n",
    "from numpy import isnan\n",
    "from sklearn.impute import SimpleImputer"
   ]
  },
  {
   "cell_type": "code",
   "execution_count": 22,
   "metadata": {},
   "outputs": [],
   "source": [
    "# Set function for scatter plot, correlation analysis, regression coefficient, linear equation, & saving figure\n",
    "def linregres_func(x_values, y_values, x_label, y_label, ann_horizontal, ann_vertical, savefile): \n",
    "                                                                            \n",
    "    (slope, intercept, rvalue, pvalue, stderr) = linregress(x_values, y_values)\n",
    "    \n",
    "    regress_values = x_values * slope + intercept\n",
    "    eq_line = \"y = \" + str(round(slope,2)) + \"x + \" + str(round(intercept,2))\n",
    "    \n",
    "    plt.scatter(x_values, y_values, c='lightskyblue', edgecolor='maroon')\n",
    "    plt.plot(x_values, regress_values, 'r-')\n",
    "    plt.annotate(eq_line, (ann_horizontal, ann_vertical), fontsize=11, color='red')\n",
    "    plt.title(f\" {x_label} vs {y_label} \\n\")\n",
    "    plt.xlabel(x_label)\n",
    "    plt.ylabel(y_label)\n",
    "    plt.tight_layout\n",
    "    print(f\"The r-squared is: {rvalue}\")\n",
    "    plt.savefig(f'../figures/{savefile}')\n",
    "    plt.show()"
   ]
  },
  {
   "cell_type": "markdown",
   "metadata": {},
   "source": [
    "## Correlations Summary\n",
    "Based on Normalized Data\n"
   ]
  },
  {
   "cell_type": "code",
   "execution_count": 24,
   "metadata": {},
   "outputs": [
    {
     "data": {
      "text/html": [
       "<div>\n",
       "<style scoped>\n",
       "    .dataframe tbody tr th:only-of-type {\n",
       "        vertical-align: middle;\n",
       "    }\n",
       "\n",
       "    .dataframe tbody tr th {\n",
       "        vertical-align: top;\n",
       "    }\n",
       "\n",
       "    .dataframe thead th {\n",
       "        text-align: right;\n",
       "    }\n",
       "</style>\n",
       "<table border=\"1\" class=\"dataframe\">\n",
       "  <thead>\n",
       "    <tr style=\"text-align: right;\">\n",
       "      <th></th>\n",
       "      <th>Country name</th>\n",
       "      <th>Code</th>\n",
       "      <th>Happiness Index</th>\n",
       "      <th>Log GDP</th>\n",
       "      <th>Social support</th>\n",
       "      <th>Healthy life exp</th>\n",
       "      <th>Freedom</th>\n",
       "      <th>Generosity</th>\n",
       "      <th>Perceptions of corruption</th>\n",
       "      <th>Suicide</th>\n",
       "      <th>Depression &amp; Anxiety</th>\n",
       "      <th>Substance Abuse</th>\n",
       "      <th>Physician perpop</th>\n",
       "      <th>Average age</th>\n",
       "      <th>Sleep (min)</th>\n",
       "      <th>Gini index</th>\n",
       "      <th>Pct Poverty</th>\n",
       "      <th>Pct spent ed</th>\n",
       "      <th>Literacy rate</th>\n",
       "      <th>Tourist arrivals</th>\n",
       "      <th>Rev tourism</th>\n",
       "      <th>Fragile State index</th>\n",
       "      <th>Security index</th>\n",
       "      <th>Brain drain</th>\n",
       "      <th>Unemployment rate</th>\n",
       "      <th>Blue Index</th>\n",
       "    </tr>\n",
       "  </thead>\n",
       "  <tbody>\n",
       "    <tr>\n",
       "      <th>0</th>\n",
       "      <td>Afghanistan</td>\n",
       "      <td>AFG</td>\n",
       "      <td>0.000000</td>\n",
       "      <td>0.138829</td>\n",
       "      <td>0.096154</td>\n",
       "      <td>0.177083</td>\n",
       "      <td>0.000000</td>\n",
       "      <td>0.233766</td>\n",
       "      <td>1.000000</td>\n",
       "      <td>0.071535</td>\n",
       "      <td>0.391471</td>\n",
       "      <td>0.196810</td>\n",
       "      <td>NaN</td>\n",
       "      <td>0.106583</td>\n",
       "      <td>NaN</td>\n",
       "      <td>NaN</td>\n",
       "      <td>NaN</td>\n",
       "      <td>0.375431</td>\n",
       "      <td>NaN</td>\n",
       "      <td>NaN</td>\n",
       "      <td>0.000000</td>\n",
       "      <td>0.958874</td>\n",
       "      <td>1.000000</td>\n",
       "      <td>0.920000</td>\n",
       "      <td>0.402182</td>\n",
       "      <td>0.219939</td>\n",
       "    </tr>\n",
       "    <tr>\n",
       "      <th>1</th>\n",
       "      <td>Albania</td>\n",
       "      <td>ALB</td>\n",
       "      <td>0.385965</td>\n",
       "      <td>0.553145</td>\n",
       "      <td>0.384615</td>\n",
       "      <td>0.718750</td>\n",
       "      <td>0.571429</td>\n",
       "      <td>0.337662</td>\n",
       "      <td>0.911392</td>\n",
       "      <td>0.089793</td>\n",
       "      <td>0.258033</td>\n",
       "      <td>0.174371</td>\n",
       "      <td>NaN</td>\n",
       "      <td>0.548589</td>\n",
       "      <td>NaN</td>\n",
       "      <td>NaN</td>\n",
       "      <td>NaN</td>\n",
       "      <td>0.234483</td>\n",
       "      <td>NaN</td>\n",
       "      <td>0.053397</td>\n",
       "      <td>0.008087</td>\n",
       "      <td>0.452381</td>\n",
       "      <td>0.411111</td>\n",
       "      <td>0.840000</td>\n",
       "      <td>0.498871</td>\n",
       "      <td>0.174066</td>\n",
       "    </tr>\n",
       "    <tr>\n",
       "      <th>2</th>\n",
       "      <td>Argentina</td>\n",
       "      <td>ARG</td>\n",
       "      <td>0.658869</td>\n",
       "      <td>0.655098</td>\n",
       "      <td>0.903846</td>\n",
       "      <td>0.725694</td>\n",
       "      <td>0.714286</td>\n",
       "      <td>0.142857</td>\n",
       "      <td>0.860759</td>\n",
       "      <td>0.254116</td>\n",
       "      <td>0.351928</td>\n",
       "      <td>0.399367</td>\n",
       "      <td>0.648456</td>\n",
       "      <td>0.510972</td>\n",
       "      <td>0.506173</td>\n",
       "      <td>0.544803</td>\n",
       "      <td>0.344675</td>\n",
       "      <td>0.271983</td>\n",
       "      <td>NaN</td>\n",
       "      <td>0.077236</td>\n",
       "      <td>0.023135</td>\n",
       "      <td>0.319264</td>\n",
       "      <td>0.366667</td>\n",
       "      <td>0.226667</td>\n",
       "      <td>0.295711</td>\n",
       "      <td>0.335137</td>\n",
       "    </tr>\n",
       "  </tbody>\n",
       "</table>\n",
       "</div>"
      ],
      "text/plain": [
       "  Country name Code  Happiness Index   Log GDP  Social support  \\\n",
       "0  Afghanistan  AFG         0.000000  0.138829        0.096154   \n",
       "1      Albania  ALB         0.385965  0.553145        0.384615   \n",
       "2    Argentina  ARG         0.658869  0.655098        0.903846   \n",
       "\n",
       "   Healthy life exp   Freedom  Generosity  Perceptions of corruption  \\\n",
       "0          0.177083  0.000000    0.233766                   1.000000   \n",
       "1          0.718750  0.571429    0.337662                   0.911392   \n",
       "2          0.725694  0.714286    0.142857                   0.860759   \n",
       "\n",
       "    Suicide  Depression & Anxiety  Substance Abuse  Physician perpop  \\\n",
       "0  0.071535              0.391471         0.196810               NaN   \n",
       "1  0.089793              0.258033         0.174371               NaN   \n",
       "2  0.254116              0.351928         0.399367          0.648456   \n",
       "\n",
       "   Average age  Sleep (min)  Gini index  Pct Poverty  Pct spent ed  \\\n",
       "0     0.106583          NaN         NaN          NaN      0.375431   \n",
       "1     0.548589          NaN         NaN          NaN      0.234483   \n",
       "2     0.510972     0.506173    0.544803     0.344675      0.271983   \n",
       "\n",
       "   Literacy rate  Tourist arrivals  Rev tourism  Fragile State index  \\\n",
       "0            NaN               NaN     0.000000             0.958874   \n",
       "1            NaN          0.053397     0.008087             0.452381   \n",
       "2            NaN          0.077236     0.023135             0.319264   \n",
       "\n",
       "   Security index  Brain drain  Unemployment rate  Blue Index  \n",
       "0        1.000000     0.920000           0.402182    0.219939  \n",
       "1        0.411111     0.840000           0.498871    0.174066  \n",
       "2        0.366667     0.226667           0.295711    0.335137  "
      ]
     },
     "execution_count": 24,
     "metadata": {},
     "output_type": "execute_result"
    }
   ],
   "source": [
    "# Load/Read Normalized Data\n",
    "pd.set_option('display.max_columns', None)\n",
    "path_Normalized_v2 = \"../Outputs/Normalized Table 2017_df.csv\"\n",
    "df_normalized = pd.read_csv(path_Normalized_v2)\n",
    "df_normalized.rename(columns={\"Healthy life expectancy at birth\":\"Healthy life exp\",\"Life Ladder\":\"Happiness Index\",\n",
    "                             \"Freedom to make life choices\":\"Freedom\", \"Log GDP per capita\":\"Log GDP\"},inplace=True)                             \n",
    "df_normalized.head(3)"
   ]
  },
  {
   "cell_type": "code",
   "execution_count": 26,
   "metadata": {},
   "outputs": [
    {
     "ename": "KeyError",
     "evalue": "'Passing list-likes to .loc or [] with any missing labels is no longer supported, see https://pandas.pydata.org/pandas-docs/stable/user_guide/indexing.html#deprecate-loc-reindex-listlike'",
     "output_type": "error",
     "traceback": [
      "\u001b[1;31m---------------------------------------------------------------------------\u001b[0m",
      "\u001b[1;31mKeyError\u001b[0m                                  Traceback (most recent call last)",
      "\u001b[1;32m<ipython-input-26-b8a8e932af12>\u001b[0m in \u001b[0;36m<module>\u001b[1;34m\u001b[0m\n\u001b[0;32m      4\u001b[0m                                       \u001b[1;34m'Pct spent ed'\u001b[0m\u001b[1;33m,\u001b[0m \u001b[1;34m'Suicide'\u001b[0m\u001b[1;33m,\u001b[0m \u001b[1;34m'Blue Index'\u001b[0m\u001b[1;33m,\u001b[0m \u001b[1;34m'Tourist arrivals'\u001b[0m\u001b[1;33m,\u001b[0m \u001b[1;34m'Average age'\u001b[0m\u001b[1;33m,\u001b[0m\u001b[1;33m\u001b[0m\u001b[1;33m\u001b[0m\u001b[0m\n\u001b[0;32m      5\u001b[0m                                       \u001b[1;34m'Rev tourism'\u001b[0m\u001b[1;33m,\u001b[0m \u001b[1;34m'Literacy rate'\u001b[0m\u001b[1;33m,\u001b[0m \u001b[1;34m'Sleep (min)'\u001b[0m\u001b[1;33m,\u001b[0m \u001b[1;34m'Generosity'\u001b[0m\u001b[1;33m,\u001b[0m \u001b[1;34m'Healthy life exp'\u001b[0m\u001b[1;33m,\u001b[0m\u001b[1;33m\u001b[0m\u001b[1;33m\u001b[0m\u001b[0m\n\u001b[1;32m----> 6\u001b[1;33m                                       'Freedom', 'Social support', 'Log GDP', 'Happiness Index' ]]\n\u001b[0m",
      "\u001b[1;32mC:\\ProgramData\\Anaconda3\\lib\\site-packages\\pandas\\core\\indexing.py\u001b[0m in \u001b[0;36m__getitem__\u001b[1;34m(self, key)\u001b[0m\n\u001b[0;32m   1759\u001b[0m                 \u001b[1;32mexcept\u001b[0m \u001b[1;33m(\u001b[0m\u001b[0mKeyError\u001b[0m\u001b[1;33m,\u001b[0m \u001b[0mIndexError\u001b[0m\u001b[1;33m,\u001b[0m \u001b[0mAttributeError\u001b[0m\u001b[1;33m)\u001b[0m\u001b[1;33m:\u001b[0m\u001b[1;33m\u001b[0m\u001b[1;33m\u001b[0m\u001b[0m\n\u001b[0;32m   1760\u001b[0m                     \u001b[1;32mpass\u001b[0m\u001b[1;33m\u001b[0m\u001b[1;33m\u001b[0m\u001b[0m\n\u001b[1;32m-> 1761\u001b[1;33m             \u001b[1;32mreturn\u001b[0m \u001b[0mself\u001b[0m\u001b[1;33m.\u001b[0m\u001b[0m_getitem_tuple\u001b[0m\u001b[1;33m(\u001b[0m\u001b[0mkey\u001b[0m\u001b[1;33m)\u001b[0m\u001b[1;33m\u001b[0m\u001b[1;33m\u001b[0m\u001b[0m\n\u001b[0m\u001b[0;32m   1762\u001b[0m         \u001b[1;32melse\u001b[0m\u001b[1;33m:\u001b[0m\u001b[1;33m\u001b[0m\u001b[1;33m\u001b[0m\u001b[0m\n\u001b[0;32m   1763\u001b[0m             \u001b[1;31m# we by definition only have the 0th axis\u001b[0m\u001b[1;33m\u001b[0m\u001b[1;33m\u001b[0m\u001b[1;33m\u001b[0m\u001b[0m\n",
      "\u001b[1;32mC:\\ProgramData\\Anaconda3\\lib\\site-packages\\pandas\\core\\indexing.py\u001b[0m in \u001b[0;36m_getitem_tuple\u001b[1;34m(self, tup)\u001b[0m\n\u001b[0;32m   1286\u001b[0m                 \u001b[1;32mcontinue\u001b[0m\u001b[1;33m\u001b[0m\u001b[1;33m\u001b[0m\u001b[0m\n\u001b[0;32m   1287\u001b[0m \u001b[1;33m\u001b[0m\u001b[0m\n\u001b[1;32m-> 1288\u001b[1;33m             \u001b[0mretval\u001b[0m \u001b[1;33m=\u001b[0m \u001b[0mgetattr\u001b[0m\u001b[1;33m(\u001b[0m\u001b[0mretval\u001b[0m\u001b[1;33m,\u001b[0m \u001b[0mself\u001b[0m\u001b[1;33m.\u001b[0m\u001b[0mname\u001b[0m\u001b[1;33m)\u001b[0m\u001b[1;33m.\u001b[0m\u001b[0m_getitem_axis\u001b[0m\u001b[1;33m(\u001b[0m\u001b[0mkey\u001b[0m\u001b[1;33m,\u001b[0m \u001b[0maxis\u001b[0m\u001b[1;33m=\u001b[0m\u001b[0mi\u001b[0m\u001b[1;33m)\u001b[0m\u001b[1;33m\u001b[0m\u001b[1;33m\u001b[0m\u001b[0m\n\u001b[0m\u001b[0;32m   1289\u001b[0m \u001b[1;33m\u001b[0m\u001b[0m\n\u001b[0;32m   1290\u001b[0m         \u001b[1;32mreturn\u001b[0m \u001b[0mretval\u001b[0m\u001b[1;33m\u001b[0m\u001b[1;33m\u001b[0m\u001b[0m\n",
      "\u001b[1;32mC:\\ProgramData\\Anaconda3\\lib\\site-packages\\pandas\\core\\indexing.py\u001b[0m in \u001b[0;36m_getitem_axis\u001b[1;34m(self, key, axis)\u001b[0m\n\u001b[0;32m   1951\u001b[0m                     \u001b[1;32mraise\u001b[0m \u001b[0mValueError\u001b[0m\u001b[1;33m(\u001b[0m\u001b[1;34m\"Cannot index with multidimensional key\"\u001b[0m\u001b[1;33m)\u001b[0m\u001b[1;33m\u001b[0m\u001b[1;33m\u001b[0m\u001b[0m\n\u001b[0;32m   1952\u001b[0m \u001b[1;33m\u001b[0m\u001b[0m\n\u001b[1;32m-> 1953\u001b[1;33m                 \u001b[1;32mreturn\u001b[0m \u001b[0mself\u001b[0m\u001b[1;33m.\u001b[0m\u001b[0m_getitem_iterable\u001b[0m\u001b[1;33m(\u001b[0m\u001b[0mkey\u001b[0m\u001b[1;33m,\u001b[0m \u001b[0maxis\u001b[0m\u001b[1;33m=\u001b[0m\u001b[0maxis\u001b[0m\u001b[1;33m)\u001b[0m\u001b[1;33m\u001b[0m\u001b[1;33m\u001b[0m\u001b[0m\n\u001b[0m\u001b[0;32m   1954\u001b[0m \u001b[1;33m\u001b[0m\u001b[0m\n\u001b[0;32m   1955\u001b[0m             \u001b[1;31m# nested tuple slicing\u001b[0m\u001b[1;33m\u001b[0m\u001b[1;33m\u001b[0m\u001b[1;33m\u001b[0m\u001b[0m\n",
      "\u001b[1;32mC:\\ProgramData\\Anaconda3\\lib\\site-packages\\pandas\\core\\indexing.py\u001b[0m in \u001b[0;36m_getitem_iterable\u001b[1;34m(self, key, axis)\u001b[0m\n\u001b[0;32m   1592\u001b[0m         \u001b[1;32melse\u001b[0m\u001b[1;33m:\u001b[0m\u001b[1;33m\u001b[0m\u001b[1;33m\u001b[0m\u001b[0m\n\u001b[0;32m   1593\u001b[0m             \u001b[1;31m# A collection of keys\u001b[0m\u001b[1;33m\u001b[0m\u001b[1;33m\u001b[0m\u001b[1;33m\u001b[0m\u001b[0m\n\u001b[1;32m-> 1594\u001b[1;33m             \u001b[0mkeyarr\u001b[0m\u001b[1;33m,\u001b[0m \u001b[0mindexer\u001b[0m \u001b[1;33m=\u001b[0m \u001b[0mself\u001b[0m\u001b[1;33m.\u001b[0m\u001b[0m_get_listlike_indexer\u001b[0m\u001b[1;33m(\u001b[0m\u001b[0mkey\u001b[0m\u001b[1;33m,\u001b[0m \u001b[0maxis\u001b[0m\u001b[1;33m,\u001b[0m \u001b[0mraise_missing\u001b[0m\u001b[1;33m=\u001b[0m\u001b[1;32mFalse\u001b[0m\u001b[1;33m)\u001b[0m\u001b[1;33m\u001b[0m\u001b[1;33m\u001b[0m\u001b[0m\n\u001b[0m\u001b[0;32m   1595\u001b[0m             return self.obj._reindex_with_indexers(\n\u001b[0;32m   1596\u001b[0m                 \u001b[1;33m{\u001b[0m\u001b[0maxis\u001b[0m\u001b[1;33m:\u001b[0m \u001b[1;33m[\u001b[0m\u001b[0mkeyarr\u001b[0m\u001b[1;33m,\u001b[0m \u001b[0mindexer\u001b[0m\u001b[1;33m]\u001b[0m\u001b[1;33m}\u001b[0m\u001b[1;33m,\u001b[0m \u001b[0mcopy\u001b[0m\u001b[1;33m=\u001b[0m\u001b[1;32mTrue\u001b[0m\u001b[1;33m,\u001b[0m \u001b[0mallow_dups\u001b[0m\u001b[1;33m=\u001b[0m\u001b[1;32mTrue\u001b[0m\u001b[1;33m\u001b[0m\u001b[1;33m\u001b[0m\u001b[0m\n",
      "\u001b[1;32mC:\\ProgramData\\Anaconda3\\lib\\site-packages\\pandas\\core\\indexing.py\u001b[0m in \u001b[0;36m_get_listlike_indexer\u001b[1;34m(self, key, axis, raise_missing)\u001b[0m\n\u001b[0;32m   1550\u001b[0m \u001b[1;33m\u001b[0m\u001b[0m\n\u001b[0;32m   1551\u001b[0m         self._validate_read_indexer(\n\u001b[1;32m-> 1552\u001b[1;33m             \u001b[0mkeyarr\u001b[0m\u001b[1;33m,\u001b[0m \u001b[0mindexer\u001b[0m\u001b[1;33m,\u001b[0m \u001b[0mo\u001b[0m\u001b[1;33m.\u001b[0m\u001b[0m_get_axis_number\u001b[0m\u001b[1;33m(\u001b[0m\u001b[0maxis\u001b[0m\u001b[1;33m)\u001b[0m\u001b[1;33m,\u001b[0m \u001b[0mraise_missing\u001b[0m\u001b[1;33m=\u001b[0m\u001b[0mraise_missing\u001b[0m\u001b[1;33m\u001b[0m\u001b[1;33m\u001b[0m\u001b[0m\n\u001b[0m\u001b[0;32m   1553\u001b[0m         )\n\u001b[0;32m   1554\u001b[0m         \u001b[1;32mreturn\u001b[0m \u001b[0mkeyarr\u001b[0m\u001b[1;33m,\u001b[0m \u001b[0mindexer\u001b[0m\u001b[1;33m\u001b[0m\u001b[1;33m\u001b[0m\u001b[0m\n",
      "\u001b[1;32mC:\\ProgramData\\Anaconda3\\lib\\site-packages\\pandas\\core\\indexing.py\u001b[0m in \u001b[0;36m_validate_read_indexer\u001b[1;34m(self, key, indexer, axis, raise_missing)\u001b[0m\n\u001b[0;32m   1652\u001b[0m             \u001b[1;32mif\u001b[0m \u001b[1;32mnot\u001b[0m \u001b[1;33m(\u001b[0m\u001b[0max\u001b[0m\u001b[1;33m.\u001b[0m\u001b[0mis_categorical\u001b[0m\u001b[1;33m(\u001b[0m\u001b[1;33m)\u001b[0m \u001b[1;32mor\u001b[0m \u001b[0max\u001b[0m\u001b[1;33m.\u001b[0m\u001b[0mis_interval\u001b[0m\u001b[1;33m(\u001b[0m\u001b[1;33m)\u001b[0m\u001b[1;33m)\u001b[0m\u001b[1;33m:\u001b[0m\u001b[1;33m\u001b[0m\u001b[1;33m\u001b[0m\u001b[0m\n\u001b[0;32m   1653\u001b[0m                 raise KeyError(\n\u001b[1;32m-> 1654\u001b[1;33m                     \u001b[1;34m\"Passing list-likes to .loc or [] with any missing labels \"\u001b[0m\u001b[1;33m\u001b[0m\u001b[1;33m\u001b[0m\u001b[0m\n\u001b[0m\u001b[0;32m   1655\u001b[0m                     \u001b[1;34m\"is no longer supported, see \"\u001b[0m\u001b[1;33m\u001b[0m\u001b[1;33m\u001b[0m\u001b[0m\n\u001b[0;32m   1656\u001b[0m                     \u001b[1;34m\"https://pandas.pydata.org/pandas-docs/stable/user_guide/indexing.html#deprecate-loc-reindex-listlike\"\u001b[0m  \u001b[1;31m# noqa:E501\u001b[0m\u001b[1;33m\u001b[0m\u001b[1;33m\u001b[0m\u001b[0m\n",
      "\u001b[1;31mKeyError\u001b[0m: 'Passing list-likes to .loc or [] with any missing labels is no longer supported, see https://pandas.pydata.org/pandas-docs/stable/user_guide/indexing.html#deprecate-loc-reindex-listlike'"
     ]
    }
   ],
   "source": [
    "# Re-arrange variable columns\n",
    "correlation_overview = df_normalized.loc[:, ['Brain drain', 'Security index',  'Fragile State index ', 'Pct Poverty','Perceptions of corruption',\n",
    "                                      'Unemployment rate', 'Physician perpop', 'Substance Abuse', 'Depression & Anxiety',\n",
    "                                      'Pct spent ed', 'Suicide', 'Blue Index', 'Tourist arrivals', 'Average age', \n",
    "                                      'Rev tourism', 'Literacy rate', 'Sleep (min)', 'Generosity', 'Healthy life exp',\n",
    "                                      'Freedom', 'Social support', 'Log GDP', 'Happiness Index' ]]"
   ]
  },
  {
   "cell_type": "code",
   "execution_count": 6,
   "metadata": {},
   "outputs": [
    {
     "ename": "NameError",
     "evalue": "name 'correlation_overview' is not defined",
     "output_type": "error",
     "traceback": [
      "\u001b[1;31m---------------------------------------------------------------------------\u001b[0m",
      "\u001b[1;31mNameError\u001b[0m                                 Traceback (most recent call last)",
      "\u001b[1;32m<ipython-input-6-f670743ec1ba>\u001b[0m in \u001b[0;36m<module>\u001b[1;34m\u001b[0m\n\u001b[0;32m      1\u001b[0m \u001b[1;31m# Dispaly correlation table\u001b[0m\u001b[1;33m\u001b[0m\u001b[1;33m\u001b[0m\u001b[1;33m\u001b[0m\u001b[0m\n\u001b[1;32m----> 2\u001b[1;33m \u001b[0moverview\u001b[0m \u001b[1;33m=\u001b[0m \u001b[0mcorrelation_overview\u001b[0m\u001b[1;33m.\u001b[0m\u001b[0mcorr\u001b[0m\u001b[1;33m(\u001b[0m\u001b[0mmethod\u001b[0m\u001b[1;33m=\u001b[0m\u001b[1;34m'pearson'\u001b[0m\u001b[1;33m)\u001b[0m\u001b[1;33m.\u001b[0m\u001b[0mround\u001b[0m\u001b[1;33m(\u001b[0m\u001b[0mdecimals\u001b[0m\u001b[1;33m=\u001b[0m\u001b[1;36m2\u001b[0m\u001b[1;33m)\u001b[0m\u001b[1;33m\u001b[0m\u001b[1;33m\u001b[0m\u001b[0m\n\u001b[0m\u001b[0;32m      3\u001b[0m \u001b[0moverview\u001b[0m\u001b[1;33m\u001b[0m\u001b[1;33m\u001b[0m\u001b[0m\n",
      "\u001b[1;31mNameError\u001b[0m: name 'correlation_overview' is not defined"
     ]
    }
   ],
   "source": [
    "# Dispaly correlation table\n",
    "overview = correlation_overview.corr(method='pearson').round(decimals=2)\n",
    "overview"
   ]
  },
  {
   "cell_type": "code",
   "execution_count": null,
   "metadata": {},
   "outputs": [],
   "source": [
    "# Plot and display correlation summary heatmap\n",
    "%matplotlib notebook\n",
    "sns.heatmap(overview, \n",
    "            xticklabels=overview.columns,\n",
    "            yticklabels=overview.columns,\n",
    "            cmap='RdPu',#bwr\n",
    "            annot=False,\n",
    "            linewidth=.5)\n",
    "plt.title('Correlations Summary \\n Heat Map \\n ', fontsize= 10)\n",
    "plt.tight_layout()\n",
    "plt.yticks(fontsize=8)\n",
    "plt.xticks(fontsize=8)\n",
    "plt.savefig('../Figures/Correlation Summary Heatmap')\n",
    "plt.show()"
   ]
  },
  {
   "cell_type": "markdown",
   "metadata": {},
   "source": [
    "##  Focus: Impact of Economic Health to Happiness \n",
    "- Log GDP and Unemployment Rate data are correlated with Happiness Index"
   ]
  },
  {
   "cell_type": "code",
   "execution_count": null,
   "metadata": {},
   "outputs": [],
   "source": [
    "# Select Variables Pertaining to Economic Health vs Happiness Index\n",
    "Economic_health_Correlation = df_normalized.loc[:, ['Happiness Index', 'Log GDP', 'Unemployment rate',]]"
   ]
  },
  {
   "cell_type": "code",
   "execution_count": null,
   "metadata": {},
   "outputs": [],
   "source": [
    "# Display correlation table\n",
    "Economic_health_Correlation = Economic_health_Correlation.corr(method='pearson').round(decimals=2)\n",
    "Economic_health_Correlation"
   ]
  },
  {
   "cell_type": "code",
   "execution_count": null,
   "metadata": {},
   "outputs": [],
   "source": [
    "# Plot and display heat map of economic health vs happiness correlations\n",
    "%matplotlib notebook\n",
    "sns.heatmap(Economic_health_Correlation, \n",
    "            xticklabels=Economic_health_Correlation.columns, \n",
    "            yticklabels=Economic_health_Correlation.columns,\n",
    "            cmap='RdPu',#bwr\n",
    "            annot=True,\n",
    "            linewidth=.5)\n",
    "plt.title('Economic Health and Happiness \\n Correlation Heat Map \\n ', fontsize= 10)\n",
    "plt.yticks(rotation=0)\n",
    "plt.tight_layout()\n",
    "plt.savefig('Figures/Economic Health and Happiness Heatmap')\n",
    "plt.show()"
   ]
  },
  {
   "cell_type": "markdown",
   "metadata": {},
   "source": [
    "### Sample Y2017 Data Analysis"
   ]
  },
  {
   "cell_type": "code",
   "execution_count": null,
   "metadata": {},
   "outputs": [],
   "source": [
    "# Load/Read Data\n",
    "pd.set_option('display.max_columns', None)\n",
    "path = \"../Outputs/df_2017.csv\"\n",
    "df_2017 = pd.read_csv(path)\n",
    "# Clean csv\n",
    "del df_2017['Unnamed: 0']\n",
    "df_2017.head(1)"
   ]
  },
  {
   "cell_type": "code",
   "execution_count": null,
   "metadata": {},
   "outputs": [],
   "source": [
    "# Sort and determine Top Countries with Highest Log GDP \n",
    "Top_logGDP = df_2017.loc[:, ['Country name', 'Log GDP', 'Happiness Index']]\n",
    "Top_logGDP.sort_values(['Log GDP'], ascending=False, inplace=True) \n",
    "Top_logGDP.head()"
   ]
  },
  {
   "cell_type": "code",
   "execution_count": null,
   "metadata": {},
   "outputs": [],
   "source": [
    "# Inspect countries with a  High Log GDP but with Low Happiness Index based on a set criteria\n",
    "HighGDP_LowHappy = Top_logGDP[(Top_logGDP[\"Happiness Index\"]<=5.5) \n",
    "                              & (Top_logGDP[\"Log GDP\"]>=10)]\n",
    "HighGDP_LowHappy.sort_values(['Log GDP'], ascending=False, inplace=True)\n",
    "HighGDP_LowHappy.head(10)"
   ]
  },
  {
   "cell_type": "code",
   "execution_count": null,
   "metadata": {},
   "outputs": [],
   "source": [
    "# Sort and determine Top Countries with Highest Unemployment in Y2017\n",
    "Top_Unemployment = df_2017.loc[:, ['Country name', 'Unemployment rate', 'Happiness Index']]\n",
    "Top_Unemployment.sort_values(['Unemployment rate'], ascending=False, inplace=True) \n",
    "Top_Unemployment.head()"
   ]
  },
  {
   "cell_type": "code",
   "execution_count": null,
   "metadata": {},
   "outputs": [],
   "source": [
    "# Inspect Unemployment but with the High Happiness Index based on a set criteria\n",
    "HighUnemployment_HighHappy = Top_Unemployment[(Top_Unemployment[\"Happiness Index\"]>=6) \n",
    "                                              & (Top_Unemployment[\"Unemployment rate\"]>=17)] \n",
    "HighUnemployment_HighHappy.sort_values(['Unemployment rate'], ascending=False, inplace=True)\n",
    "HighUnemployment_HighHappy.head(10)"
   ]
  },
  {
   "cell_type": "markdown",
   "metadata": {},
   "source": [
    "---\n",
    "## Focus: Factors not included in World Happiness Index Report\n",
    "\n",
    "Selected Variables for Analysis, Correlation, and Regression based on Normalized Data:\n",
    "- Tourism Revenue\n",
    "- Average Age\n",
    "- Brain Drain\n",
    "- Security Threat"
   ]
  },
  {
   "cell_type": "markdown",
   "metadata": {},
   "source": [
    "### Tourism Revenue vs Happiness"
   ]
  },
  {
   "cell_type": "code",
   "execution_count": null,
   "metadata": {},
   "outputs": [],
   "source": [
    "# Select variables and check NaN values\n",
    "rev_tourism = df_normalized.loc[:, ['Country name', 'Happiness Index', 'Rev tourism',]]\n",
    "rev_tourism.info()"
   ]
  },
  {
   "cell_type": "code",
   "execution_count": null,
   "metadata": {},
   "outputs": [],
   "source": [
    "# Calculate mean to replace NaN\n",
    "rev_tourism.mean()"
   ]
  },
  {
   "cell_type": "code",
   "execution_count": null,
   "metadata": {},
   "outputs": [],
   "source": [
    "# Fill in mean values and re-check info\n",
    "fill_rev_tourism = rev_tourism.fillna(rev_tourism.mean())\n",
    "fill_rev_tourism.info()"
   ]
  },
  {
   "cell_type": "code",
   "execution_count": null,
   "metadata": {},
   "outputs": [],
   "source": [
    "# Display scatter plot, correlation & linear equation\n",
    "linregres_func(fill_rev_tourism[\"Rev tourism\"], fill_rev_tourism[\"Happiness Index\"], 'Rev tourism', 'Happiness Index', 0.4, 0.2, 'RevTourism vs Happiness.png')"
   ]
  },
  {
   "cell_type": "markdown",
   "metadata": {},
   "source": [
    "---\n",
    "### Average Age  vs Happiness"
   ]
  },
  {
   "cell_type": "code",
   "execution_count": null,
   "metadata": {},
   "outputs": [],
   "source": [
    "# Select variables and check NaN values\n",
    "Average_Age = df_normalized.loc[:, ['Country name', 'Happiness Index', 'Average Age']]\n",
    "Average_Age.info()"
   ]
  },
  {
   "cell_type": "code",
   "execution_count": null,
   "metadata": {},
   "outputs": [],
   "source": [
    "# Calculate mean to replace NaN\n",
    "Average_Age.mean()"
   ]
  },
  {
   "cell_type": "code",
   "execution_count": null,
   "metadata": {},
   "outputs": [],
   "source": [
    "# Fill in mean values and re-check info\n",
    "fill_Average_Age = Average_Age.fillna(Average_Age.mean())\n",
    "fill_Average_Age.info()"
   ]
  },
  {
   "cell_type": "code",
   "execution_count": null,
   "metadata": {},
   "outputs": [],
   "source": [
    "# Display scatter plot, correlation & linear equation\n",
    "linregres_func(fill_Average_Age[\"Average Age\"], fill_Average_Age[\"Happiness Index\"], 'Average Age', 'Happiness Index', 0.6, 0.19, 'Average Age vs Happiness.png')"
   ]
  },
  {
   "cell_type": "markdown",
   "metadata": {},
   "source": [
    "---\n",
    "### Brain Drain vs Happiness"
   ]
  },
  {
   "cell_type": "code",
   "execution_count": null,
   "metadata": {},
   "outputs": [],
   "source": [
    "# Select variables and check NaN values\n",
    "brain_drain = df_normalized.loc[:, ['Country name', 'Happiness Index', 'brain drain',]]\n",
    "brain_drain.info()"
   ]
  },
  {
   "cell_type": "code",
   "execution_count": null,
   "metadata": {},
   "outputs": [],
   "source": [
    "# Calculate mean to replace NaN\n",
    "brain_drain.mean()"
   ]
  },
  {
   "cell_type": "code",
   "execution_count": null,
   "metadata": {},
   "outputs": [],
   "source": [
    "# Fill in mean values and re-check info\n",
    "fill_brain_drain = brain_drain.fillna(brain_drain.mean())\n",
    "fill_brain_drain.info()"
   ]
  },
  {
   "cell_type": "code",
   "execution_count": null,
   "metadata": {},
   "outputs": [],
   "source": [
    "# Display scatter plot, correlation & linear equation\n",
    "linregres_func(fill_brain_drain[\"brain drain\"], fill_brain_drain[\"Happiness Index\"], 'Brain Drain', 'Happiness Index', 0.1, 0.3, 'Brain drain vs Happiness.png')"
   ]
  },
  {
   "cell_type": "markdown",
   "metadata": {},
   "source": [
    "### Security Threat vs Happiness"
   ]
  },
  {
   "cell_type": "code",
   "execution_count": null,
   "metadata": {},
   "outputs": [],
   "source": [
    "# Select variables and check NaN values\n",
    "Security_index = df_normalized.loc[:, ['Country name', 'Happiness Index', 'Security index',]]\n",
    "Security_index.info()"
   ]
  },
  {
   "cell_type": "code",
   "execution_count": null,
   "metadata": {},
   "outputs": [],
   "source": [
    "# Calculate mean to replace NaN\n",
    "Security_index.mean()"
   ]
  },
  {
   "cell_type": "code",
   "execution_count": null,
   "metadata": {},
   "outputs": [],
   "source": [
    "# Fill in mean values and re-check info\n",
    "fill_Security_index = Security_index.fillna(Security_index.mean())\n",
    "fill_Security_index.info()"
   ]
  },
  {
   "cell_type": "code",
   "execution_count": null,
   "metadata": {},
   "outputs": [],
   "source": [
    "# Display scatter plot, correlation & linear equation\n",
    "linregres_func(fill_Security_index[\"Security index\"], fill_brain_drain[\"Happiness Index\"], 'Security Threat', 'Happiness Index', 0.1, 0.35, 'Security Threat vs Happiness.png')"
   ]
  }
 ],
 "metadata": {
  "kernelspec": {
   "display_name": "Python 3",
   "language": "python",
   "name": "python3"
  },
  "language_info": {
   "codemirror_mode": {
    "name": "ipython",
    "version": 3
   },
   "file_extension": ".py",
   "mimetype": "text/x-python",
   "name": "python",
   "nbconvert_exporter": "python",
   "pygments_lexer": "ipython3",
   "version": "3.7.6"
  }
 },
 "nbformat": 4,
 "nbformat_minor": 4
}
