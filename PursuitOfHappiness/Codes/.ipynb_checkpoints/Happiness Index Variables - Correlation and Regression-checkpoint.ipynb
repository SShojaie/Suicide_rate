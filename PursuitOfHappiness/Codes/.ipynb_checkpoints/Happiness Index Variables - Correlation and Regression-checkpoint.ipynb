{
 "cells": [
  {
   "cell_type": "code",
   "execution_count": 17,
   "metadata": {},
   "outputs": [],
   "source": [
    "# Dependencies\n",
    "import csv\n",
    "import pandas as pd\n",
    "import numpy as np\n",
    "import matplotlib.pyplot as plt\n",
    "from scipy.stats import linregress\n",
    "from functools import reduce"
   ]
  },
  {
   "cell_type": "markdown",
   "metadata": {},
   "source": [
    "#### World Happiness Index Report - Correlation of Variables (Y2017)"
   ]
  },
  {
   "cell_type": "code",
   "execution_count": 18,
   "metadata": {},
   "outputs": [],
   "source": [
    "# Load/Read Happiness Index or Ladder Score\n",
    "New_HappyIndex_mx = \"../Outputs/New_HI0_mx.csv\"\n",
    "happiness_index = pd.read_csv(New_HappyIndex_mx)\n",
    "# happiness_index.head(1)"
   ]
  },
  {
   "cell_type": "code",
   "execution_count": 19,
   "metadata": {},
   "outputs": [],
   "source": [
    "# Filter year 2017 and rename variable column for analysis\n",
    "filter_2017 = happiness_index.drop(labels=['2007', '2008', '2009', '2010', '2011', '2012', '2013', '2014',\n",
    "                                             '2015', '2016'], axis=1)\n",
    "happiness_2017 = filter_2017.rename(columns={'2017': 'Happiness Index'})"
   ]
  },
  {
   "cell_type": "markdown",
   "metadata": {},
   "source": [
    "#### GDP per capita"
   ]
  },
  {
   "cell_type": "code",
   "execution_count": 20,
   "metadata": {},
   "outputs": [],
   "source": [
    "# Load/Read Log GDP per Capita\n",
    "New_HI1_mx = \"../Outputs/New_HI1_mx.csv\"\n",
    "gdp = pd.read_csv(New_HI1_mx)"
   ]
  },
  {
   "cell_type": "code",
   "execution_count": 21,
   "metadata": {},
   "outputs": [],
   "source": [
    "# Filter year 2017 and rename variable column for analysis\n",
    "gdp_filter2017 = gdp.drop(labels=['2007', '2008', '2009', '2010', '2011', '2012', '2013', '2014',\n",
    "                            '2015', '2016'], axis=1)\n",
    "gdp_2017 = gdp_filter2017.rename(columns={'2017': 'GDP'})"
   ]
  },
  {
   "cell_type": "markdown",
   "metadata": {},
   "source": [
    "#### Social Support"
   ]
  },
  {
   "cell_type": "code",
   "execution_count": 22,
   "metadata": {},
   "outputs": [],
   "source": [
    "# Load/Read Social Support\n",
    "New_HI2_mx = \"../Outputs/New_HI2_mx.csv\"\n",
    "social_support = pd.read_csv(New_HI2_mx)"
   ]
  },
  {
   "cell_type": "code",
   "execution_count": 23,
   "metadata": {},
   "outputs": [],
   "source": [
    "# Filter year 2017 and rename variable column for analysis\n",
    "social_filter2017 = social_support.drop(labels=['2007', '2008', '2009', '2010', '2011', '2012', '2013', '2014',\n",
    "                            '2015', '2016'], axis=1)\n",
    "social_support2017 = social_filter2017.rename(columns={'2017': 'Social Support'})"
   ]
  },
  {
   "cell_type": "markdown",
   "metadata": {},
   "source": [
    "#### Life Expectancy at Birth"
   ]
  },
  {
   "cell_type": "code",
   "execution_count": 24,
   "metadata": {},
   "outputs": [],
   "source": [
    "# Load/Read Health life expectancy at birth\n",
    "New_HI3_mx = \"../Outputs/New_HI3_mx.csv\"\n",
    "life_expectancy = pd.read_csv(New_HI3_mx)"
   ]
  },
  {
   "cell_type": "code",
   "execution_count": 25,
   "metadata": {},
   "outputs": [],
   "source": [
    "# Filter year 2017 and rename variable column for analysis\n",
    "life_filter2017 = life_expectancy.drop(labels=['2007', '2008', '2009', '2010', '2011', '2012', '2013', '2014',\n",
    "                            '2015', '2016'], axis=1)\n",
    "life_expectancy2017 = life_filter2017.rename(columns={'2017': 'Life Expectancy'})"
   ]
  },
  {
   "cell_type": "markdown",
   "metadata": {},
   "source": [
    "#### Freedom to make life choices"
   ]
  },
  {
   "cell_type": "code",
   "execution_count": 26,
   "metadata": {},
   "outputs": [],
   "source": [
    "# Load/Read Freedom to make life choices\n",
    "New_HI4_mx = \"../Outputs/New_HI4_mx.csv\"\n",
    "freedom = pd.read_csv(New_HI4_mx)"
   ]
  },
  {
   "cell_type": "code",
   "execution_count": 27,
   "metadata": {},
   "outputs": [],
   "source": [
    "# Filter year 2017 and rename variable column for analysis\n",
    "freedom_filter2017 = freedom.drop(labels=['2007', '2008', '2009', '2010', '2011', '2012', '2013', '2014',\n",
    "                            '2015', '2016'], axis=1)\n",
    "freedom_2017 = freedom_filter2017.rename(columns={'2017': 'Freedom'})"
   ]
  },
  {
   "cell_type": "markdown",
   "metadata": {},
   "source": [
    "#### Generosity"
   ]
  },
  {
   "cell_type": "code",
   "execution_count": 28,
   "metadata": {},
   "outputs": [],
   "source": [
    "# Load/Read Generosity\n",
    "New_HI5_mx = \"../Outputs/New_HI5_mx.csv\"\n",
    "generosity = pd.read_csv(New_HI5_mx)"
   ]
  },
  {
   "cell_type": "code",
   "execution_count": 29,
   "metadata": {},
   "outputs": [],
   "source": [
    "# Filter year 2017 and rename variable column for analysis\n",
    "generosity_filter2017 = generosity.drop(labels=['2007', '2008', '2009', '2010', '2011', '2012', '2013', '2014',\n",
    "                            '2015', '2016'], axis=1)\n",
    "generosity_2017 = generosity_filter2017.rename(columns={'2017': 'Generosity'})"
   ]
  },
  {
   "cell_type": "markdown",
   "metadata": {},
   "source": [
    "#### Perceptions of Corruption"
   ]
  },
  {
   "cell_type": "code",
   "execution_count": 30,
   "metadata": {},
   "outputs": [],
   "source": [
    "# Load/Read Perceptions of Corruption\n",
    "New_HI6_mx = \"../Outputs/New_HI6_mx.csv\"\n",
    "perceptions_of_corruption = pd.read_csv(New_HI6_mx)"
   ]
  },
  {
   "cell_type": "code",
   "execution_count": 31,
   "metadata": {},
   "outputs": [],
   "source": [
    "# Filter year 2017 and rename variable column for analysis\n",
    "corruption_filter2017 = perceptions_of_corruption.drop(labels=['2007', '2008', '2009', '2010', '2011', '2012', '2013', '2014',\n",
    "                            '2015', '2016'], axis=1)\n",
    "perceptions_corruption2017 = corruption_filter2017.rename(columns={'2017': 'Perceptions of Corruption'})"
   ]
  },
  {
   "cell_type": "markdown",
   "metadata": {},
   "source": [
    "### Consolidated Y2017 Data for Correlations"
   ]
  },
  {
   "cell_type": "code",
   "execution_count": 32,
   "metadata": {
    "scrolled": true
   },
   "outputs": [
    {
     "ename": "KeyError",
     "evalue": "'Country name'",
     "output_type": "error",
     "traceback": [
      "\u001b[1;31m---------------------------------------------------------------------------\u001b[0m",
      "\u001b[1;31mKeyError\u001b[0m                                  Traceback (most recent call last)",
      "\u001b[1;32m<ipython-input-32-09b4fd7b2a3b>\u001b[0m in \u001b[0;36m<module>\u001b[1;34m\u001b[0m\n\u001b[0;32m      2\u001b[0m data_sets = [happiness_2017, gdp_2017, social_support2017, life_expectancy2017, \n\u001b[0;32m      3\u001b[0m              freedom_2017, generosity_2017, perceptions_corruption2017]\n\u001b[1;32m----> 4\u001b[1;33m \u001b[0mall_2017\u001b[0m \u001b[1;33m=\u001b[0m \u001b[0mreduce\u001b[0m\u001b[1;33m(\u001b[0m\u001b[1;32mlambda\u001b[0m \u001b[0mleft\u001b[0m\u001b[1;33m,\u001b[0m\u001b[0mright\u001b[0m\u001b[1;33m:\u001b[0m \u001b[0mpd\u001b[0m\u001b[1;33m.\u001b[0m\u001b[0mmerge\u001b[0m\u001b[1;33m(\u001b[0m\u001b[0mleft\u001b[0m\u001b[1;33m,\u001b[0m\u001b[0mright\u001b[0m\u001b[1;33m,\u001b[0m\u001b[0mon\u001b[0m\u001b[1;33m=\u001b[0m\u001b[1;34m'Country name'\u001b[0m\u001b[1;33m)\u001b[0m\u001b[1;33m,\u001b[0m \u001b[0mdata_sets\u001b[0m\u001b[1;33m)\u001b[0m\u001b[1;33m\u001b[0m\u001b[1;33m\u001b[0m\u001b[0m\n\u001b[0m\u001b[0;32m      5\u001b[0m \u001b[0mall_2017\u001b[0m\u001b[1;33m.\u001b[0m\u001b[0mhead\u001b[0m\u001b[1;33m(\u001b[0m\u001b[1;36m10\u001b[0m\u001b[1;33m)\u001b[0m\u001b[1;33m\u001b[0m\u001b[1;33m\u001b[0m\u001b[0m\n",
      "\u001b[1;32m<ipython-input-32-09b4fd7b2a3b>\u001b[0m in \u001b[0;36m<lambda>\u001b[1;34m(left, right)\u001b[0m\n\u001b[0;32m      2\u001b[0m data_sets = [happiness_2017, gdp_2017, social_support2017, life_expectancy2017, \n\u001b[0;32m      3\u001b[0m              freedom_2017, generosity_2017, perceptions_corruption2017]\n\u001b[1;32m----> 4\u001b[1;33m \u001b[0mall_2017\u001b[0m \u001b[1;33m=\u001b[0m \u001b[0mreduce\u001b[0m\u001b[1;33m(\u001b[0m\u001b[1;32mlambda\u001b[0m \u001b[0mleft\u001b[0m\u001b[1;33m,\u001b[0m\u001b[0mright\u001b[0m\u001b[1;33m:\u001b[0m \u001b[0mpd\u001b[0m\u001b[1;33m.\u001b[0m\u001b[0mmerge\u001b[0m\u001b[1;33m(\u001b[0m\u001b[0mleft\u001b[0m\u001b[1;33m,\u001b[0m\u001b[0mright\u001b[0m\u001b[1;33m,\u001b[0m\u001b[0mon\u001b[0m\u001b[1;33m=\u001b[0m\u001b[1;34m'Country name'\u001b[0m\u001b[1;33m)\u001b[0m\u001b[1;33m,\u001b[0m \u001b[0mdata_sets\u001b[0m\u001b[1;33m)\u001b[0m\u001b[1;33m\u001b[0m\u001b[1;33m\u001b[0m\u001b[0m\n\u001b[0m\u001b[0;32m      5\u001b[0m \u001b[0mall_2017\u001b[0m\u001b[1;33m.\u001b[0m\u001b[0mhead\u001b[0m\u001b[1;33m(\u001b[0m\u001b[1;36m10\u001b[0m\u001b[1;33m)\u001b[0m\u001b[1;33m\u001b[0m\u001b[1;33m\u001b[0m\u001b[0m\n",
      "\u001b[1;32mC:\\ProgramData\\Anaconda3\\lib\\site-packages\\pandas\\core\\reshape\\merge.py\u001b[0m in \u001b[0;36mmerge\u001b[1;34m(left, right, how, on, left_on, right_on, left_index, right_index, sort, suffixes, copy, indicator, validate)\u001b[0m\n\u001b[0;32m     84\u001b[0m         \u001b[0mcopy\u001b[0m\u001b[1;33m=\u001b[0m\u001b[0mcopy\u001b[0m\u001b[1;33m,\u001b[0m\u001b[1;33m\u001b[0m\u001b[1;33m\u001b[0m\u001b[0m\n\u001b[0;32m     85\u001b[0m         \u001b[0mindicator\u001b[0m\u001b[1;33m=\u001b[0m\u001b[0mindicator\u001b[0m\u001b[1;33m,\u001b[0m\u001b[1;33m\u001b[0m\u001b[1;33m\u001b[0m\u001b[0m\n\u001b[1;32m---> 86\u001b[1;33m         \u001b[0mvalidate\u001b[0m\u001b[1;33m=\u001b[0m\u001b[0mvalidate\u001b[0m\u001b[1;33m,\u001b[0m\u001b[1;33m\u001b[0m\u001b[1;33m\u001b[0m\u001b[0m\n\u001b[0m\u001b[0;32m     87\u001b[0m     )\n\u001b[0;32m     88\u001b[0m     \u001b[1;32mreturn\u001b[0m \u001b[0mop\u001b[0m\u001b[1;33m.\u001b[0m\u001b[0mget_result\u001b[0m\u001b[1;33m(\u001b[0m\u001b[1;33m)\u001b[0m\u001b[1;33m\u001b[0m\u001b[1;33m\u001b[0m\u001b[0m\n",
      "\u001b[1;32mC:\\ProgramData\\Anaconda3\\lib\\site-packages\\pandas\\core\\reshape\\merge.py\u001b[0m in \u001b[0;36m__init__\u001b[1;34m(self, left, right, how, on, left_on, right_on, axis, left_index, right_index, sort, suffixes, copy, indicator, validate)\u001b[0m\n\u001b[0;32m    625\u001b[0m             \u001b[0mself\u001b[0m\u001b[1;33m.\u001b[0m\u001b[0mright_join_keys\u001b[0m\u001b[1;33m,\u001b[0m\u001b[1;33m\u001b[0m\u001b[1;33m\u001b[0m\u001b[0m\n\u001b[0;32m    626\u001b[0m             \u001b[0mself\u001b[0m\u001b[1;33m.\u001b[0m\u001b[0mjoin_names\u001b[0m\u001b[1;33m,\u001b[0m\u001b[1;33m\u001b[0m\u001b[1;33m\u001b[0m\u001b[0m\n\u001b[1;32m--> 627\u001b[1;33m         ) = self._get_merge_keys()\n\u001b[0m\u001b[0;32m    628\u001b[0m \u001b[1;33m\u001b[0m\u001b[0m\n\u001b[0;32m    629\u001b[0m         \u001b[1;31m# validate the merge keys dtypes. We may need to coerce\u001b[0m\u001b[1;33m\u001b[0m\u001b[1;33m\u001b[0m\u001b[1;33m\u001b[0m\u001b[0m\n",
      "\u001b[1;32mC:\\ProgramData\\Anaconda3\\lib\\site-packages\\pandas\\core\\reshape\\merge.py\u001b[0m in \u001b[0;36m_get_merge_keys\u001b[1;34m(self)\u001b[0m\n\u001b[0;32m    981\u001b[0m                     \u001b[1;32mif\u001b[0m \u001b[1;32mnot\u001b[0m \u001b[0mis_rkey\u001b[0m\u001b[1;33m(\u001b[0m\u001b[0mrk\u001b[0m\u001b[1;33m)\u001b[0m\u001b[1;33m:\u001b[0m\u001b[1;33m\u001b[0m\u001b[1;33m\u001b[0m\u001b[0m\n\u001b[0;32m    982\u001b[0m                         \u001b[1;32mif\u001b[0m \u001b[0mrk\u001b[0m \u001b[1;32mis\u001b[0m \u001b[1;32mnot\u001b[0m \u001b[1;32mNone\u001b[0m\u001b[1;33m:\u001b[0m\u001b[1;33m\u001b[0m\u001b[1;33m\u001b[0m\u001b[0m\n\u001b[1;32m--> 983\u001b[1;33m                             \u001b[0mright_keys\u001b[0m\u001b[1;33m.\u001b[0m\u001b[0mappend\u001b[0m\u001b[1;33m(\u001b[0m\u001b[0mright\u001b[0m\u001b[1;33m.\u001b[0m\u001b[0m_get_label_or_level_values\u001b[0m\u001b[1;33m(\u001b[0m\u001b[0mrk\u001b[0m\u001b[1;33m)\u001b[0m\u001b[1;33m)\u001b[0m\u001b[1;33m\u001b[0m\u001b[1;33m\u001b[0m\u001b[0m\n\u001b[0m\u001b[0;32m    984\u001b[0m                         \u001b[1;32melse\u001b[0m\u001b[1;33m:\u001b[0m\u001b[1;33m\u001b[0m\u001b[1;33m\u001b[0m\u001b[0m\n\u001b[0;32m    985\u001b[0m                             \u001b[1;31m# work-around for merge_asof(right_index=True)\u001b[0m\u001b[1;33m\u001b[0m\u001b[1;33m\u001b[0m\u001b[1;33m\u001b[0m\u001b[0m\n",
      "\u001b[1;32mC:\\ProgramData\\Anaconda3\\lib\\site-packages\\pandas\\core\\generic.py\u001b[0m in \u001b[0;36m_get_label_or_level_values\u001b[1;34m(self, key, axis)\u001b[0m\n\u001b[0;32m   1690\u001b[0m             \u001b[0mvalues\u001b[0m \u001b[1;33m=\u001b[0m \u001b[0mself\u001b[0m\u001b[1;33m.\u001b[0m\u001b[0maxes\u001b[0m\u001b[1;33m[\u001b[0m\u001b[0maxis\u001b[0m\u001b[1;33m]\u001b[0m\u001b[1;33m.\u001b[0m\u001b[0mget_level_values\u001b[0m\u001b[1;33m(\u001b[0m\u001b[0mkey\u001b[0m\u001b[1;33m)\u001b[0m\u001b[1;33m.\u001b[0m\u001b[0m_values\u001b[0m\u001b[1;33m\u001b[0m\u001b[1;33m\u001b[0m\u001b[0m\n\u001b[0;32m   1691\u001b[0m         \u001b[1;32melse\u001b[0m\u001b[1;33m:\u001b[0m\u001b[1;33m\u001b[0m\u001b[1;33m\u001b[0m\u001b[0m\n\u001b[1;32m-> 1692\u001b[1;33m             \u001b[1;32mraise\u001b[0m \u001b[0mKeyError\u001b[0m\u001b[1;33m(\u001b[0m\u001b[0mkey\u001b[0m\u001b[1;33m)\u001b[0m\u001b[1;33m\u001b[0m\u001b[1;33m\u001b[0m\u001b[0m\n\u001b[0m\u001b[0;32m   1693\u001b[0m \u001b[1;33m\u001b[0m\u001b[0m\n\u001b[0;32m   1694\u001b[0m         \u001b[1;31m# Check for duplicates\u001b[0m\u001b[1;33m\u001b[0m\u001b[1;33m\u001b[0m\u001b[1;33m\u001b[0m\u001b[0m\n",
      "\u001b[1;31mKeyError\u001b[0m: 'Country name'"
     ]
    }
   ],
   "source": [
    "#from functools import reduce\n",
    "data_sets = [happiness_2017, gdp_2017, social_support2017, life_expectancy2017, \n",
    "             freedom_2017, generosity_2017, perceptions_corruption2017]\n",
    "all_2017 = reduce(lambda left,right: pd.merge(left,right,on='Country name'), data_sets)\n",
    "all_2017.head(10)"
   ]
  },
  {
   "cell_type": "markdown",
   "metadata": {},
   "source": [
    "# Correlation "
   ]
  },
  {
   "cell_type": "code",
   "execution_count": 35,
   "metadata": {},
   "outputs": [
    {
     "ename": "NameError",
     "evalue": "name 'all_2017' is not defined",
     "output_type": "error",
     "traceback": [
      "\u001b[1;31m---------------------------------------------------------------------------\u001b[0m",
      "\u001b[1;31mNameError\u001b[0m                                 Traceback (most recent call last)",
      "\u001b[1;32m<ipython-input-35-c7de4452d273>\u001b[0m in \u001b[0;36m<module>\u001b[1;34m\u001b[0m\n\u001b[0;32m      1\u001b[0m \u001b[1;31m# Determine Top countries by Happiness Index\u001b[0m\u001b[1;33m\u001b[0m\u001b[1;33m\u001b[0m\u001b[1;33m\u001b[0m\u001b[0m\n\u001b[1;32m----> 2\u001b[1;33m \u001b[0mtop_10_happy_countries\u001b[0m \u001b[1;33m=\u001b[0m \u001b[0mall_2017\u001b[0m\u001b[1;33m.\u001b[0m\u001b[0msort_values\u001b[0m\u001b[1;33m(\u001b[0m\u001b[1;33m[\u001b[0m\u001b[1;34m'Happiness Index'\u001b[0m\u001b[1;33m]\u001b[0m\u001b[1;33m,\u001b[0m \u001b[0mascending\u001b[0m\u001b[1;33m=\u001b[0m\u001b[1;32mFalse\u001b[0m\u001b[1;33m)\u001b[0m\u001b[1;33m\u001b[0m\u001b[1;33m\u001b[0m\u001b[0m\n\u001b[0m\u001b[0;32m      3\u001b[0m \u001b[0mslice_columns\u001b[0m \u001b[1;33m=\u001b[0m \u001b[1;33m[\u001b[0m\u001b[1;36m2\u001b[0m\u001b[1;33m,\u001b[0m \u001b[1;36m3\u001b[0m\u001b[1;33m,\u001b[0m \u001b[1;36m4\u001b[0m\u001b[1;33m,\u001b[0m \u001b[1;36m5\u001b[0m\u001b[1;33m,\u001b[0m \u001b[1;36m6\u001b[0m\u001b[1;33m,\u001b[0m \u001b[1;36m7\u001b[0m\u001b[1;33m]\u001b[0m\u001b[1;33m\u001b[0m\u001b[1;33m\u001b[0m\u001b[0m\n\u001b[0;32m      4\u001b[0m \u001b[0mtop_10_happy_countries\u001b[0m\u001b[1;33m.\u001b[0m\u001b[0mdrop\u001b[0m\u001b[1;33m(\u001b[0m\u001b[0mtop_10_happy_countries\u001b[0m\u001b[1;33m.\u001b[0m\u001b[0mcolumns\u001b[0m\u001b[1;33m[\u001b[0m\u001b[0mslice_columns\u001b[0m\u001b[1;33m]\u001b[0m\u001b[1;33m,\u001b[0m \u001b[0maxis\u001b[0m\u001b[1;33m=\u001b[0m\u001b[1;36m1\u001b[0m\u001b[1;33m,\u001b[0m \u001b[0minplace\u001b[0m\u001b[1;33m=\u001b[0m\u001b[1;32mTrue\u001b[0m\u001b[1;33m)\u001b[0m\u001b[1;33m\u001b[0m\u001b[1;33m\u001b[0m\u001b[0m\n\u001b[0;32m      5\u001b[0m \u001b[0mtop_10_happy_countries\u001b[0m\u001b[1;33m.\u001b[0m\u001b[0mhead\u001b[0m\u001b[1;33m(\u001b[0m\u001b[1;36m10\u001b[0m\u001b[1;33m)\u001b[0m\u001b[1;33m\u001b[0m\u001b[1;33m\u001b[0m\u001b[0m\n",
      "\u001b[1;31mNameError\u001b[0m: name 'all_2017' is not defined"
     ]
    }
   ],
   "source": [
    "# Determine Top countries by Happiness Index\n",
    "top_10_happy_countries = all_2017.sort_values(['Happiness Index'], ascending=False) \n",
    "slice_columns = [2, 3, 4, 5, 6, 7]\n",
    "top_10_happy_countries.drop(top_10_happy_countries.columns[slice_columns], axis=1, inplace=True)\n",
    "top_10_happy_countries.head(10)"
   ]
  },
  {
   "cell_type": "markdown",
   "metadata": {},
   "source": [
    "### GDP vs Happiness"
   ]
  },
  {
   "cell_type": "code",
   "execution_count": 36,
   "metadata": {},
   "outputs": [
    {
     "ename": "NameError",
     "evalue": "name 'all_2017' is not defined",
     "output_type": "error",
     "traceback": [
      "\u001b[1;31m---------------------------------------------------------------------------\u001b[0m",
      "\u001b[1;31mNameError\u001b[0m                                 Traceback (most recent call last)",
      "\u001b[1;32m<ipython-input-36-f7158de49a80>\u001b[0m in \u001b[0;36m<module>\u001b[1;34m\u001b[0m\n\u001b[1;32m----> 1\u001b[1;33m plt.scatter(all_2017['GDP'],all_2017['Happiness Index'],marker='o', c='maroon',\n\u001b[0m\u001b[0;32m      2\u001b[0m             edgecolor= 'lightskyblue', alpha=0.70, s=50)\n\u001b[0;32m      3\u001b[0m \u001b[0mplt\u001b[0m\u001b[1;33m.\u001b[0m\u001b[0mtitle\u001b[0m\u001b[1;33m(\u001b[0m\u001b[1;34mf\"Figure : GDP vs. Happiness \\n Y2017\"\u001b[0m\u001b[1;33m)\u001b[0m\u001b[1;33m\u001b[0m\u001b[1;33m\u001b[0m\u001b[0m\n\u001b[0;32m      4\u001b[0m \u001b[0mplt\u001b[0m\u001b[1;33m.\u001b[0m\u001b[0mxlabel\u001b[0m\u001b[1;33m(\u001b[0m\u001b[1;34mf\"GDP Per Capita\"\u001b[0m\u001b[1;33m)\u001b[0m\u001b[1;33m\u001b[0m\u001b[1;33m\u001b[0m\u001b[0m\n\u001b[0;32m      5\u001b[0m \u001b[0mplt\u001b[0m\u001b[1;33m.\u001b[0m\u001b[0mylabel\u001b[0m\u001b[1;33m(\u001b[0m\u001b[1;34mf\"Happiness Index\"\u001b[0m\u001b[1;33m)\u001b[0m\u001b[1;33m\u001b[0m\u001b[1;33m\u001b[0m\u001b[0m\n",
      "\u001b[1;31mNameError\u001b[0m: name 'all_2017' is not defined"
     ]
    }
   ],
   "source": [
    "plt.scatter(all_2017['GDP'],all_2017['Happiness Index'],marker='o', c='maroon',\n",
    "            edgecolor= 'lightskyblue', alpha=0.70, s=50)\n",
    "plt.title(f\"Figure : GDP vs. Happiness \\n Y2017\")\n",
    "plt.xlabel(f\"GDP Per Capita\")\n",
    "plt.ylabel(f\"Happiness Index\")\n",
    "plt.grid(True)\n",
    "plt.tight_layout\n",
    "# plt.savefig('../Fig_GDPvsHappiness.png')\n",
    "plt.show()"
   ]
  },
  {
   "cell_type": "code",
   "execution_count": null,
   "metadata": {},
   "outputs": [],
   "source": [
    "# Determine Top countries by GDP\n",
    "top_10_GDP = all_2017.sort_values(['GDP'], ascending=False) \n",
    "slice_columns = [3, 4, 5, 6, 7]\n",
    "top_10_GDP.drop(top_10_GDP.columns[slice_columns], axis=1, inplace=True)\n",
    "top_10_GDP.head(10)"
   ]
  },
  {
   "cell_type": "code",
   "execution_count": null,
   "metadata": {},
   "outputs": [],
   "source": [
    "# Determine Bottom countries by GDP\n",
    "bottom_10_GDP = all_2017.sort_values(['GDP'], ascending=True) \n",
    "slice_columns = [3, 4, 5, 6, 7]\n",
    "bottom_10_GDP.drop(bottom_10_GDP.columns[slice_columns], axis=1, inplace=True)\n",
    "bottom_10_GDP.head(10)"
   ]
  },
  {
   "cell_type": "code",
   "execution_count": null,
   "metadata": {},
   "outputs": [],
   "source": [
    "# Inspect for Low Happiness but Higher GDP outlier countries within a set criteria for analysis\n",
    "outlier_gdp= all_2017[(all_2017[\"Happiness Index\"]<=6) & (all_2017[\"GDP\"] >=10)] \n",
    "slice_columns = [3, 4, 5, 6, 7]\n",
    "outlier_gdp.drop(outlier_gdp.columns[slice_columns], axis=1, inplace=True)\n",
    "# Sort by greatest gdp\n",
    "LowHappy_HighGDP = outlier_gdp.sort_values(['GDP', 'Happiness Index'], ascending=[False, False]) \n",
    "# LowHappy_HighGDP.to_csv('LowHappy_HighGDP_2017.csv')\n",
    "LowHappy_HighGDP"
   ]
  },
  {
   "cell_type": "code",
   "execution_count": null,
   "metadata": {},
   "outputs": [],
   "source": [
    "# Lowest happiness index country (within set criteria of outliers) but high GDP \n",
    "LowHappy_HighGDP.loc[LowHappy_HighGDP['Happiness Index'].idxmin()]"
   ]
  },
  {
   "cell_type": "code",
   "execution_count": null,
   "metadata": {},
   "outputs": [],
   "source": [
    "# Greatest GDP (within set criteria of outliers) but fairly low happiness \n",
    "LowHappy_HighGDP.loc[LowHappy_HighGDP['GDP'].idxmax()]"
   ]
  },
  {
   "cell_type": "code",
   "execution_count": null,
   "metadata": {},
   "outputs": [],
   "source": [
    "# Inspect for High Happiness but lower GDP outliers \n",
    "HighHappy_lowGDP = outlier_gdp.sort_values(['Happiness Index'], ascending=False)\n",
    "HighHappy_LowGDP = HighHappy_lowGDP[(HighHappy_lowGDP['Happiness Index']>=5.5) & (HighHappy_lowGDP['GDP']<=10.5)]\n",
    "# LowHappy_HighGDP.to_csv('LowHappy_HighGDP_2017.csv')\n",
    "HighHappy_LowGDP"
   ]
  },
  {
   "cell_type": "markdown",
   "metadata": {},
   "source": [
    "#### Observations: \n",
    "* Interesting countries \n",
    "---\n",
    "    (Low Happiness, High GDP) : \"Greece, Hong Kong????\" +  South Korea, Russia, Croatia, Hungary  ?\n",
    "    (High Happiness, Low GDP) : "
   ]
  },
  {
   "cell_type": "markdown",
   "metadata": {},
   "source": [
    "* Correlation Coefficient & Linear Regression"
   ]
  },
  {
   "cell_type": "code",
   "execution_count": null,
   "metadata": {},
   "outputs": [],
   "source": [
    "def linregres_func(x_values, y_values, x_label, y_label, ann_horizontal, ann_vertical): # savefile\n",
    "                                                                            \n",
    "    (slope, intercept, rvalue, pvalue, stderr) = linregress(x_values, y_values)\n",
    "    \n",
    "    regress_values = x_values * slope + intercept\n",
    "    eq_line = \"y = \" + str(round(slope,2)) + \"x + \" + str(round(intercept,2))\n",
    "    \n",
    "    plt.scatter(x_values, y_values, c='lightskyblue', edgecolor='maroon')\n",
    "    plt.plot(x_values, regress_values, 'r-')\n",
    "    plt.annotate(eq_line, (ann_horizontal, ann_vertical), fontsize=11, color='red')\n",
    "    plt.title(f\" {x_label} vs {y_label} \\n Y2017\")\n",
    "    plt.xlabel(x_label)\n",
    "    plt.ylabel(y_label)\n",
    "    plt.tight_layout\n",
    "    print(f\"The r-squared is: {rvalue}\")\n",
    "#     plt.savefig(f'figures/{savefile}')\n",
    "    plt.show()"
   ]
  },
  {
   "cell_type": "code",
   "execution_count": null,
   "metadata": {},
   "outputs": [],
   "source": [
    "linregres_func(all_2017[\"GDP\"], all_2017[\"Happiness Index\"], 'GDP', 'Happiness Index', 7, 7)"
   ]
  },
  {
   "cell_type": "markdown",
   "metadata": {},
   "source": [
    "### Social Support vs Happiness"
   ]
  },
  {
   "cell_type": "code",
   "execution_count": null,
   "metadata": {},
   "outputs": [],
   "source": [
    "plt.scatter(all_2017['Social Support'],all_2017['Happiness Index'],marker='o', c='maroon',\n",
    "            edgecolor= 'lightskyblue', alpha=0.70, s=50)\n",
    "plt.title(f\"Figure : Social Support vs. Happiness \\n Y2017\")\n",
    "plt.xlabel(f\"Social Support\")\n",
    "plt.ylabel(f\"Happiness Index\")\n",
    "plt.grid(True)\n",
    "plt.tight_layout\n",
    "# plt.savefig('../Fig_Social SupportvsHappiness.png')\n",
    "plt.show()"
   ]
  },
  {
   "cell_type": "code",
   "execution_count": null,
   "metadata": {},
   "outputs": [],
   "source": [
    "# Determine Top countries by Social Support\n",
    "top_10_Social_Support = all_2017.sort_values(['Social Support'], ascending=False) \n",
    "slice_columns = [2, 4, 5, 6, 7]\n",
    "top_10_Social_Support.drop(top_10_Social_Support.columns[slice_columns], axis=1, inplace=True)\n",
    "top_10_Social_Support.head(10)"
   ]
  },
  {
   "cell_type": "code",
   "execution_count": null,
   "metadata": {},
   "outputs": [],
   "source": [
    "linregres_func(all_2017[\"Social Support\"], all_2017[\"Happiness Index\"], 'Social Support', 'Happiness Index', 0.2, 5.5)"
   ]
  },
  {
   "cell_type": "markdown",
   "metadata": {},
   "source": [
    "### Life Expectancy vs Happiness"
   ]
  },
  {
   "cell_type": "code",
   "execution_count": null,
   "metadata": {},
   "outputs": [],
   "source": [
    "plt.scatter(all_2017['Life Expectancy'],all_2017['Happiness Index'],marker='o', c='maroon',\n",
    "            edgecolor= 'lightskyblue', alpha=0.70, s=50)\n",
    "plt.title(f\"Figure : Life Expectancy vs. Happiness \\n Y2017\")\n",
    "plt.xlabel(f\"Life Expectancy\")\n",
    "plt.ylabel(f\"Happiness Index\")\n",
    "plt.grid(True)\n",
    "plt.tight_layout\n",
    "# plt.savefig('../Fig_Life ExpectancyvsHappiness.png')\n",
    "plt.show()"
   ]
  },
  {
   "cell_type": "code",
   "execution_count": null,
   "metadata": {},
   "outputs": [],
   "source": [
    "# Check countries with Zero value?\n",
    "zero_life = all_2017[(all_2017[\"Life Expectancy\"]<=1)] #& (HappinessIndex[\"Log GDP per capita\"]<=9.5)] \n",
    "zero_life.head(20)"
   ]
  },
  {
   "cell_type": "code",
   "execution_count": null,
   "metadata": {},
   "outputs": [],
   "source": [
    "linregres_func(all_2017[\"Life Expectancy\"], all_2017[\"Happiness Index\"], 'Life Expectancy', 'Happiness Index', 5, 5.5)"
   ]
  },
  {
   "cell_type": "markdown",
   "metadata": {},
   "source": [
    "### Freedom vs Happiness"
   ]
  },
  {
   "cell_type": "code",
   "execution_count": null,
   "metadata": {},
   "outputs": [],
   "source": [
    "plt.scatter(all_2017['Freedom'],all_2017['Happiness Index'],marker='o', c='maroon',\n",
    "            edgecolor= 'lightskyblue', alpha=0.70, s=50)\n",
    "plt.title(f\"Figure : Freedom vs. Happiness \\n Y2017\")\n",
    "plt.xlabel(f\"Freedom\")\n",
    "plt.ylabel(f\"Happiness Index\")\n",
    "plt.grid(True)\n",
    "plt.tight_layout\n",
    "# plt.savefig('../Fig_FreedomvsHappiness.png')\n",
    "plt.show()"
   ]
  },
  {
   "cell_type": "code",
   "execution_count": null,
   "metadata": {},
   "outputs": [],
   "source": [
    "# Check countries with Zero value?\n",
    "zero_freedom = all_2017[(all_2017[\"Freedom\"]<=0.2)] #& (HappinessIndex[\"Log GDP per capita\"]<=9.5)] \n",
    "zero_freedom.head(20)"
   ]
  },
  {
   "cell_type": "code",
   "execution_count": null,
   "metadata": {},
   "outputs": [],
   "source": [
    "linregres_func(all_2017[\"Freedom\"], all_2017[\"Happiness Index\"], 'Freedom', 'Happiness Index', 0.3, 6.3)"
   ]
  },
  {
   "cell_type": "code",
   "execution_count": null,
   "metadata": {},
   "outputs": [],
   "source": [
    "all_2017.head()"
   ]
  },
  {
   "cell_type": "markdown",
   "metadata": {},
   "source": [
    "### Generosity vs Happiness"
   ]
  },
  {
   "cell_type": "code",
   "execution_count": null,
   "metadata": {},
   "outputs": [],
   "source": [
    "plt.scatter(all_2017['Generosity'],all_2017['Happiness Index'],marker='o', c='maroon',\n",
    "            edgecolor= 'lightskyblue', alpha=0.70, s=50)\n",
    "plt.title(f\"Figure : Generosity vs. Happiness \\n Y2017\")\n",
    "plt.xlabel(f\"Generosity\")\n",
    "plt.ylabel(f\"Happiness Index\")\n",
    "plt.grid(True)\n",
    "plt.tight_layout\n",
    "# plt.savefig('../Fig_GenerosityvsHappiness.png')\n",
    "plt.show()"
   ]
  },
  {
   "cell_type": "code",
   "execution_count": null,
   "metadata": {},
   "outputs": [],
   "source": [
    "# Inspect Generosity outliers \n",
    "outlier_Generosity = all_2017[(all_2017[\"Happiness Index\"]<=5.5) & (all_2017[\"Generosity\"] >=0.3)] \n",
    "slice_columns = [ 3, 4, 5, 7]\n",
    "outlier_Generosity.drop(outlier_Generosity.columns[slice_columns], axis=1, inplace=True)\n",
    "outlier_Generosity"
   ]
  },
  {
   "cell_type": "markdown",
   "metadata": {},
   "source": [
    "#### Observations: \n",
    "* Interesting country\n",
    "---\n",
    "    (Top in Generosity, not high GDP, but Happier?) : \"Indonesia\" "
   ]
  },
  {
   "cell_type": "code",
   "execution_count": null,
   "metadata": {},
   "outputs": [],
   "source": [
    "linregres_func(all_2017[\"Generosity\"], all_2017[\"Happiness Index\"], 'Generosity', 'Happiness Index', 0.25, 5.5)"
   ]
  },
  {
   "cell_type": "markdown",
   "metadata": {},
   "source": [
    "### Perceptions of Corruption vs Happiness"
   ]
  },
  {
   "cell_type": "code",
   "execution_count": null,
   "metadata": {},
   "outputs": [],
   "source": [
    "plt.scatter(all_2017['Perceptions of Corruption'],all_2017['Happiness Index'],marker='o', c='maroon',\n",
    "            edgecolor= 'lightskyblue', alpha=0.70, s=50)\n",
    "plt.title(f\"Figure : Generosity vs. Happiness \\n Y2017\")\n",
    "plt.xlabel(f\"Perceptions of Corruption\")\n",
    "plt.ylabel(f\"Happiness Index\")\n",
    "plt.grid(True)\n",
    "plt.tight_layout\n",
    "# plt.savefig('../Fig_Perceptions_of_CorruptionvsHappiness.png')\n",
    "plt.show()"
   ]
  },
  {
   "cell_type": "code",
   "execution_count": null,
   "metadata": {},
   "outputs": [],
   "source": [
    "# Check countries with Zero value?\n",
    "zero_Perceptions_of_Corruption = all_2017[(all_2017[\"Perceptions of Corruption\"]<=0.0)] #& (HappinessIndex[\"Log GDP per capita\"]<=9.5)] \n",
    "zero_Perceptions_of_Corruption"
   ]
  },
  {
   "cell_type": "code",
   "execution_count": null,
   "metadata": {
    "scrolled": true
   },
   "outputs": [],
   "source": [
    "linregres_func(all_2017[\"Perceptions of Corruption\"], all_2017[\"Happiness Index\"], 'Perceptions of Corruption', 'Happiness Index', 0.2, 4.9)"
   ]
  },
  {
   "cell_type": "code",
   "execution_count": null,
   "metadata": {},
   "outputs": [],
   "source": [
    "# Load/Read Happiness Index or Ladder Score\n",
    "pd.set_option('display.max_columns', None)\n",
    "TGE_Sheri = \"Outputs/TGE_Sheri_v4.csv\"\n",
    "other_2017 = pd.read_csv(TGE_Sheri)\n",
    "other_2017.head(1)"
   ]
  },
  {
   "cell_type": "code",
   "execution_count": null,
   "metadata": {
    "scrolled": true
   },
   "outputs": [],
   "source": [
    "linregres_func(other_2017[\"Unemployment rate\"], other_2017[\"Happiness Index\"], 'Unemployment Rate', 'Happiness Index', 8, 3)"
   ]
  }
 ],
 "metadata": {
  "kernelspec": {
   "display_name": "Python 3",
   "language": "python",
   "name": "python3"
  },
  "language_info": {
   "codemirror_mode": {
    "name": "ipython",
    "version": 3
   },
   "file_extension": ".py",
   "mimetype": "text/x-python",
   "name": "python",
   "nbconvert_exporter": "python",
   "pygments_lexer": "ipython3",
   "version": "3.7.6"
  }
 },
 "nbformat": 4,
 "nbformat_minor": 4
}
