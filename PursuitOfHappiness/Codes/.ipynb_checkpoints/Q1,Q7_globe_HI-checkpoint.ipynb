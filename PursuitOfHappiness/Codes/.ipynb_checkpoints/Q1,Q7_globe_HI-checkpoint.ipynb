{
 "cells": [
  {
   "cell_type": "code",
   "execution_count": 1,
   "metadata": {},
   "outputs": [
    {
     "ename": "ModuleNotFoundError",
     "evalue": "No module named 'plotly'",
     "output_type": "error",
     "traceback": [
      "\u001b[1;31m---------------------------------------------------------------------------\u001b[0m",
      "\u001b[1;31mModuleNotFoundError\u001b[0m                       Traceback (most recent call last)",
      "\u001b[1;32m<ipython-input-1-61d883f85ff8>\u001b[0m in \u001b[0;36m<module>\u001b[1;34m\u001b[0m\n\u001b[1;32m----> 1\u001b[1;33m \u001b[1;32mimport\u001b[0m \u001b[0mplotly\u001b[0m\u001b[1;33m\u001b[0m\u001b[1;33m\u001b[0m\u001b[0m\n\u001b[0m\u001b[0;32m      2\u001b[0m \u001b[1;32mimport\u001b[0m \u001b[0mplotly\u001b[0m\u001b[1;33m.\u001b[0m\u001b[0mgraph_objects\u001b[0m \u001b[1;32mas\u001b[0m \u001b[0mgo\u001b[0m\u001b[1;33m\u001b[0m\u001b[1;33m\u001b[0m\u001b[0m\n\u001b[0;32m      3\u001b[0m \u001b[1;32mimport\u001b[0m \u001b[0mpandas\u001b[0m \u001b[1;32mas\u001b[0m \u001b[0mpd\u001b[0m\u001b[1;33m\u001b[0m\u001b[1;33m\u001b[0m\u001b[0m\n\u001b[0;32m      4\u001b[0m \u001b[1;33m\u001b[0m\u001b[0m\n\u001b[0;32m      5\u001b[0m \u001b[1;32mimport\u001b[0m \u001b[0mos\u001b[0m\u001b[1;33m\u001b[0m\u001b[1;33m\u001b[0m\u001b[0m\n",
      "\u001b[1;31mModuleNotFoundError\u001b[0m: No module named 'plotly'"
     ]
    }
   ],
   "source": [
    "import plotly\n",
    "import plotly.graph_objects as go\n",
    "import pandas as pd\n",
    "\n",
    "import os\n",
    "if not os.path.exists(\"images\"):\n",
    "    os.mkdir(\"images\")\n"
   ]
  },
  {
   "cell_type": "code",
   "execution_count": null,
   "metadata": {},
   "outputs": [],
   "source": [
    "df_q1 = pd.read_csv(\"Data/TGE_Sheri.csv\")\n",
    "\n",
    "df_q1 = df_q1.rename(columns={\"Country\": \"country\", \"Happiness Index\": \"HI\", \"Code\": \"CODE\"}) \n",
    "\n",
    "df_q1.head()\n"
   ]
  },
  {
   "cell_type": "code",
   "execution_count": null,
   "metadata": {},
   "outputs": [],
   "source": [
    "#colors: 'aggrnyl', 'agsunset', 'algae', 'amp', 'armyrose', 'balance',\n",
    "        #    'blackbody', 'bluered', 'blues', 'blugrn', 'bluyl', 'brbg',\n",
    "        #   'brwnyl', 'bugn', 'bupu', 'burg', 'burgyl', 'cividis', 'curl',\n",
    "        #     'darkmint', 'deep', 'delta', 'dense', 'earth', 'edge', 'electric',\n",
    "        #     'emrld', 'fall', 'geyser', 'gnbu', 'gray', 'greens', 'greys',\n",
    "        #     'haline', 'hot', 'hsv', 'ice', 'icefire', 'inferno', 'jet',\n",
    "        #     'magenta', 'magma', 'matter', 'mint', 'mrybm', 'mygbm', 'oranges',\n",
    "        #    'orrd', 'oryel', 'peach', 'phase', 'picnic', 'pinkyl', 'piyg',\n",
    "        #     'plasma', 'plotly3', 'portland', 'prgn', 'pubu', 'pubugn', 'puor',\n",
    "        #     'purd', 'purp', 'purples', 'purpor', 'rainbow', 'rdbu', 'rdgy',\n",
    "        #     'rdpu', 'rdylbu', 'rdylgn', 'redor', 'reds', 'solar', 'spectral',\n",
    "        #     'speed', 'sunset', 'sunsetdark', 'teal', 'tealgrn', 'tealrose',\n",
    "        #     'tempo', 'temps', 'thermal', 'tropic', 'turbid', 'twilight',\n",
    "        #     'viridis', 'ylgn', 'ylgnbu', 'ylorbr', 'ylorrd'"
   ]
  },
  {
   "cell_type": "code",
   "execution_count": null,
   "metadata": {},
   "outputs": [],
   "source": [
    "#figure loading\n",
    "\n",
    "fig_Q1 = go.Figure(data=go.Choropleth(\n",
    "    locations = df_q1['CODE'],\n",
    "    z = df_q1['HI'],\n",
    "    text = df_q1['country'],\n",
    "    colorscale = 'Picnic',\n",
    "    autocolorscale=False,\n",
    "    reversescale=False,\n",
    "    marker_line_color='darkgray',\n",
    "    marker_line_width=0.5,\n",
    "    #colorbar_tickprefix = '',\n",
    "    colorbar_title = 'Happiness<br>Index',))\n",
    "\n",
    "#figure layout\n",
    "fig_Q1.update_layout(\n",
    "    title_text='2017 Global Happiness Index',\n",
    "    geo=dict(\n",
    "        showframe=True,\n",
    "        showcoastlines=False,\n",
    "        projection_type='equirectangular'\n",
    "    ),\n",
    "    annotations = [dict(\n",
    "        x=0.25,\n",
    "        y=-0.1,\n",
    "        xref='paper',\n",
    "        yref='paper',\n",
    "        text='Source: <a href=\"https://en.wikipedia.org/wiki/World_Happiness_Report\">\\\n",
    "            United Nations World Happiness Report</a>',\n",
    "        showarrow = False\n",
    "    )]\n",
    ")\n",
    "\n",
    "#globe\n",
    "fig_Q1.update_geos(projection_type=\"orthographic\")\n",
    "#fig_Q1.update_geos(projection_type=\"natural earth\")\n",
    "\n",
    "fig_Q1.show()"
   ]
  },
  {
   "cell_type": "code",
   "execution_count": null,
   "metadata": {},
   "outputs": [],
   "source": [
    "#fig.write_image(\"images/fig1.jpg\")\n",
    "\n",
    "plotly.io.write_image(fig_Q1,\"images/Fig_Q1.png\",format=\"png\", scale=None, width=None, height=None, validate=True)"
   ]
  },
  {
   "cell_type": "code",
   "execution_count": null,
   "metadata": {},
   "outputs": [],
   "source": [
    "df_q6 = pd.read_csv(\"Data/Q6_v2.csv\")\n",
    "\n",
    "df_q6 = df_q6.rename(columns={\"Country name\": \"country\", \"Happiness Index\": \"HI\", \"Code\": \"CODE\"}) \n",
    "\n",
    "df_q6"
   ]
  },
  {
   "cell_type": "code",
   "execution_count": null,
   "metadata": {},
   "outputs": [],
   "source": [
    "#figure loading\n",
    "\n",
    "fig_Q6 = go.Figure(data=go.Choropleth(\n",
    "    locations = df_q6['CODE'],\n",
    "    z = df_q6['HI'],\n",
    "    text = df_q6['country'],\n",
    "    colorscale = 'Picnic',\n",
    "    autocolorscale=False,\n",
    "    reversescale=False,\n",
    "    marker_line_color='darkgray',\n",
    "    marker_line_width=0.5,\n",
    "    #colorbar_tickprefix = '',\n",
    "    colorbar_title = 'Happiness<br>Index',))\n",
    "\n",
    "#figure layout\n",
    "fig_Q6.update_layout(\n",
    "    title_text='Outlier Countries Happiness Index',\n",
    "    geo=dict(\n",
    "        showframe=True,\n",
    "        showcoastlines=False,\n",
    "        projection_type='equirectangular'\n",
    "    ),\n",
    "    annotations = [dict(\n",
    "        x=0.25,\n",
    "        y=-0.1,\n",
    "        xref='paper',\n",
    "        yref='paper',\n",
    "        text='Source: <a href=\"https://en.wikipedia.org/wiki/World_Happiness_Report\">\\\n",
    "            United Nations World Happiness Report</a>',\n",
    "        showarrow = False\n",
    "    )]\n",
    ")\n",
    "\n",
    "#globe\n",
    "#fig.update_geos(projection_type=\"orthographic\")\n",
    "fig_Q6.update_geos(projection_type=\"natural earth\")\n",
    "\n",
    "fig_Q6.show()"
   ]
  },
  {
   "cell_type": "code",
   "execution_count": null,
   "metadata": {},
   "outputs": [],
   "source": [
    "plotly.io.write_image(fig_Q6,\"images/Fig_Q6.png\",format=\"png\", scale=None, width=None, height=None, validate=True)"
   ]
  },
  {
   "cell_type": "code",
   "execution_count": null,
   "metadata": {},
   "outputs": [],
   "source": [
    "df_q7 = pd.read_csv(\"Data/Q7_v2.csv\")\n",
    "\n",
    "df_q7 = df_q7.rename(columns={\"Country name\": \"country\", \"Happiness Index\": \"HI\", \"Code\": \"CODE\"}) \n",
    "\n",
    "df_q7"
   ]
  },
  {
   "cell_type": "code",
   "execution_count": null,
   "metadata": {},
   "outputs": [],
   "source": [
    "#figure loading\n",
    "\n",
    "fig_Q7 = go.Figure(data=go.Choropleth(\n",
    "    locations = df_q7['CODE'],\n",
    "    z = df_q7['HI'],\n",
    "    text = df_q7['country'],\n",
    "    colorscale = 'Picnic',\n",
    "    autocolorscale=False,\n",
    "    reversescale=False,\n",
    "    marker_line_color='darkgray',\n",
    "    marker_line_width=0.5,\n",
    "    #colorbar_tickprefix = '',\n",
    "    colorbar_title = 'Happiness<br>Index',))\n",
    "\n",
    "#figure layout\n",
    "fig_Q7.update_layout(\n",
    "    title_text='Outlier Countries Happiness Index',\n",
    "    geo=dict(\n",
    "        showframe=True,\n",
    "        showcoastlines=False,\n",
    "        projection_type='equirectangular'\n",
    "    ),\n",
    "    annotations = [dict(\n",
    "        x=0.25,\n",
    "        y=-0.1,\n",
    "        xref='paper',\n",
    "        yref='paper',\n",
    "        text='Source: <a href=\"https://en.wikipedia.org/wiki/World_Happiness_Report\">\\\n",
    "            United Nations World Happiness Report</a>',\n",
    "        showarrow = False\n",
    "    )]\n",
    ")\n",
    "\n",
    "#globe\n",
    "#fig.update_geos(projection_type=\"orthographic\")\n",
    "fig_Q7.update_geos(projection_type=\"natural earth\")\n",
    "\n",
    "fig_Q7.show()"
   ]
  },
  {
   "cell_type": "code",
   "execution_count": null,
   "metadata": {},
   "outputs": [],
   "source": [
    "plotly.io.write_image(fig_Q6,\"images/Fig_Q6.png\",format=\"png\", scale=None, width=None, height=None, validate=True)"
   ]
  },
  {
   "cell_type": "code",
   "execution_count": null,
   "metadata": {},
   "outputs": [],
   "source": []
  }
 ],
 "metadata": {
  "kernelspec": {
   "display_name": "Python 3",
   "language": "python",
   "name": "python3"
  },
  "language_info": {
   "codemirror_mode": {
    "name": "ipython",
    "version": 3
   },
   "file_extension": ".py",
   "mimetype": "text/x-python",
   "name": "python",
   "nbconvert_exporter": "python",
   "pygments_lexer": "ipython3",
   "version": "3.7.6"
  }
 },
 "nbformat": 4,
 "nbformat_minor": 4
}
