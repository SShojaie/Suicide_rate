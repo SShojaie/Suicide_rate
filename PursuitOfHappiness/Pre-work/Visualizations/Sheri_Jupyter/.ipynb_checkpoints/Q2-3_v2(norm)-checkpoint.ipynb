{
 "cells": [
  {
   "cell_type": "code",
   "execution_count": 1,
   "metadata": {},
   "outputs": [],
   "source": [
    "%matplotlib notebook\n",
    "import plotly.express as px\n",
    "import pandas as pd\n",
    "#from matplotlib import pyplot as plt\n",
    "from scipy.stats import linregress\n",
    "#import numpy as np\n",
    "import plotly.graph_objs as go\n",
    "import statsmodels.api as sm"
   ]
  },
  {
   "cell_type": "code",
   "execution_count": 2,
   "metadata": {},
   "outputs": [
    {
     "data": {
      "text/html": [
       "<div>\n",
       "<style scoped>\n",
       "    .dataframe tbody tr th:only-of-type {\n",
       "        vertical-align: middle;\n",
       "    }\n",
       "\n",
       "    .dataframe tbody tr th {\n",
       "        vertical-align: top;\n",
       "    }\n",
       "\n",
       "    .dataframe thead th {\n",
       "        text-align: right;\n",
       "    }\n",
       "</style>\n",
       "<table border=\"1\" class=\"dataframe\">\n",
       "  <thead>\n",
       "    <tr style=\"text-align: right;\">\n",
       "      <th></th>\n",
       "      <th>Country name</th>\n",
       "      <th>Code</th>\n",
       "      <th>Continent</th>\n",
       "      <th>Happiness index</th>\n",
       "      <th>% Unemployment</th>\n",
       "    </tr>\n",
       "  </thead>\n",
       "  <tbody>\n",
       "    <tr>\n",
       "      <th>0</th>\n",
       "      <td>Afghanistan</td>\n",
       "      <td>AFG</td>\n",
       "      <td>Asia</td>\n",
       "      <td>0.000000</td>\n",
       "      <td>0.402182</td>\n",
       "    </tr>\n",
       "    <tr>\n",
       "      <th>1</th>\n",
       "      <td>Albania</td>\n",
       "      <td>ALB</td>\n",
       "      <td>Europe</td>\n",
       "      <td>0.385965</td>\n",
       "      <td>0.498871</td>\n",
       "    </tr>\n",
       "    <tr>\n",
       "      <th>2</th>\n",
       "      <td>Argentina</td>\n",
       "      <td>ARG</td>\n",
       "      <td>Americas</td>\n",
       "      <td>0.658869</td>\n",
       "      <td>0.295711</td>\n",
       "    </tr>\n",
       "    <tr>\n",
       "      <th>3</th>\n",
       "      <td>Armenia</td>\n",
       "      <td>ARM</td>\n",
       "      <td>Asia</td>\n",
       "      <td>0.317739</td>\n",
       "      <td>0.647479</td>\n",
       "    </tr>\n",
       "    <tr>\n",
       "      <th>4</th>\n",
       "      <td>Australia</td>\n",
       "      <td>AUS</td>\n",
       "      <td>Oceania</td>\n",
       "      <td>0.896686</td>\n",
       "      <td>0.191874</td>\n",
       "    </tr>\n",
       "  </tbody>\n",
       "</table>\n",
       "</div>"
      ],
      "text/plain": [
       "  Country name Code Continent  Happiness index  % Unemployment\n",
       "0  Afghanistan  AFG      Asia         0.000000        0.402182\n",
       "1      Albania  ALB    Europe         0.385965        0.498871\n",
       "2    Argentina  ARG  Americas         0.658869        0.295711\n",
       "3      Armenia  ARM      Asia         0.317739        0.647479\n",
       "4    Australia  AUS   Oceania         0.896686        0.191874"
      ]
     },
     "execution_count": 2,
     "metadata": {},
     "output_type": "execute_result"
    }
   ],
   "source": [
    "df_2017N = pd.read_csv(\"Data/Normalized Table 2017_df.csv\")\n",
    "df_2017N_v2 = df_2017N[[\"Country name\", \"Code\",\"Continent\",\"Happiness Index\", \"Log GDP\", \"Social support\", \"Freedom\", \"Healthy life exp\", \"Generosity\", \"Sleep (min)\", \"Literacy rate\", \"Rev tourism\",\"Average Age\", \"Tourist arrivals\", \"Blue Index\", \"Suicide\", \"Pct spent ed\", \"Depression & Anxiety\", \"Substance Abuse\", \"Physician perpop\", \"Unemployment rate\", \"Pct corruption\", \"Pct Poverty\", \"Fragile index \", \"Security index\", \"brain drain\" ]]\n",
    "df_2017N_v3 = df_2017N_v2.rename(columns={\"continent\":\"Continent\",\"Happiness Index\":\"Happiness index\", \"Healthy life exp\":\"Life exp\",\"Physician perpop\": \"Physician per pop\",\"Substance Abuse\": \"Substance abuse\", \"Blue Index\":\"Blue index\", \"Pct spent ed\":\"% Spent edu\", \"Pct corruption\":\"% Corruption\", \"Pct Poverty\":\"% Poverty\",\"Unemployment rate\":\"% Unemployment\",\"brain drain\": \"Brain drain\" })\n",
    "df_2017N_v4 = df_2017N_v3[[\"Country name\", \"Code\", \"Continent\", \"Happiness index\", \"% Unemployment\"]]\n",
    "df_2017N_v4 = df_2017N_v4.dropna(how='any')\n",
    "df_2017N_v4.head()"
   ]
  },
  {
   "cell_type": "code",
   "execution_count": 21,
   "metadata": {},
   "outputs": [
    {
     "data": {
      "application/vnd.plotly.v1+json": {
       "config": {
        "plotlyServerURL": "https://plot.ly"
       },
       "data": [
        {
         "hovertemplate": "<b>%{hovertext}</b><br><br>Continent=Asia<br>Log GDP=%{x}<br>Happiness index=%{y}<extra></extra>",
         "hovertext": [
          "Afghanistan",
          "Armenia",
          "Azerbaijan",
          "Bahrain",
          "Bangladesh",
          "Cambodia",
          "China",
          "Cyprus",
          "Georgia",
          "Hong Kong S.A.R. of China",
          "India",
          "Indonesia",
          "Iran",
          "Iraq",
          "Israel",
          "Japan",
          "Jordan",
          "Kazakhstan",
          "Kuwait",
          "Kyrgyzstan",
          "Lebanon",
          "Malaysia",
          "Mongolia",
          "Nepal",
          "Pakistan",
          "Palestinian Territories",
          "Philippines",
          "Russia",
          "Saudi Arabia",
          "Singapore",
          "South Korea",
          "Sri Lanka",
          "Taiwan",
          "Tajikistan",
          "Thailand",
          "Turkmenistan",
          "United Arab Emirates",
          "Uzbekistan",
          "Vietnam",
          "Yemen"
         ],
         "legendgroup": "Asia",
         "marker": {
          "color": "royalblue",
          "symbol": "circle"
         },
         "mode": "markers",
         "name": "Asia",
         "orientation": "v",
         "showlegend": true,
         "type": "scatter",
         "x": [
          0.138828633,
          0.488069414,
          0.6182212579999999,
          0.835140998,
          0.297180043,
          0.297180043,
          0.607375271,
          0.776572668,
          0.5097613879999999,
          0.8893709329999999,
          0.422993492,
          0.540130152,
          0.6572668110000001,
          0.616052061,
          0.776572668,
          0.8112798259999999,
          0.47505423,
          0.7071583509999999,
          0.9262472890000001,
          0.281995662,
          0.548806941,
          0.74186551,
          0.548806941,
          0.225596529,
          0.35574837299999995,
          0.338394794,
          0.455531453,
          0.713665944,
          0.8611713670000001,
          0.986984816,
          0.793926247,
          0.550976139,
          0.8568329720000001,
          0.249457701,
          0.6225596529999999,
          0.6225596529999999,
          0.9284164859999999,
          0.407809111,
          0.41431670299999995,
          0.20824295
         ],
         "xaxis": "x",
         "y": [
          0,
          0.317738791,
          0.48538011700000006,
          0.695906433,
          0.321637427,
          0.376218324,
          0.47563352799999997,
          0.662768031,
          0.348927875,
          0.526315789,
          0.270955166,
          0.47563352799999997,
          0.401559454,
          0.350877193,
          0.910331384,
          0.633528265,
          0.419103314,
          0.6276803120000001,
          0.668615984,
          0.578947368,
          0.48538011700000006,
          0.522417154,
          0.520467836,
          0.40545809,
          0.6179337229999999,
          0.384015595,
          0.5711500970000001,
          0.56920078,
          0.707602339,
          0.7251461990000001,
          0.625730994,
          0.325536062,
          0.7212475629999999,
          0.6179337229999999,
          0.639376218,
          0.5009746589999999,
          0.85380117,
          0.73294347,
          0.49122807,
          0.115009747
         ],
         "yaxis": "y"
        },
        {
         "hovertemplate": "<b>%{hovertext}</b><br><br>Continent=Europe<br>Log GDP=%{x}<br>Happiness index=%{y}<extra></extra>",
         "hovertext": [
          "Albania",
          "Austria",
          "Belarus",
          "Belgium",
          "Bosnia and Herzegovina",
          "Bulgaria",
          "Croatia",
          "Czech Republic",
          "Denmark",
          "Estonia",
          "Finland",
          "France",
          "Germany",
          "Greece",
          "Hungary",
          "Ireland",
          "Italy",
          "Kosovo",
          "Latvia",
          "Lithuania",
          "Luxembourg",
          "Macedonia",
          "Malta",
          "Moldova",
          "Montenegro",
          "Netherlands",
          "Poland",
          "Portugal",
          "Romania",
          "Serbia",
          "Slovakia",
          "Slovenia",
          "Spain",
          "Sweden",
          "Turkey",
          "Ukraine",
          "United Kingdom"
         ],
         "legendgroup": "Europe",
         "marker": {
          "color": "darkturquoise",
          "symbol": "circle"
         },
         "mode": "markers",
         "name": "Europe",
         "orientation": "v",
         "showlegend": true,
         "type": "scatter",
         "x": [
          0.553145336,
          0.845986985,
          0.63340564,
          0.830802603,
          0.561822126,
          0.650759219,
          0.6963123640000001,
          0.7722342729999999,
          0.852494577,
          0.754880694,
          0.8242950109999999,
          0.8112798259999999,
          0.843817787,
          0.7114967459999999,
          0.731019523,
          0.9262472890000001,
          0.789587852,
          0.511930586,
          0.7158351409999999,
          0.7527114970000001,
          1,
          0.57483731,
          0.8004338390000001,
          0.41431670299999995,
          0.62472885,
          0.8611713670000001,
          0.7353579179999999,
          0.7396963120000001,
          0.7006507590000001,
          0.607375271,
          0.754880694,
          0.763557484,
          0.78308026,
          0.85032538,
          0.7158351409999999,
          0.46637744,
          0.8156182209999999
         ],
         "xaxis": "x",
         "y": [
          0.38596491200000005,
          0.902534113,
          0.563352827,
          0.8323586740000001,
          0.473684211,
          0.47563352799999997,
          0.522417154,
          0.8050682259999999,
          0.961013645,
          0.639376218,
          1,
          0.77582846,
          0.859649123,
          0.48538011700000006,
          0.664717349,
          0.857699805,
          0.69005848,
          0.6803118909999999,
          0.6471734889999999,
          0.703703704,
          0.857699805,
          0.5009746589999999,
          0.783625731,
          0.520467836,
          0.5750487329999999,
          0.935672515,
          0.69005848,
          0.59454191,
          0.668615984,
          0.479532164,
          0.7231968809999999,
          0.684210526,
          0.695906433,
          0.902534113,
          0.5750487329999999,
          0.321637427,
          0.8654970759999999
         ],
         "yaxis": "y"
        },
        {
         "hovertemplate": "<b>%{hovertext}</b><br><br>Continent=Americas<br>Log GDP=%{x}<br>Happiness index=%{y}<extra></extra>",
         "hovertext": [
          "Argentina",
          "Bolivia",
          "Brazil",
          "Canada",
          "Chile",
          "Colombia",
          "Costa Rica",
          "Dominican Republic",
          "Ecuador",
          "El Salvador",
          "Guatemala",
          "Haiti",
          "Honduras",
          "Mexico",
          "Nicaragua",
          "Panama",
          "Paraguay",
          "Peru",
          "United States",
          "Uruguay",
          "Venezuela"
         ],
         "legendgroup": "Americas",
         "marker": {
          "color": "crimson",
          "symbol": "circle"
         },
         "mode": "markers",
         "name": "Americas",
         "orientation": "v",
         "showlegend": true,
         "type": "scatter",
         "x": [
          0.655097614,
          0.431670282,
          0.5921908889999999,
          0.837310195,
          0.689804772,
          0.577006508,
          0.609544469,
          0.603036876,
          0.52494577,
          0.446854664,
          0.451193059,
          0.125813449,
          0.340563991,
          0.644251627,
          0.373101952,
          0.689804772,
          0.553145336,
          0.563991323,
          0.8850325379999999,
          0.67462039,
          0.46637744
         ],
         "xaxis": "x",
         "y": [
          0.658869396,
          0.582846004,
          0.71539961,
          0.9259259259999999,
          0.713450292,
          0.6822612090000001,
          0.890838207,
          0.5750487329999999,
          0.619883041,
          0.7173489279999999,
          0.71539961,
          0.226120858,
          0.65497076,
          0.7309941520000001,
          0.744639376,
          0.7621832359999999,
          0.59454191,
          0.59454191,
          0.844054581,
          0.7173489279999999,
          0.469785575
         ],
         "yaxis": "y"
        },
        {
         "hovertemplate": "<b>%{hovertext}</b><br><br>Continent=Oceania<br>Log GDP=%{x}<br>Happiness index=%{y}<extra></extra>",
         "hovertext": [
          "Australia",
          "New Zealand"
         ],
         "legendgroup": "Oceania",
         "marker": {
          "color": "mediumpurple",
          "symbol": "circle"
         },
         "mode": "markers",
         "name": "Oceania",
         "orientation": "v",
         "showlegend": true,
         "type": "scatter",
         "x": [
          0.84164859,
          0.793926247
         ],
         "xaxis": "x",
         "y": [
          0.89668616,
          0.910331384
         ],
         "yaxis": "y"
        },
        {
         "hovertemplate": "<b>%{hovertext}</b><br><br>Continent=Africa<br>Log GDP=%{x}<br>Happiness index=%{y}<extra></extra>",
         "hovertext": [
          "Benin",
          "Botswana",
          "Burkina Faso",
          "Cameroon",
          "Chad",
          "Congo (Brazzaville)",
          "Egypt",
          "Gabon",
          "Ghana",
          "Guinea",
          "Kenya",
          "Liberia",
          "Madagascar",
          "Malawi",
          "Mali",
          "Mauritania",
          "Morocco",
          "Niger",
          "Nigeria",
          "Rwanda",
          "Senegal",
          "Sierra Leone",
          "South Africa",
          "Tanzania",
          "Tunisia",
          "Uganda",
          "Zambia",
          "Zimbabwe"
         ],
         "legendgroup": "Africa",
         "marker": {
          "color": "mediumseagreen",
          "symbol": "circle"
         },
         "mode": "markers",
         "name": "Africa",
         "orientation": "v",
         "showlegend": true,
         "type": "scatter",
         "x": [
          0.173535792,
          0.620390456,
          0.132321041,
          0.277657267,
          0.138828633,
          0.370932755,
          0.531453362,
          0.620390456,
          0.321041215,
          0.188720174,
          0.251626898,
          0.052060737999999995,
          0.093275488,
          0.047722343,
          0.169197397,
          0.301518438,
          0.453362256,
          0,
          0.381778742,
          0.15618221300000001,
          0.271149675,
          0.09110629099999999,
          0.559652928,
          0.24078091100000001,
          0.535791757,
          0.140997831,
          0.301518438,
          0.221258134
         ],
         "xaxis": "x",
         "y": [
          0.426900585,
          0.16374269,
          0.38791423,
          0.469785575,
          0.37037037,
          0.43274853799999996,
          0.247563353,
          0.413255361,
          0.549707602,
          0.43079922,
          0.35477582799999996,
          0.34307992200000004,
          0.276803119,
          0.148148148,
          0.40545809,
          0.393762183,
          0.516569201,
          0.382066277,
          0.518518519,
          0.087719298,
          0.393762183,
          0.278752437,
          0.360623782,
          0.134502924,
          0.28460039,
          0.261208577,
          0.247563353,
          0.19103313800000002
         ],
         "yaxis": "y"
        }
       ],
       "layout": {
        "height": 650,
        "legend": {
         "title": {
          "text": "Continent"
         },
         "tracegroupgap": 0
        },
        "margin": {
         "t": 60
        },
        "template": {
         "data": {
          "bar": [
           {
            "error_x": {
             "color": "rgb(36,36,36)"
            },
            "error_y": {
             "color": "rgb(36,36,36)"
            },
            "marker": {
             "line": {
              "color": "white",
              "width": 0.5
             }
            },
            "type": "bar"
           }
          ],
          "barpolar": [
           {
            "marker": {
             "line": {
              "color": "white",
              "width": 0.5
             }
            },
            "type": "barpolar"
           }
          ],
          "carpet": [
           {
            "aaxis": {
             "endlinecolor": "rgb(36,36,36)",
             "gridcolor": "white",
             "linecolor": "white",
             "minorgridcolor": "white",
             "startlinecolor": "rgb(36,36,36)"
            },
            "baxis": {
             "endlinecolor": "rgb(36,36,36)",
             "gridcolor": "white",
             "linecolor": "white",
             "minorgridcolor": "white",
             "startlinecolor": "rgb(36,36,36)"
            },
            "type": "carpet"
           }
          ],
          "choropleth": [
           {
            "colorbar": {
             "outlinewidth": 1,
             "tickcolor": "rgb(36,36,36)",
             "ticks": "outside"
            },
            "type": "choropleth"
           }
          ],
          "contour": [
           {
            "colorbar": {
             "outlinewidth": 1,
             "tickcolor": "rgb(36,36,36)",
             "ticks": "outside"
            },
            "colorscale": [
             [
              0,
              "#440154"
             ],
             [
              0.1111111111111111,
              "#482878"
             ],
             [
              0.2222222222222222,
              "#3e4989"
             ],
             [
              0.3333333333333333,
              "#31688e"
             ],
             [
              0.4444444444444444,
              "#26828e"
             ],
             [
              0.5555555555555556,
              "#1f9e89"
             ],
             [
              0.6666666666666666,
              "#35b779"
             ],
             [
              0.7777777777777778,
              "#6ece58"
             ],
             [
              0.8888888888888888,
              "#b5de2b"
             ],
             [
              1,
              "#fde725"
             ]
            ],
            "type": "contour"
           }
          ],
          "contourcarpet": [
           {
            "colorbar": {
             "outlinewidth": 1,
             "tickcolor": "rgb(36,36,36)",
             "ticks": "outside"
            },
            "type": "contourcarpet"
           }
          ],
          "heatmap": [
           {
            "colorbar": {
             "outlinewidth": 1,
             "tickcolor": "rgb(36,36,36)",
             "ticks": "outside"
            },
            "colorscale": [
             [
              0,
              "#440154"
             ],
             [
              0.1111111111111111,
              "#482878"
             ],
             [
              0.2222222222222222,
              "#3e4989"
             ],
             [
              0.3333333333333333,
              "#31688e"
             ],
             [
              0.4444444444444444,
              "#26828e"
             ],
             [
              0.5555555555555556,
              "#1f9e89"
             ],
             [
              0.6666666666666666,
              "#35b779"
             ],
             [
              0.7777777777777778,
              "#6ece58"
             ],
             [
              0.8888888888888888,
              "#b5de2b"
             ],
             [
              1,
              "#fde725"
             ]
            ],
            "type": "heatmap"
           }
          ],
          "heatmapgl": [
           {
            "colorbar": {
             "outlinewidth": 1,
             "tickcolor": "rgb(36,36,36)",
             "ticks": "outside"
            },
            "colorscale": [
             [
              0,
              "#440154"
             ],
             [
              0.1111111111111111,
              "#482878"
             ],
             [
              0.2222222222222222,
              "#3e4989"
             ],
             [
              0.3333333333333333,
              "#31688e"
             ],
             [
              0.4444444444444444,
              "#26828e"
             ],
             [
              0.5555555555555556,
              "#1f9e89"
             ],
             [
              0.6666666666666666,
              "#35b779"
             ],
             [
              0.7777777777777778,
              "#6ece58"
             ],
             [
              0.8888888888888888,
              "#b5de2b"
             ],
             [
              1,
              "#fde725"
             ]
            ],
            "type": "heatmapgl"
           }
          ],
          "histogram": [
           {
            "marker": {
             "line": {
              "color": "white",
              "width": 0.6
             }
            },
            "type": "histogram"
           }
          ],
          "histogram2d": [
           {
            "colorbar": {
             "outlinewidth": 1,
             "tickcolor": "rgb(36,36,36)",
             "ticks": "outside"
            },
            "colorscale": [
             [
              0,
              "#440154"
             ],
             [
              0.1111111111111111,
              "#482878"
             ],
             [
              0.2222222222222222,
              "#3e4989"
             ],
             [
              0.3333333333333333,
              "#31688e"
             ],
             [
              0.4444444444444444,
              "#26828e"
             ],
             [
              0.5555555555555556,
              "#1f9e89"
             ],
             [
              0.6666666666666666,
              "#35b779"
             ],
             [
              0.7777777777777778,
              "#6ece58"
             ],
             [
              0.8888888888888888,
              "#b5de2b"
             ],
             [
              1,
              "#fde725"
             ]
            ],
            "type": "histogram2d"
           }
          ],
          "histogram2dcontour": [
           {
            "colorbar": {
             "outlinewidth": 1,
             "tickcolor": "rgb(36,36,36)",
             "ticks": "outside"
            },
            "colorscale": [
             [
              0,
              "#440154"
             ],
             [
              0.1111111111111111,
              "#482878"
             ],
             [
              0.2222222222222222,
              "#3e4989"
             ],
             [
              0.3333333333333333,
              "#31688e"
             ],
             [
              0.4444444444444444,
              "#26828e"
             ],
             [
              0.5555555555555556,
              "#1f9e89"
             ],
             [
              0.6666666666666666,
              "#35b779"
             ],
             [
              0.7777777777777778,
              "#6ece58"
             ],
             [
              0.8888888888888888,
              "#b5de2b"
             ],
             [
              1,
              "#fde725"
             ]
            ],
            "type": "histogram2dcontour"
           }
          ],
          "mesh3d": [
           {
            "colorbar": {
             "outlinewidth": 1,
             "tickcolor": "rgb(36,36,36)",
             "ticks": "outside"
            },
            "type": "mesh3d"
           }
          ],
          "parcoords": [
           {
            "line": {
             "colorbar": {
              "outlinewidth": 1,
              "tickcolor": "rgb(36,36,36)",
              "ticks": "outside"
             }
            },
            "type": "parcoords"
           }
          ],
          "pie": [
           {
            "automargin": true,
            "type": "pie"
           }
          ],
          "scatter": [
           {
            "marker": {
             "colorbar": {
              "outlinewidth": 1,
              "tickcolor": "rgb(36,36,36)",
              "ticks": "outside"
             }
            },
            "type": "scatter"
           }
          ],
          "scatter3d": [
           {
            "line": {
             "colorbar": {
              "outlinewidth": 1,
              "tickcolor": "rgb(36,36,36)",
              "ticks": "outside"
             }
            },
            "marker": {
             "colorbar": {
              "outlinewidth": 1,
              "tickcolor": "rgb(36,36,36)",
              "ticks": "outside"
             }
            },
            "type": "scatter3d"
           }
          ],
          "scattercarpet": [
           {
            "marker": {
             "colorbar": {
              "outlinewidth": 1,
              "tickcolor": "rgb(36,36,36)",
              "ticks": "outside"
             }
            },
            "type": "scattercarpet"
           }
          ],
          "scattergeo": [
           {
            "marker": {
             "colorbar": {
              "outlinewidth": 1,
              "tickcolor": "rgb(36,36,36)",
              "ticks": "outside"
             }
            },
            "type": "scattergeo"
           }
          ],
          "scattergl": [
           {
            "marker": {
             "colorbar": {
              "outlinewidth": 1,
              "tickcolor": "rgb(36,36,36)",
              "ticks": "outside"
             }
            },
            "type": "scattergl"
           }
          ],
          "scattermapbox": [
           {
            "marker": {
             "colorbar": {
              "outlinewidth": 1,
              "tickcolor": "rgb(36,36,36)",
              "ticks": "outside"
             }
            },
            "type": "scattermapbox"
           }
          ],
          "scatterpolar": [
           {
            "marker": {
             "colorbar": {
              "outlinewidth": 1,
              "tickcolor": "rgb(36,36,36)",
              "ticks": "outside"
             }
            },
            "type": "scatterpolar"
           }
          ],
          "scatterpolargl": [
           {
            "marker": {
             "colorbar": {
              "outlinewidth": 1,
              "tickcolor": "rgb(36,36,36)",
              "ticks": "outside"
             }
            },
            "type": "scatterpolargl"
           }
          ],
          "scatterternary": [
           {
            "marker": {
             "colorbar": {
              "outlinewidth": 1,
              "tickcolor": "rgb(36,36,36)",
              "ticks": "outside"
             }
            },
            "type": "scatterternary"
           }
          ],
          "surface": [
           {
            "colorbar": {
             "outlinewidth": 1,
             "tickcolor": "rgb(36,36,36)",
             "ticks": "outside"
            },
            "colorscale": [
             [
              0,
              "#440154"
             ],
             [
              0.1111111111111111,
              "#482878"
             ],
             [
              0.2222222222222222,
              "#3e4989"
             ],
             [
              0.3333333333333333,
              "#31688e"
             ],
             [
              0.4444444444444444,
              "#26828e"
             ],
             [
              0.5555555555555556,
              "#1f9e89"
             ],
             [
              0.6666666666666666,
              "#35b779"
             ],
             [
              0.7777777777777778,
              "#6ece58"
             ],
             [
              0.8888888888888888,
              "#b5de2b"
             ],
             [
              1,
              "#fde725"
             ]
            ],
            "type": "surface"
           }
          ],
          "table": [
           {
            "cells": {
             "fill": {
              "color": "rgb(237,237,237)"
             },
             "line": {
              "color": "white"
             }
            },
            "header": {
             "fill": {
              "color": "rgb(217,217,217)"
             },
             "line": {
              "color": "white"
             }
            },
            "type": "table"
           }
          ]
         },
         "layout": {
          "annotationdefaults": {
           "arrowhead": 0,
           "arrowwidth": 1
          },
          "coloraxis": {
           "colorbar": {
            "outlinewidth": 1,
            "tickcolor": "rgb(36,36,36)",
            "ticks": "outside"
           }
          },
          "colorscale": {
           "diverging": [
            [
             0,
             "rgb(103,0,31)"
            ],
            [
             0.1,
             "rgb(178,24,43)"
            ],
            [
             0.2,
             "rgb(214,96,77)"
            ],
            [
             0.3,
             "rgb(244,165,130)"
            ],
            [
             0.4,
             "rgb(253,219,199)"
            ],
            [
             0.5,
             "rgb(247,247,247)"
            ],
            [
             0.6,
             "rgb(209,229,240)"
            ],
            [
             0.7,
             "rgb(146,197,222)"
            ],
            [
             0.8,
             "rgb(67,147,195)"
            ],
            [
             0.9,
             "rgb(33,102,172)"
            ],
            [
             1,
             "rgb(5,48,97)"
            ]
           ],
           "sequential": [
            [
             0,
             "#440154"
            ],
            [
             0.1111111111111111,
             "#482878"
            ],
            [
             0.2222222222222222,
             "#3e4989"
            ],
            [
             0.3333333333333333,
             "#31688e"
            ],
            [
             0.4444444444444444,
             "#26828e"
            ],
            [
             0.5555555555555556,
             "#1f9e89"
            ],
            [
             0.6666666666666666,
             "#35b779"
            ],
            [
             0.7777777777777778,
             "#6ece58"
            ],
            [
             0.8888888888888888,
             "#b5de2b"
            ],
            [
             1,
             "#fde725"
            ]
           ],
           "sequentialminus": [
            [
             0,
             "#440154"
            ],
            [
             0.1111111111111111,
             "#482878"
            ],
            [
             0.2222222222222222,
             "#3e4989"
            ],
            [
             0.3333333333333333,
             "#31688e"
            ],
            [
             0.4444444444444444,
             "#26828e"
            ],
            [
             0.5555555555555556,
             "#1f9e89"
            ],
            [
             0.6666666666666666,
             "#35b779"
            ],
            [
             0.7777777777777778,
             "#6ece58"
            ],
            [
             0.8888888888888888,
             "#b5de2b"
            ],
            [
             1,
             "#fde725"
            ]
           ]
          },
          "colorway": [
           "#1F77B4",
           "#FF7F0E",
           "#2CA02C",
           "#D62728",
           "#9467BD",
           "#8C564B",
           "#E377C2",
           "#7F7F7F",
           "#BCBD22",
           "#17BECF"
          ],
          "font": {
           "color": "rgb(36,36,36)"
          },
          "geo": {
           "bgcolor": "white",
           "lakecolor": "white",
           "landcolor": "white",
           "showlakes": true,
           "showland": true,
           "subunitcolor": "white"
          },
          "hoverlabel": {
           "align": "left"
          },
          "hovermode": "closest",
          "mapbox": {
           "style": "light"
          },
          "paper_bgcolor": "white",
          "plot_bgcolor": "white",
          "polar": {
           "angularaxis": {
            "gridcolor": "rgb(232,232,232)",
            "linecolor": "rgb(36,36,36)",
            "showgrid": false,
            "showline": true,
            "ticks": "outside"
           },
           "bgcolor": "white",
           "radialaxis": {
            "gridcolor": "rgb(232,232,232)",
            "linecolor": "rgb(36,36,36)",
            "showgrid": false,
            "showline": true,
            "ticks": "outside"
           }
          },
          "scene": {
           "xaxis": {
            "backgroundcolor": "white",
            "gridcolor": "rgb(232,232,232)",
            "gridwidth": 2,
            "linecolor": "rgb(36,36,36)",
            "showbackground": true,
            "showgrid": false,
            "showline": true,
            "ticks": "outside",
            "zeroline": false,
            "zerolinecolor": "rgb(36,36,36)"
           },
           "yaxis": {
            "backgroundcolor": "white",
            "gridcolor": "rgb(232,232,232)",
            "gridwidth": 2,
            "linecolor": "rgb(36,36,36)",
            "showbackground": true,
            "showgrid": false,
            "showline": true,
            "ticks": "outside",
            "zeroline": false,
            "zerolinecolor": "rgb(36,36,36)"
           },
           "zaxis": {
            "backgroundcolor": "white",
            "gridcolor": "rgb(232,232,232)",
            "gridwidth": 2,
            "linecolor": "rgb(36,36,36)",
            "showbackground": true,
            "showgrid": false,
            "showline": true,
            "ticks": "outside",
            "zeroline": false,
            "zerolinecolor": "rgb(36,36,36)"
           }
          },
          "shapedefaults": {
           "fillcolor": "black",
           "line": {
            "width": 0
           },
           "opacity": 0.3
          },
          "ternary": {
           "aaxis": {
            "gridcolor": "rgb(232,232,232)",
            "linecolor": "rgb(36,36,36)",
            "showgrid": false,
            "showline": true,
            "ticks": "outside"
           },
           "baxis": {
            "gridcolor": "rgb(232,232,232)",
            "linecolor": "rgb(36,36,36)",
            "showgrid": false,
            "showline": true,
            "ticks": "outside"
           },
           "bgcolor": "white",
           "caxis": {
            "gridcolor": "rgb(232,232,232)",
            "linecolor": "rgb(36,36,36)",
            "showgrid": false,
            "showline": true,
            "ticks": "outside"
           }
          },
          "title": {
           "x": 0.05
          },
          "xaxis": {
           "automargin": true,
           "gridcolor": "rgb(232,232,232)",
           "linecolor": "rgb(36,36,36)",
           "showgrid": false,
           "showline": true,
           "ticks": "outside",
           "title": {
            "standoff": 15
           },
           "zeroline": false,
           "zerolinecolor": "rgb(36,36,36)"
          },
          "yaxis": {
           "automargin": true,
           "gridcolor": "rgb(232,232,232)",
           "linecolor": "rgb(36,36,36)",
           "showgrid": false,
           "showline": true,
           "ticks": "outside",
           "title": {
            "standoff": 15
           },
           "zeroline": false,
           "zerolinecolor": "rgb(36,36,36)"
          }
         }
        },
        "title": {
         "text": "GDP and Happiness Index"
        },
        "width": 750,
        "xaxis": {
         "anchor": "y",
         "domain": [
          0,
          1
         ],
         "title": {
          "text": "Log GDP"
         }
        },
        "yaxis": {
         "anchor": "x",
         "domain": [
          0,
          1
         ],
         "title": {
          "text": "Happiness index"
         }
        }
       }
      },
      "text/html": [
       "<div>\n",
       "        \n",
       "        \n",
       "            <div id=\"da9569b1-f123-468c-b816-a44555c9988a\" class=\"plotly-graph-div\" style=\"height:650px; width:750px;\"></div>\n",
       "            <script type=\"text/javascript\">\n",
       "                require([\"plotly\"], function(Plotly) {\n",
       "                    window.PLOTLYENV=window.PLOTLYENV || {};\n",
       "                    \n",
       "                if (document.getElementById(\"da9569b1-f123-468c-b816-a44555c9988a\")) {\n",
       "                    Plotly.newPlot(\n",
       "                        'da9569b1-f123-468c-b816-a44555c9988a',\n",
       "                        [{\"hovertemplate\": \"<b>%{hovertext}</b><br><br>Continent=Asia<br>Log GDP=%{x}<br>Happiness index=%{y}<extra></extra>\", \"hovertext\": [\"Afghanistan\", \"Armenia\", \"Azerbaijan\", \"Bahrain\", \"Bangladesh\", \"Cambodia\", \"China\", \"Cyprus\", \"Georgia\", \"Hong Kong S.A.R. of China\", \"India\", \"Indonesia\", \"Iran\", \"Iraq\", \"Israel\", \"Japan\", \"Jordan\", \"Kazakhstan\", \"Kuwait\", \"Kyrgyzstan\", \"Lebanon\", \"Malaysia\", \"Mongolia\", \"Nepal\", \"Pakistan\", \"Palestinian Territories\", \"Philippines\", \"Russia\", \"Saudi Arabia\", \"Singapore\", \"South Korea\", \"Sri Lanka\", \"Taiwan\", \"Tajikistan\", \"Thailand\", \"Turkmenistan\", \"United Arab Emirates\", \"Uzbekistan\", \"Vietnam\", \"Yemen\"], \"legendgroup\": \"Asia\", \"marker\": {\"color\": \"royalblue\", \"symbol\": \"circle\"}, \"mode\": \"markers\", \"name\": \"Asia\", \"orientation\": \"v\", \"showlegend\": true, \"type\": \"scatter\", \"x\": [0.138828633, 0.488069414, 0.6182212579999999, 0.835140998, 0.297180043, 0.297180043, 0.607375271, 0.776572668, 0.5097613879999999, 0.8893709329999999, 0.422993492, 0.540130152, 0.6572668110000001, 0.616052061, 0.776572668, 0.8112798259999999, 0.47505423, 0.7071583509999999, 0.9262472890000001, 0.281995662, 0.548806941, 0.74186551, 0.548806941, 0.225596529, 0.35574837299999995, 0.338394794, 0.455531453, 0.713665944, 0.8611713670000001, 0.986984816, 0.793926247, 0.550976139, 0.8568329720000001, 0.249457701, 0.6225596529999999, 0.6225596529999999, 0.9284164859999999, 0.407809111, 0.41431670299999995, 0.20824295], \"xaxis\": \"x\", \"y\": [0.0, 0.317738791, 0.48538011700000006, 0.695906433, 0.321637427, 0.376218324, 0.47563352799999997, 0.662768031, 0.348927875, 0.526315789, 0.270955166, 0.47563352799999997, 0.401559454, 0.350877193, 0.910331384, 0.633528265, 0.419103314, 0.6276803120000001, 0.668615984, 0.578947368, 0.48538011700000006, 0.522417154, 0.520467836, 0.40545809, 0.6179337229999999, 0.384015595, 0.5711500970000001, 0.56920078, 0.707602339, 0.7251461990000001, 0.625730994, 0.325536062, 0.7212475629999999, 0.6179337229999999, 0.639376218, 0.5009746589999999, 0.85380117, 0.73294347, 0.49122807, 0.115009747], \"yaxis\": \"y\"}, {\"hovertemplate\": \"<b>%{hovertext}</b><br><br>Continent=Europe<br>Log GDP=%{x}<br>Happiness index=%{y}<extra></extra>\", \"hovertext\": [\"Albania\", \"Austria\", \"Belarus\", \"Belgium\", \"Bosnia and Herzegovina\", \"Bulgaria\", \"Croatia\", \"Czech Republic\", \"Denmark\", \"Estonia\", \"Finland\", \"France\", \"Germany\", \"Greece\", \"Hungary\", \"Ireland\", \"Italy\", \"Kosovo\", \"Latvia\", \"Lithuania\", \"Luxembourg\", \"Macedonia\", \"Malta\", \"Moldova\", \"Montenegro\", \"Netherlands\", \"Poland\", \"Portugal\", \"Romania\", \"Serbia\", \"Slovakia\", \"Slovenia\", \"Spain\", \"Sweden\", \"Turkey\", \"Ukraine\", \"United Kingdom\"], \"legendgroup\": \"Europe\", \"marker\": {\"color\": \"darkturquoise\", \"symbol\": \"circle\"}, \"mode\": \"markers\", \"name\": \"Europe\", \"orientation\": \"v\", \"showlegend\": true, \"type\": \"scatter\", \"x\": [0.553145336, 0.845986985, 0.63340564, 0.830802603, 0.561822126, 0.650759219, 0.6963123640000001, 0.7722342729999999, 0.852494577, 0.754880694, 0.8242950109999999, 0.8112798259999999, 0.843817787, 0.7114967459999999, 0.731019523, 0.9262472890000001, 0.789587852, 0.511930586, 0.7158351409999999, 0.7527114970000001, 1.0, 0.57483731, 0.8004338390000001, 0.41431670299999995, 0.62472885, 0.8611713670000001, 0.7353579179999999, 0.7396963120000001, 0.7006507590000001, 0.607375271, 0.754880694, 0.763557484, 0.78308026, 0.85032538, 0.7158351409999999, 0.46637744, 0.8156182209999999], \"xaxis\": \"x\", \"y\": [0.38596491200000005, 0.902534113, 0.563352827, 0.8323586740000001, 0.473684211, 0.47563352799999997, 0.522417154, 0.8050682259999999, 0.961013645, 0.639376218, 1.0, 0.77582846, 0.859649123, 0.48538011700000006, 0.664717349, 0.857699805, 0.69005848, 0.6803118909999999, 0.6471734889999999, 0.703703704, 0.857699805, 0.5009746589999999, 0.783625731, 0.520467836, 0.5750487329999999, 0.935672515, 0.69005848, 0.59454191, 0.668615984, 0.479532164, 0.7231968809999999, 0.684210526, 0.695906433, 0.902534113, 0.5750487329999999, 0.321637427, 0.8654970759999999], \"yaxis\": \"y\"}, {\"hovertemplate\": \"<b>%{hovertext}</b><br><br>Continent=Americas<br>Log GDP=%{x}<br>Happiness index=%{y}<extra></extra>\", \"hovertext\": [\"Argentina\", \"Bolivia\", \"Brazil\", \"Canada\", \"Chile\", \"Colombia\", \"Costa Rica\", \"Dominican Republic\", \"Ecuador\", \"El Salvador\", \"Guatemala\", \"Haiti\", \"Honduras\", \"Mexico\", \"Nicaragua\", \"Panama\", \"Paraguay\", \"Peru\", \"United States\", \"Uruguay\", \"Venezuela\"], \"legendgroup\": \"Americas\", \"marker\": {\"color\": \"crimson\", \"symbol\": \"circle\"}, \"mode\": \"markers\", \"name\": \"Americas\", \"orientation\": \"v\", \"showlegend\": true, \"type\": \"scatter\", \"x\": [0.655097614, 0.431670282, 0.5921908889999999, 0.837310195, 0.689804772, 0.577006508, 0.609544469, 0.603036876, 0.52494577, 0.446854664, 0.451193059, 0.125813449, 0.340563991, 0.644251627, 0.373101952, 0.689804772, 0.553145336, 0.563991323, 0.8850325379999999, 0.67462039, 0.46637744], \"xaxis\": \"x\", \"y\": [0.658869396, 0.582846004, 0.71539961, 0.9259259259999999, 0.713450292, 0.6822612090000001, 0.890838207, 0.5750487329999999, 0.619883041, 0.7173489279999999, 0.71539961, 0.226120858, 0.65497076, 0.7309941520000001, 0.744639376, 0.7621832359999999, 0.59454191, 0.59454191, 0.844054581, 0.7173489279999999, 0.469785575], \"yaxis\": \"y\"}, {\"hovertemplate\": \"<b>%{hovertext}</b><br><br>Continent=Oceania<br>Log GDP=%{x}<br>Happiness index=%{y}<extra></extra>\", \"hovertext\": [\"Australia\", \"New Zealand\"], \"legendgroup\": \"Oceania\", \"marker\": {\"color\": \"mediumpurple\", \"symbol\": \"circle\"}, \"mode\": \"markers\", \"name\": \"Oceania\", \"orientation\": \"v\", \"showlegend\": true, \"type\": \"scatter\", \"x\": [0.84164859, 0.793926247], \"xaxis\": \"x\", \"y\": [0.89668616, 0.910331384], \"yaxis\": \"y\"}, {\"hovertemplate\": \"<b>%{hovertext}</b><br><br>Continent=Africa<br>Log GDP=%{x}<br>Happiness index=%{y}<extra></extra>\", \"hovertext\": [\"Benin\", \"Botswana\", \"Burkina Faso\", \"Cameroon\", \"Chad\", \"Congo (Brazzaville)\", \"Egypt\", \"Gabon\", \"Ghana\", \"Guinea\", \"Kenya\", \"Liberia\", \"Madagascar\", \"Malawi\", \"Mali\", \"Mauritania\", \"Morocco\", \"Niger\", \"Nigeria\", \"Rwanda\", \"Senegal\", \"Sierra Leone\", \"South Africa\", \"Tanzania\", \"Tunisia\", \"Uganda\", \"Zambia\", \"Zimbabwe\"], \"legendgroup\": \"Africa\", \"marker\": {\"color\": \"mediumseagreen\", \"symbol\": \"circle\"}, \"mode\": \"markers\", \"name\": \"Africa\", \"orientation\": \"v\", \"showlegend\": true, \"type\": \"scatter\", \"x\": [0.173535792, 0.620390456, 0.132321041, 0.277657267, 0.138828633, 0.370932755, 0.531453362, 0.620390456, 0.321041215, 0.188720174, 0.251626898, 0.052060737999999995, 0.093275488, 0.047722343, 0.169197397, 0.301518438, 0.453362256, 0.0, 0.381778742, 0.15618221300000001, 0.271149675, 0.09110629099999999, 0.559652928, 0.24078091100000001, 0.535791757, 0.140997831, 0.301518438, 0.221258134], \"xaxis\": \"x\", \"y\": [0.426900585, 0.16374269, 0.38791423, 0.469785575, 0.37037037, 0.43274853799999996, 0.247563353, 0.413255361, 0.549707602, 0.43079922, 0.35477582799999996, 0.34307992200000004, 0.276803119, 0.148148148, 0.40545809, 0.393762183, 0.516569201, 0.382066277, 0.518518519, 0.087719298, 0.393762183, 0.278752437, 0.360623782, 0.134502924, 0.28460039, 0.261208577, 0.247563353, 0.19103313800000002], \"yaxis\": \"y\"}],\n",
       "                        {\"height\": 650, \"legend\": {\"title\": {\"text\": \"Continent\"}, \"tracegroupgap\": 0}, \"margin\": {\"t\": 60}, \"template\": {\"data\": {\"bar\": [{\"error_x\": {\"color\": \"rgb(36,36,36)\"}, \"error_y\": {\"color\": \"rgb(36,36,36)\"}, \"marker\": {\"line\": {\"color\": \"white\", \"width\": 0.5}}, \"type\": \"bar\"}], \"barpolar\": [{\"marker\": {\"line\": {\"color\": \"white\", \"width\": 0.5}}, \"type\": \"barpolar\"}], \"carpet\": [{\"aaxis\": {\"endlinecolor\": \"rgb(36,36,36)\", \"gridcolor\": \"white\", \"linecolor\": \"white\", \"minorgridcolor\": \"white\", \"startlinecolor\": \"rgb(36,36,36)\"}, \"baxis\": {\"endlinecolor\": \"rgb(36,36,36)\", \"gridcolor\": \"white\", \"linecolor\": \"white\", \"minorgridcolor\": \"white\", \"startlinecolor\": \"rgb(36,36,36)\"}, \"type\": \"carpet\"}], \"choropleth\": [{\"colorbar\": {\"outlinewidth\": 1, \"tickcolor\": \"rgb(36,36,36)\", \"ticks\": \"outside\"}, \"type\": \"choropleth\"}], \"contour\": [{\"colorbar\": {\"outlinewidth\": 1, \"tickcolor\": \"rgb(36,36,36)\", \"ticks\": \"outside\"}, \"colorscale\": [[0.0, \"#440154\"], [0.1111111111111111, \"#482878\"], [0.2222222222222222, \"#3e4989\"], [0.3333333333333333, \"#31688e\"], [0.4444444444444444, \"#26828e\"], [0.5555555555555556, \"#1f9e89\"], [0.6666666666666666, \"#35b779\"], [0.7777777777777778, \"#6ece58\"], [0.8888888888888888, \"#b5de2b\"], [1.0, \"#fde725\"]], \"type\": \"contour\"}], \"contourcarpet\": [{\"colorbar\": {\"outlinewidth\": 1, \"tickcolor\": \"rgb(36,36,36)\", \"ticks\": \"outside\"}, \"type\": \"contourcarpet\"}], \"heatmap\": [{\"colorbar\": {\"outlinewidth\": 1, \"tickcolor\": \"rgb(36,36,36)\", \"ticks\": \"outside\"}, \"colorscale\": [[0.0, \"#440154\"], [0.1111111111111111, \"#482878\"], [0.2222222222222222, \"#3e4989\"], [0.3333333333333333, \"#31688e\"], [0.4444444444444444, \"#26828e\"], [0.5555555555555556, \"#1f9e89\"], [0.6666666666666666, \"#35b779\"], [0.7777777777777778, \"#6ece58\"], [0.8888888888888888, \"#b5de2b\"], [1.0, \"#fde725\"]], \"type\": \"heatmap\"}], \"heatmapgl\": [{\"colorbar\": {\"outlinewidth\": 1, \"tickcolor\": \"rgb(36,36,36)\", \"ticks\": \"outside\"}, \"colorscale\": [[0.0, \"#440154\"], [0.1111111111111111, \"#482878\"], [0.2222222222222222, \"#3e4989\"], [0.3333333333333333, \"#31688e\"], [0.4444444444444444, \"#26828e\"], [0.5555555555555556, \"#1f9e89\"], [0.6666666666666666, \"#35b779\"], [0.7777777777777778, \"#6ece58\"], [0.8888888888888888, \"#b5de2b\"], [1.0, \"#fde725\"]], \"type\": \"heatmapgl\"}], \"histogram\": [{\"marker\": {\"line\": {\"color\": \"white\", \"width\": 0.6}}, \"type\": \"histogram\"}], \"histogram2d\": [{\"colorbar\": {\"outlinewidth\": 1, \"tickcolor\": \"rgb(36,36,36)\", \"ticks\": \"outside\"}, \"colorscale\": [[0.0, \"#440154\"], [0.1111111111111111, \"#482878\"], [0.2222222222222222, \"#3e4989\"], [0.3333333333333333, \"#31688e\"], [0.4444444444444444, \"#26828e\"], [0.5555555555555556, \"#1f9e89\"], [0.6666666666666666, \"#35b779\"], [0.7777777777777778, \"#6ece58\"], [0.8888888888888888, \"#b5de2b\"], [1.0, \"#fde725\"]], \"type\": \"histogram2d\"}], \"histogram2dcontour\": [{\"colorbar\": {\"outlinewidth\": 1, \"tickcolor\": \"rgb(36,36,36)\", \"ticks\": \"outside\"}, \"colorscale\": [[0.0, \"#440154\"], [0.1111111111111111, \"#482878\"], [0.2222222222222222, \"#3e4989\"], [0.3333333333333333, \"#31688e\"], [0.4444444444444444, \"#26828e\"], [0.5555555555555556, \"#1f9e89\"], [0.6666666666666666, \"#35b779\"], [0.7777777777777778, \"#6ece58\"], [0.8888888888888888, \"#b5de2b\"], [1.0, \"#fde725\"]], \"type\": \"histogram2dcontour\"}], \"mesh3d\": [{\"colorbar\": {\"outlinewidth\": 1, \"tickcolor\": \"rgb(36,36,36)\", \"ticks\": \"outside\"}, \"type\": \"mesh3d\"}], \"parcoords\": [{\"line\": {\"colorbar\": {\"outlinewidth\": 1, \"tickcolor\": \"rgb(36,36,36)\", \"ticks\": \"outside\"}}, \"type\": \"parcoords\"}], \"pie\": [{\"automargin\": true, \"type\": \"pie\"}], \"scatter\": [{\"marker\": {\"colorbar\": {\"outlinewidth\": 1, \"tickcolor\": \"rgb(36,36,36)\", \"ticks\": \"outside\"}}, \"type\": \"scatter\"}], \"scatter3d\": [{\"line\": {\"colorbar\": {\"outlinewidth\": 1, \"tickcolor\": \"rgb(36,36,36)\", \"ticks\": \"outside\"}}, \"marker\": {\"colorbar\": {\"outlinewidth\": 1, \"tickcolor\": \"rgb(36,36,36)\", \"ticks\": \"outside\"}}, \"type\": \"scatter3d\"}], \"scattercarpet\": [{\"marker\": {\"colorbar\": {\"outlinewidth\": 1, \"tickcolor\": \"rgb(36,36,36)\", \"ticks\": \"outside\"}}, \"type\": \"scattercarpet\"}], \"scattergeo\": [{\"marker\": {\"colorbar\": {\"outlinewidth\": 1, \"tickcolor\": \"rgb(36,36,36)\", \"ticks\": \"outside\"}}, \"type\": \"scattergeo\"}], \"scattergl\": [{\"marker\": {\"colorbar\": {\"outlinewidth\": 1, \"tickcolor\": \"rgb(36,36,36)\", \"ticks\": \"outside\"}}, \"type\": \"scattergl\"}], \"scattermapbox\": [{\"marker\": {\"colorbar\": {\"outlinewidth\": 1, \"tickcolor\": \"rgb(36,36,36)\", \"ticks\": \"outside\"}}, \"type\": \"scattermapbox\"}], \"scatterpolar\": [{\"marker\": {\"colorbar\": {\"outlinewidth\": 1, \"tickcolor\": \"rgb(36,36,36)\", \"ticks\": \"outside\"}}, \"type\": \"scatterpolar\"}], \"scatterpolargl\": [{\"marker\": {\"colorbar\": {\"outlinewidth\": 1, \"tickcolor\": \"rgb(36,36,36)\", \"ticks\": \"outside\"}}, \"type\": \"scatterpolargl\"}], \"scatterternary\": [{\"marker\": {\"colorbar\": {\"outlinewidth\": 1, \"tickcolor\": \"rgb(36,36,36)\", \"ticks\": \"outside\"}}, \"type\": \"scatterternary\"}], \"surface\": [{\"colorbar\": {\"outlinewidth\": 1, \"tickcolor\": \"rgb(36,36,36)\", \"ticks\": \"outside\"}, \"colorscale\": [[0.0, \"#440154\"], [0.1111111111111111, \"#482878\"], [0.2222222222222222, \"#3e4989\"], [0.3333333333333333, \"#31688e\"], [0.4444444444444444, \"#26828e\"], [0.5555555555555556, \"#1f9e89\"], [0.6666666666666666, \"#35b779\"], [0.7777777777777778, \"#6ece58\"], [0.8888888888888888, \"#b5de2b\"], [1.0, \"#fde725\"]], \"type\": \"surface\"}], \"table\": [{\"cells\": {\"fill\": {\"color\": \"rgb(237,237,237)\"}, \"line\": {\"color\": \"white\"}}, \"header\": {\"fill\": {\"color\": \"rgb(217,217,217)\"}, \"line\": {\"color\": \"white\"}}, \"type\": \"table\"}]}, \"layout\": {\"annotationdefaults\": {\"arrowhead\": 0, \"arrowwidth\": 1}, \"coloraxis\": {\"colorbar\": {\"outlinewidth\": 1, \"tickcolor\": \"rgb(36,36,36)\", \"ticks\": \"outside\"}}, \"colorscale\": {\"diverging\": [[0.0, \"rgb(103,0,31)\"], [0.1, \"rgb(178,24,43)\"], [0.2, \"rgb(214,96,77)\"], [0.3, \"rgb(244,165,130)\"], [0.4, \"rgb(253,219,199)\"], [0.5, \"rgb(247,247,247)\"], [0.6, \"rgb(209,229,240)\"], [0.7, \"rgb(146,197,222)\"], [0.8, \"rgb(67,147,195)\"], [0.9, \"rgb(33,102,172)\"], [1.0, \"rgb(5,48,97)\"]], \"sequential\": [[0.0, \"#440154\"], [0.1111111111111111, \"#482878\"], [0.2222222222222222, \"#3e4989\"], [0.3333333333333333, \"#31688e\"], [0.4444444444444444, \"#26828e\"], [0.5555555555555556, \"#1f9e89\"], [0.6666666666666666, \"#35b779\"], [0.7777777777777778, \"#6ece58\"], [0.8888888888888888, \"#b5de2b\"], [1.0, \"#fde725\"]], \"sequentialminus\": [[0.0, \"#440154\"], [0.1111111111111111, \"#482878\"], [0.2222222222222222, \"#3e4989\"], [0.3333333333333333, \"#31688e\"], [0.4444444444444444, \"#26828e\"], [0.5555555555555556, \"#1f9e89\"], [0.6666666666666666, \"#35b779\"], [0.7777777777777778, \"#6ece58\"], [0.8888888888888888, \"#b5de2b\"], [1.0, \"#fde725\"]]}, \"colorway\": [\"#1F77B4\", \"#FF7F0E\", \"#2CA02C\", \"#D62728\", \"#9467BD\", \"#8C564B\", \"#E377C2\", \"#7F7F7F\", \"#BCBD22\", \"#17BECF\"], \"font\": {\"color\": \"rgb(36,36,36)\"}, \"geo\": {\"bgcolor\": \"white\", \"lakecolor\": \"white\", \"landcolor\": \"white\", \"showlakes\": true, \"showland\": true, \"subunitcolor\": \"white\"}, \"hoverlabel\": {\"align\": \"left\"}, \"hovermode\": \"closest\", \"mapbox\": {\"style\": \"light\"}, \"paper_bgcolor\": \"white\", \"plot_bgcolor\": \"white\", \"polar\": {\"angularaxis\": {\"gridcolor\": \"rgb(232,232,232)\", \"linecolor\": \"rgb(36,36,36)\", \"showgrid\": false, \"showline\": true, \"ticks\": \"outside\"}, \"bgcolor\": \"white\", \"radialaxis\": {\"gridcolor\": \"rgb(232,232,232)\", \"linecolor\": \"rgb(36,36,36)\", \"showgrid\": false, \"showline\": true, \"ticks\": \"outside\"}}, \"scene\": {\"xaxis\": {\"backgroundcolor\": \"white\", \"gridcolor\": \"rgb(232,232,232)\", \"gridwidth\": 2, \"linecolor\": \"rgb(36,36,36)\", \"showbackground\": true, \"showgrid\": false, \"showline\": true, \"ticks\": \"outside\", \"zeroline\": false, \"zerolinecolor\": \"rgb(36,36,36)\"}, \"yaxis\": {\"backgroundcolor\": \"white\", \"gridcolor\": \"rgb(232,232,232)\", \"gridwidth\": 2, \"linecolor\": \"rgb(36,36,36)\", \"showbackground\": true, \"showgrid\": false, \"showline\": true, \"ticks\": \"outside\", \"zeroline\": false, \"zerolinecolor\": \"rgb(36,36,36)\"}, \"zaxis\": {\"backgroundcolor\": \"white\", \"gridcolor\": \"rgb(232,232,232)\", \"gridwidth\": 2, \"linecolor\": \"rgb(36,36,36)\", \"showbackground\": true, \"showgrid\": false, \"showline\": true, \"ticks\": \"outside\", \"zeroline\": false, \"zerolinecolor\": \"rgb(36,36,36)\"}}, \"shapedefaults\": {\"fillcolor\": \"black\", \"line\": {\"width\": 0}, \"opacity\": 0.3}, \"ternary\": {\"aaxis\": {\"gridcolor\": \"rgb(232,232,232)\", \"linecolor\": \"rgb(36,36,36)\", \"showgrid\": false, \"showline\": true, \"ticks\": \"outside\"}, \"baxis\": {\"gridcolor\": \"rgb(232,232,232)\", \"linecolor\": \"rgb(36,36,36)\", \"showgrid\": false, \"showline\": true, \"ticks\": \"outside\"}, \"bgcolor\": \"white\", \"caxis\": {\"gridcolor\": \"rgb(232,232,232)\", \"linecolor\": \"rgb(36,36,36)\", \"showgrid\": false, \"showline\": true, \"ticks\": \"outside\"}}, \"title\": {\"x\": 0.05}, \"xaxis\": {\"automargin\": true, \"gridcolor\": \"rgb(232,232,232)\", \"linecolor\": \"rgb(36,36,36)\", \"showgrid\": false, \"showline\": true, \"ticks\": \"outside\", \"title\": {\"standoff\": 15}, \"zeroline\": false, \"zerolinecolor\": \"rgb(36,36,36)\"}, \"yaxis\": {\"automargin\": true, \"gridcolor\": \"rgb(232,232,232)\", \"linecolor\": \"rgb(36,36,36)\", \"showgrid\": false, \"showline\": true, \"ticks\": \"outside\", \"title\": {\"standoff\": 15}, \"zeroline\": false, \"zerolinecolor\": \"rgb(36,36,36)\"}}}, \"title\": {\"text\": \"GDP and Happiness Index\"}, \"width\": 750, \"xaxis\": {\"anchor\": \"y\", \"domain\": [0.0, 1.0], \"title\": {\"text\": \"Log GDP\"}}, \"yaxis\": {\"anchor\": \"x\", \"domain\": [0.0, 1.0], \"title\": {\"text\": \"Happiness index\"}}},\n",
       "                        {\"responsive\": true}\n",
       "                    ).then(function(){\n",
       "                            \n",
       "var gd = document.getElementById('da9569b1-f123-468c-b816-a44555c9988a');\n",
       "var x = new MutationObserver(function (mutations, observer) {{\n",
       "        var display = window.getComputedStyle(gd).display;\n",
       "        if (!display || display === 'none') {{\n",
       "            console.log([gd, 'removed!']);\n",
       "            Plotly.purge(gd);\n",
       "            observer.disconnect();\n",
       "        }}\n",
       "}});\n",
       "\n",
       "// Listen for the removal of the full notebook cells\n",
       "var notebookContainer = gd.closest('#notebook-container');\n",
       "if (notebookContainer) {{\n",
       "    x.observe(notebookContainer, {childList: true});\n",
       "}}\n",
       "\n",
       "// Listen for the clearing of the current output cell\n",
       "var outputEl = gd.closest('.output');\n",
       "if (outputEl) {{\n",
       "    x.observe(outputEl, {childList: true});\n",
       "}}\n",
       "\n",
       "                        })\n",
       "                };\n",
       "                });\n",
       "            </script>\n",
       "        </div>"
      ]
     },
     "metadata": {},
     "output_type": "display_data"
    }
   ],
   "source": [
    "GDP = df_2017N_v3[\"Log GDP\"]\n",
    "HI = df_2017N_v3[\"Happiness index\"]\n",
    "color = [\"royalblue\",\"darkturquoise\",\"crimson\", \"mediumpurple\",\"mediumseagreen\"]\n",
    "\n",
    "\n",
    "#scatter plot\n",
    "fig_Q2a_1 = px.scatter(df_2017N_v3, GDP, HI, hover_name=\"Country name\"\n",
    "           ,template=\"simple_white\",color_discrete_sequence=color, color=\"Continent\")\n",
    "\n",
    "\n",
    "#update layout\n",
    "fig_Q2a_1.update_layout(title_text=\"GDP and Happiness Index\"\n",
    "                      #,annotations= [dict(x=0.05, y=1, text=line_eq, showarrow = False)]\n",
    "                      ,width=750, height=650\n",
    "                     )\n",
    "\n",
    "\n",
    "fig_Q2a_1.show()\n"
   ]
  },
  {
   "cell_type": "code",
   "execution_count": 22,
   "metadata": {},
   "outputs": [
    {
     "data": {
      "application/vnd.plotly.v1+json": {
       "config": {
        "plotlyServerURL": "https://plot.ly"
       },
       "data": [
        {
         "hovertemplate": "<b>%{hovertext}</b><br><br>Continent=Asia<br>Log GDP=%{x}<br>Happiness index=%{y}<extra></extra>",
         "hovertext": [
          "Afghanistan",
          "Armenia",
          "Azerbaijan",
          "Bahrain",
          "Bangladesh",
          "Cambodia",
          "China",
          "Cyprus",
          "Georgia",
          "Hong Kong S.A.R. of China",
          "India",
          "Indonesia",
          "Iran",
          "Iraq",
          "Israel",
          "Japan",
          "Jordan",
          "Kazakhstan",
          "Kuwait",
          "Kyrgyzstan",
          "Lebanon",
          "Malaysia",
          "Mongolia",
          "Nepal",
          "Pakistan",
          "Palestinian Territories",
          "Philippines",
          "Russia",
          "Saudi Arabia",
          "Singapore",
          "South Korea",
          "Sri Lanka",
          "Taiwan",
          "Tajikistan",
          "Thailand",
          "Turkmenistan",
          "United Arab Emirates",
          "Uzbekistan",
          "Vietnam",
          "Yemen"
         ],
         "legendgroup": "Asia",
         "marker": {
          "color": "royalblue",
          "symbol": "circle"
         },
         "mode": "markers",
         "name": "Asia",
         "orientation": "v",
         "showlegend": true,
         "type": "scatter",
         "x": [
          0.138828633,
          0.488069414,
          0.6182212579999999,
          0.835140998,
          0.297180043,
          0.297180043,
          0.607375271,
          0.776572668,
          0.5097613879999999,
          0.8893709329999999,
          0.422993492,
          0.540130152,
          0.6572668110000001,
          0.616052061,
          0.776572668,
          0.8112798259999999,
          0.47505423,
          0.7071583509999999,
          0.9262472890000001,
          0.281995662,
          0.548806941,
          0.74186551,
          0.548806941,
          0.225596529,
          0.35574837299999995,
          0.338394794,
          0.455531453,
          0.713665944,
          0.8611713670000001,
          0.986984816,
          0.793926247,
          0.550976139,
          0.8568329720000001,
          0.249457701,
          0.6225596529999999,
          0.6225596529999999,
          0.9284164859999999,
          0.407809111,
          0.41431670299999995,
          0.20824295
         ],
         "xaxis": "x",
         "y": [
          0,
          0.317738791,
          0.48538011700000006,
          0.695906433,
          0.321637427,
          0.376218324,
          0.47563352799999997,
          0.662768031,
          0.348927875,
          0.526315789,
          0.270955166,
          0.47563352799999997,
          0.401559454,
          0.350877193,
          0.910331384,
          0.633528265,
          0.419103314,
          0.6276803120000001,
          0.668615984,
          0.578947368,
          0.48538011700000006,
          0.522417154,
          0.520467836,
          0.40545809,
          0.6179337229999999,
          0.384015595,
          0.5711500970000001,
          0.56920078,
          0.707602339,
          0.7251461990000001,
          0.625730994,
          0.325536062,
          0.7212475629999999,
          0.6179337229999999,
          0.639376218,
          0.5009746589999999,
          0.85380117,
          0.73294347,
          0.49122807,
          0.115009747
         ],
         "yaxis": "y"
        },
        {
         "hovertemplate": "<b>%{hovertext}</b><br><br>Continent=Europe<br>Log GDP=%{x}<br>Happiness index=%{y}<extra></extra>",
         "hovertext": [
          "Albania",
          "Austria",
          "Belarus",
          "Belgium",
          "Bosnia and Herzegovina",
          "Bulgaria",
          "Croatia",
          "Czech Republic",
          "Denmark",
          "Estonia",
          "Finland",
          "France",
          "Germany",
          "Greece",
          "Hungary",
          "Ireland",
          "Italy",
          "Kosovo",
          "Latvia",
          "Lithuania",
          "Luxembourg",
          "Macedonia",
          "Malta",
          "Moldova",
          "Montenegro",
          "Netherlands",
          "Poland",
          "Portugal",
          "Romania",
          "Serbia",
          "Slovakia",
          "Slovenia",
          "Spain",
          "Sweden",
          "Turkey",
          "Ukraine",
          "United Kingdom"
         ],
         "legendgroup": "Europe",
         "marker": {
          "color": "darkturquoise",
          "symbol": "circle"
         },
         "mode": "markers",
         "name": "Europe",
         "orientation": "v",
         "showlegend": true,
         "type": "scatter",
         "x": [
          0.553145336,
          0.845986985,
          0.63340564,
          0.830802603,
          0.561822126,
          0.650759219,
          0.6963123640000001,
          0.7722342729999999,
          0.852494577,
          0.754880694,
          0.8242950109999999,
          0.8112798259999999,
          0.843817787,
          0.7114967459999999,
          0.731019523,
          0.9262472890000001,
          0.789587852,
          0.511930586,
          0.7158351409999999,
          0.7527114970000001,
          1,
          0.57483731,
          0.8004338390000001,
          0.41431670299999995,
          0.62472885,
          0.8611713670000001,
          0.7353579179999999,
          0.7396963120000001,
          0.7006507590000001,
          0.607375271,
          0.754880694,
          0.763557484,
          0.78308026,
          0.85032538,
          0.7158351409999999,
          0.46637744,
          0.8156182209999999
         ],
         "xaxis": "x",
         "y": [
          0.38596491200000005,
          0.902534113,
          0.563352827,
          0.8323586740000001,
          0.473684211,
          0.47563352799999997,
          0.522417154,
          0.8050682259999999,
          0.961013645,
          0.639376218,
          1,
          0.77582846,
          0.859649123,
          0.48538011700000006,
          0.664717349,
          0.857699805,
          0.69005848,
          0.6803118909999999,
          0.6471734889999999,
          0.703703704,
          0.857699805,
          0.5009746589999999,
          0.783625731,
          0.520467836,
          0.5750487329999999,
          0.935672515,
          0.69005848,
          0.59454191,
          0.668615984,
          0.479532164,
          0.7231968809999999,
          0.684210526,
          0.695906433,
          0.902534113,
          0.5750487329999999,
          0.321637427,
          0.8654970759999999
         ],
         "yaxis": "y"
        },
        {
         "hovertemplate": "<b>%{hovertext}</b><br><br>Continent=Americas<br>Log GDP=%{x}<br>Happiness index=%{y}<extra></extra>",
         "hovertext": [
          "Argentina",
          "Bolivia",
          "Brazil",
          "Canada",
          "Chile",
          "Colombia",
          "Costa Rica",
          "Dominican Republic",
          "Ecuador",
          "El Salvador",
          "Guatemala",
          "Haiti",
          "Honduras",
          "Mexico",
          "Nicaragua",
          "Panama",
          "Paraguay",
          "Peru",
          "United States",
          "Uruguay",
          "Venezuela"
         ],
         "legendgroup": "Americas",
         "marker": {
          "color": "crimson",
          "symbol": "circle"
         },
         "mode": "markers",
         "name": "Americas",
         "orientation": "v",
         "showlegend": true,
         "type": "scatter",
         "x": [
          0.655097614,
          0.431670282,
          0.5921908889999999,
          0.837310195,
          0.689804772,
          0.577006508,
          0.609544469,
          0.603036876,
          0.52494577,
          0.446854664,
          0.451193059,
          0.125813449,
          0.340563991,
          0.644251627,
          0.373101952,
          0.689804772,
          0.553145336,
          0.563991323,
          0.8850325379999999,
          0.67462039,
          0.46637744
         ],
         "xaxis": "x",
         "y": [
          0.658869396,
          0.582846004,
          0.71539961,
          0.9259259259999999,
          0.713450292,
          0.6822612090000001,
          0.890838207,
          0.5750487329999999,
          0.619883041,
          0.7173489279999999,
          0.71539961,
          0.226120858,
          0.65497076,
          0.7309941520000001,
          0.744639376,
          0.7621832359999999,
          0.59454191,
          0.59454191,
          0.844054581,
          0.7173489279999999,
          0.469785575
         ],
         "yaxis": "y"
        },
        {
         "hovertemplate": "<b>%{hovertext}</b><br><br>Continent=Oceania<br>Log GDP=%{x}<br>Happiness index=%{y}<extra></extra>",
         "hovertext": [
          "Australia",
          "New Zealand"
         ],
         "legendgroup": "Oceania",
         "marker": {
          "color": "mediumpurple",
          "symbol": "circle"
         },
         "mode": "markers",
         "name": "Oceania",
         "orientation": "v",
         "showlegend": true,
         "type": "scatter",
         "x": [
          0.84164859,
          0.793926247
         ],
         "xaxis": "x",
         "y": [
          0.89668616,
          0.910331384
         ],
         "yaxis": "y"
        },
        {
         "hovertemplate": "<b>%{hovertext}</b><br><br>Continent=Africa<br>Log GDP=%{x}<br>Happiness index=%{y}<extra></extra>",
         "hovertext": [
          "Benin",
          "Botswana",
          "Burkina Faso",
          "Cameroon",
          "Chad",
          "Congo (Brazzaville)",
          "Egypt",
          "Gabon",
          "Ghana",
          "Guinea",
          "Kenya",
          "Liberia",
          "Madagascar",
          "Malawi",
          "Mali",
          "Mauritania",
          "Morocco",
          "Niger",
          "Nigeria",
          "Rwanda",
          "Senegal",
          "Sierra Leone",
          "South Africa",
          "Tanzania",
          "Tunisia",
          "Uganda",
          "Zambia",
          "Zimbabwe"
         ],
         "legendgroup": "Africa",
         "marker": {
          "color": "mediumseagreen",
          "symbol": "circle"
         },
         "mode": "markers",
         "name": "Africa",
         "orientation": "v",
         "showlegend": true,
         "type": "scatter",
         "x": [
          0.173535792,
          0.620390456,
          0.132321041,
          0.277657267,
          0.138828633,
          0.370932755,
          0.531453362,
          0.620390456,
          0.321041215,
          0.188720174,
          0.251626898,
          0.052060737999999995,
          0.093275488,
          0.047722343,
          0.169197397,
          0.301518438,
          0.453362256,
          0,
          0.381778742,
          0.15618221300000001,
          0.271149675,
          0.09110629099999999,
          0.559652928,
          0.24078091100000001,
          0.535791757,
          0.140997831,
          0.301518438,
          0.221258134
         ],
         "xaxis": "x",
         "y": [
          0.426900585,
          0.16374269,
          0.38791423,
          0.469785575,
          0.37037037,
          0.43274853799999996,
          0.247563353,
          0.413255361,
          0.549707602,
          0.43079922,
          0.35477582799999996,
          0.34307992200000004,
          0.276803119,
          0.148148148,
          0.40545809,
          0.393762183,
          0.516569201,
          0.382066277,
          0.518518519,
          0.087719298,
          0.393762183,
          0.278752437,
          0.360623782,
          0.134502924,
          0.28460039,
          0.261208577,
          0.247563353,
          0.19103313800000002
         ],
         "yaxis": "y"
        },
        {
         "marker": {
          "color": "dimgrey"
         },
         "mode": "lines",
         "name": "Regression",
         "type": "scatter",
         "x": [
          0.138828633,
          0.553145336,
          0.655097614,
          0.488069414,
          0.84164859,
          0.845986985,
          0.6182212579999999,
          0.835140998,
          0.297180043,
          0.63340564,
          0.830802603,
          0.173535792,
          0.431670282,
          0.561822126,
          0.620390456,
          0.5921908889999999,
          0.650759219,
          0.132321041,
          0.297180043,
          0.277657267,
          0.837310195,
          0.138828633,
          0.689804772,
          0.607375271,
          0.577006508,
          0.370932755,
          0.609544469,
          0.6963123640000001,
          0.776572668,
          0.7722342729999999,
          0.852494577,
          0.603036876,
          0.52494577,
          0.531453362,
          0.446854664,
          0.754880694,
          0.8242950109999999,
          0.8112798259999999,
          0.620390456,
          0.5097613879999999,
          0.843817787,
          0.321041215,
          0.7114967459999999,
          0.451193059,
          0.188720174,
          0.125813449,
          0.340563991,
          0.8893709329999999,
          0.731019523,
          0.422993492,
          0.540130152,
          0.6572668110000001,
          0.616052061,
          0.9262472890000001,
          0.776572668,
          0.789587852,
          0.8112798259999999,
          0.47505423,
          0.7071583509999999,
          0.251626898,
          0.511930586,
          0.9262472890000001,
          0.281995662,
          0.7158351409999999,
          0.548806941,
          0.052060737999999995,
          0.7527114970000001,
          1,
          0.57483731,
          0.093275488,
          0.047722343,
          0.74186551,
          0.169197397,
          0.8004338390000001,
          0.301518438,
          0.644251627,
          0.41431670299999995,
          0.548806941,
          0.62472885,
          0.453362256,
          0.225596529,
          0.8611713670000001,
          0.793926247,
          0.373101952,
          0,
          0.381778742,
          0.35574837299999995,
          0.338394794,
          0.689804772,
          0.553145336,
          0.563991323,
          0.455531453,
          0.7353579179999999,
          0.7396963120000001,
          0.7006507590000001,
          0.713665944,
          0.15618221300000001,
          0.8611713670000001,
          0.271149675,
          0.607375271,
          0.09110629099999999,
          0.986984816,
          0.754880694,
          0.763557484,
          0.559652928,
          0.793926247,
          0.78308026,
          0.550976139,
          0.85032538,
          0.8568329720000001,
          0.249457701,
          0.24078091100000001,
          0.6225596529999999,
          0.535791757,
          0.7158351409999999,
          0.6225596529999999,
          0.140997831,
          0.46637744,
          0.9284164859999999,
          0.8156182209999999,
          0.8850325379999999,
          0.67462039,
          0.407809111,
          0.46637744,
          0.41431670299999995,
          0.20824295,
          0.301518438,
          0.221258134
         ],
         "y": [
          0.28837582564633957,
          0.5562886432472717,
          0.6222148341588013,
          0.5142080959394831,
          0.7428457361824734,
          0.7456511061323202,
          0.5983691905550602,
          0.738637681581022,
          0.3907718239659642,
          0.6081879850562051,
          0.7358323116311754,
          0.3108187845984761,
          0.4777382885313881,
          0.5618993831469653,
          0.5997718758533025,
          0.5815369715026172,
          0.6194094642089545,
          0.2841677710448883,
          0.3907718239659642,
          0.3781476601616103,
          0.7400403662326267,
          0.28837582564633957,
          0.6446577924643001,
          0.5913557660037622,
          0.5717181776481101,
          0.43846311117344633,
          0.5927584513020044,
          0.6488658470657515,
          0.7007651888746849,
          0.697959818924838,
          0.7498591607337715,
          0.5885503960539153,
          0.5380537395432241,
          0.5422617941446755,
          0.487557083032533,
          0.6867383397720886,
          0.731624257029724,
          0.7232081471801837,
          0.5997718758533025,
          0.5282349450420792,
          0.7442484208340779,
          0.40620135836680266,
          0.6586846415668962,
          0.4903624529823798,
          0.320637579099621,
          0.2799597164434369,
          0.4188255221711566,
          0.7737048043375125,
          0.6713088060178879,
          0.47212754863169454,
          0.5478725340443691,
          0.6236175188104058,
          0.5969665059034557,
          0.7975504479412537,
          0.7007651888746849,
          0.7091812980775875,
          0.7232081471801837,
          0.5057919867365805,
          0.6558792716170494,
          0.3613154411091673,
          0.5296376303403215,
          0.7975504479412537,
          0.38095303011145704,
          0.661490011516743,
          0.5534832732974249,
          0.23226842988259255,
          0.6853356551204842,
          0.845241734502098,
          0.5703154923498679,
          0.25891944278954265,
          0.22946305993274577,
          0.6783222305691861,
          0.3080134146486293,
          0.7161947226288856,
          0.393577193915811,
          0.6152014096075032,
          0.46651680937863865,
          0.5534832732974249,
          0.6025772451565116,
          0.49176513763398433,
          0.3444832220567243,
          0.7554699006334651,
          0.7119866680274343,
          0.43986579582505086,
          0.1986039917777066,
          0.44547653572474444,
          0.4286443166723014,
          0.41742283751955206,
          0.6446577924643001,
          0.5562886432472717,
          0.5633020677985697,
          0.4931678222855888,
          0.6741141759677347,
          0.6769195452709439,
          0.6516712170155983,
          0.6600873268651386,
          0.2995973054457267,
          0.7554699006334651,
          0.3739396055601589,
          0.5913557660037622,
          0.2575167581379381,
          0.8368256252991955,
          0.6867383397720886,
          0.6923490796717823,
          0.560496697848723,
          0.7119866680274343,
          0.7049732434761361,
          0.5548859585956671,
          0.748456476082167,
          0.7526645306836184,
          0.35991275645756277,
          0.3543020165578692,
          0.601174560504907,
          0.5450671640945223,
          0.661490011516743,
          0.601174560504907,
          0.28977851094458185,
          0.5001812468368869,
          0.7989531325928582,
          0.7260135171300304,
          0.7708994343876657,
          0.6348389979631552,
          0.4623087547771874,
          0.5001812468368869,
          0.46651680937863865,
          0.3332617429039749,
          0.393577193915811,
          0.3416778521068775
         ]
        }
       ],
       "layout": {
        "annotations": [
         {
          "showarrow": false,
          "text": "y = 0.65x + 0.2",
          "x": 0.05,
          "y": 1
         }
        ],
        "height": 650,
        "legend": {
         "title": {
          "text": "Continent"
         },
         "tracegroupgap": 0
        },
        "margin": {
         "t": 60
        },
        "template": {
         "data": {
          "bar": [
           {
            "error_x": {
             "color": "rgb(36,36,36)"
            },
            "error_y": {
             "color": "rgb(36,36,36)"
            },
            "marker": {
             "line": {
              "color": "white",
              "width": 0.5
             }
            },
            "type": "bar"
           }
          ],
          "barpolar": [
           {
            "marker": {
             "line": {
              "color": "white",
              "width": 0.5
             }
            },
            "type": "barpolar"
           }
          ],
          "carpet": [
           {
            "aaxis": {
             "endlinecolor": "rgb(36,36,36)",
             "gridcolor": "white",
             "linecolor": "white",
             "minorgridcolor": "white",
             "startlinecolor": "rgb(36,36,36)"
            },
            "baxis": {
             "endlinecolor": "rgb(36,36,36)",
             "gridcolor": "white",
             "linecolor": "white",
             "minorgridcolor": "white",
             "startlinecolor": "rgb(36,36,36)"
            },
            "type": "carpet"
           }
          ],
          "choropleth": [
           {
            "colorbar": {
             "outlinewidth": 1,
             "tickcolor": "rgb(36,36,36)",
             "ticks": "outside"
            },
            "type": "choropleth"
           }
          ],
          "contour": [
           {
            "colorbar": {
             "outlinewidth": 1,
             "tickcolor": "rgb(36,36,36)",
             "ticks": "outside"
            },
            "colorscale": [
             [
              0,
              "#440154"
             ],
             [
              0.1111111111111111,
              "#482878"
             ],
             [
              0.2222222222222222,
              "#3e4989"
             ],
             [
              0.3333333333333333,
              "#31688e"
             ],
             [
              0.4444444444444444,
              "#26828e"
             ],
             [
              0.5555555555555556,
              "#1f9e89"
             ],
             [
              0.6666666666666666,
              "#35b779"
             ],
             [
              0.7777777777777778,
              "#6ece58"
             ],
             [
              0.8888888888888888,
              "#b5de2b"
             ],
             [
              1,
              "#fde725"
             ]
            ],
            "type": "contour"
           }
          ],
          "contourcarpet": [
           {
            "colorbar": {
             "outlinewidth": 1,
             "tickcolor": "rgb(36,36,36)",
             "ticks": "outside"
            },
            "type": "contourcarpet"
           }
          ],
          "heatmap": [
           {
            "colorbar": {
             "outlinewidth": 1,
             "tickcolor": "rgb(36,36,36)",
             "ticks": "outside"
            },
            "colorscale": [
             [
              0,
              "#440154"
             ],
             [
              0.1111111111111111,
              "#482878"
             ],
             [
              0.2222222222222222,
              "#3e4989"
             ],
             [
              0.3333333333333333,
              "#31688e"
             ],
             [
              0.4444444444444444,
              "#26828e"
             ],
             [
              0.5555555555555556,
              "#1f9e89"
             ],
             [
              0.6666666666666666,
              "#35b779"
             ],
             [
              0.7777777777777778,
              "#6ece58"
             ],
             [
              0.8888888888888888,
              "#b5de2b"
             ],
             [
              1,
              "#fde725"
             ]
            ],
            "type": "heatmap"
           }
          ],
          "heatmapgl": [
           {
            "colorbar": {
             "outlinewidth": 1,
             "tickcolor": "rgb(36,36,36)",
             "ticks": "outside"
            },
            "colorscale": [
             [
              0,
              "#440154"
             ],
             [
              0.1111111111111111,
              "#482878"
             ],
             [
              0.2222222222222222,
              "#3e4989"
             ],
             [
              0.3333333333333333,
              "#31688e"
             ],
             [
              0.4444444444444444,
              "#26828e"
             ],
             [
              0.5555555555555556,
              "#1f9e89"
             ],
             [
              0.6666666666666666,
              "#35b779"
             ],
             [
              0.7777777777777778,
              "#6ece58"
             ],
             [
              0.8888888888888888,
              "#b5de2b"
             ],
             [
              1,
              "#fde725"
             ]
            ],
            "type": "heatmapgl"
           }
          ],
          "histogram": [
           {
            "marker": {
             "line": {
              "color": "white",
              "width": 0.6
             }
            },
            "type": "histogram"
           }
          ],
          "histogram2d": [
           {
            "colorbar": {
             "outlinewidth": 1,
             "tickcolor": "rgb(36,36,36)",
             "ticks": "outside"
            },
            "colorscale": [
             [
              0,
              "#440154"
             ],
             [
              0.1111111111111111,
              "#482878"
             ],
             [
              0.2222222222222222,
              "#3e4989"
             ],
             [
              0.3333333333333333,
              "#31688e"
             ],
             [
              0.4444444444444444,
              "#26828e"
             ],
             [
              0.5555555555555556,
              "#1f9e89"
             ],
             [
              0.6666666666666666,
              "#35b779"
             ],
             [
              0.7777777777777778,
              "#6ece58"
             ],
             [
              0.8888888888888888,
              "#b5de2b"
             ],
             [
              1,
              "#fde725"
             ]
            ],
            "type": "histogram2d"
           }
          ],
          "histogram2dcontour": [
           {
            "colorbar": {
             "outlinewidth": 1,
             "tickcolor": "rgb(36,36,36)",
             "ticks": "outside"
            },
            "colorscale": [
             [
              0,
              "#440154"
             ],
             [
              0.1111111111111111,
              "#482878"
             ],
             [
              0.2222222222222222,
              "#3e4989"
             ],
             [
              0.3333333333333333,
              "#31688e"
             ],
             [
              0.4444444444444444,
              "#26828e"
             ],
             [
              0.5555555555555556,
              "#1f9e89"
             ],
             [
              0.6666666666666666,
              "#35b779"
             ],
             [
              0.7777777777777778,
              "#6ece58"
             ],
             [
              0.8888888888888888,
              "#b5de2b"
             ],
             [
              1,
              "#fde725"
             ]
            ],
            "type": "histogram2dcontour"
           }
          ],
          "mesh3d": [
           {
            "colorbar": {
             "outlinewidth": 1,
             "tickcolor": "rgb(36,36,36)",
             "ticks": "outside"
            },
            "type": "mesh3d"
           }
          ],
          "parcoords": [
           {
            "line": {
             "colorbar": {
              "outlinewidth": 1,
              "tickcolor": "rgb(36,36,36)",
              "ticks": "outside"
             }
            },
            "type": "parcoords"
           }
          ],
          "pie": [
           {
            "automargin": true,
            "type": "pie"
           }
          ],
          "scatter": [
           {
            "marker": {
             "colorbar": {
              "outlinewidth": 1,
              "tickcolor": "rgb(36,36,36)",
              "ticks": "outside"
             }
            },
            "type": "scatter"
           }
          ],
          "scatter3d": [
           {
            "line": {
             "colorbar": {
              "outlinewidth": 1,
              "tickcolor": "rgb(36,36,36)",
              "ticks": "outside"
             }
            },
            "marker": {
             "colorbar": {
              "outlinewidth": 1,
              "tickcolor": "rgb(36,36,36)",
              "ticks": "outside"
             }
            },
            "type": "scatter3d"
           }
          ],
          "scattercarpet": [
           {
            "marker": {
             "colorbar": {
              "outlinewidth": 1,
              "tickcolor": "rgb(36,36,36)",
              "ticks": "outside"
             }
            },
            "type": "scattercarpet"
           }
          ],
          "scattergeo": [
           {
            "marker": {
             "colorbar": {
              "outlinewidth": 1,
              "tickcolor": "rgb(36,36,36)",
              "ticks": "outside"
             }
            },
            "type": "scattergeo"
           }
          ],
          "scattergl": [
           {
            "marker": {
             "colorbar": {
              "outlinewidth": 1,
              "tickcolor": "rgb(36,36,36)",
              "ticks": "outside"
             }
            },
            "type": "scattergl"
           }
          ],
          "scattermapbox": [
           {
            "marker": {
             "colorbar": {
              "outlinewidth": 1,
              "tickcolor": "rgb(36,36,36)",
              "ticks": "outside"
             }
            },
            "type": "scattermapbox"
           }
          ],
          "scatterpolar": [
           {
            "marker": {
             "colorbar": {
              "outlinewidth": 1,
              "tickcolor": "rgb(36,36,36)",
              "ticks": "outside"
             }
            },
            "type": "scatterpolar"
           }
          ],
          "scatterpolargl": [
           {
            "marker": {
             "colorbar": {
              "outlinewidth": 1,
              "tickcolor": "rgb(36,36,36)",
              "ticks": "outside"
             }
            },
            "type": "scatterpolargl"
           }
          ],
          "scatterternary": [
           {
            "marker": {
             "colorbar": {
              "outlinewidth": 1,
              "tickcolor": "rgb(36,36,36)",
              "ticks": "outside"
             }
            },
            "type": "scatterternary"
           }
          ],
          "surface": [
           {
            "colorbar": {
             "outlinewidth": 1,
             "tickcolor": "rgb(36,36,36)",
             "ticks": "outside"
            },
            "colorscale": [
             [
              0,
              "#440154"
             ],
             [
              0.1111111111111111,
              "#482878"
             ],
             [
              0.2222222222222222,
              "#3e4989"
             ],
             [
              0.3333333333333333,
              "#31688e"
             ],
             [
              0.4444444444444444,
              "#26828e"
             ],
             [
              0.5555555555555556,
              "#1f9e89"
             ],
             [
              0.6666666666666666,
              "#35b779"
             ],
             [
              0.7777777777777778,
              "#6ece58"
             ],
             [
              0.8888888888888888,
              "#b5de2b"
             ],
             [
              1,
              "#fde725"
             ]
            ],
            "type": "surface"
           }
          ],
          "table": [
           {
            "cells": {
             "fill": {
              "color": "rgb(237,237,237)"
             },
             "line": {
              "color": "white"
             }
            },
            "header": {
             "fill": {
              "color": "rgb(217,217,217)"
             },
             "line": {
              "color": "white"
             }
            },
            "type": "table"
           }
          ]
         },
         "layout": {
          "annotationdefaults": {
           "arrowhead": 0,
           "arrowwidth": 1
          },
          "coloraxis": {
           "colorbar": {
            "outlinewidth": 1,
            "tickcolor": "rgb(36,36,36)",
            "ticks": "outside"
           }
          },
          "colorscale": {
           "diverging": [
            [
             0,
             "rgb(103,0,31)"
            ],
            [
             0.1,
             "rgb(178,24,43)"
            ],
            [
             0.2,
             "rgb(214,96,77)"
            ],
            [
             0.3,
             "rgb(244,165,130)"
            ],
            [
             0.4,
             "rgb(253,219,199)"
            ],
            [
             0.5,
             "rgb(247,247,247)"
            ],
            [
             0.6,
             "rgb(209,229,240)"
            ],
            [
             0.7,
             "rgb(146,197,222)"
            ],
            [
             0.8,
             "rgb(67,147,195)"
            ],
            [
             0.9,
             "rgb(33,102,172)"
            ],
            [
             1,
             "rgb(5,48,97)"
            ]
           ],
           "sequential": [
            [
             0,
             "#440154"
            ],
            [
             0.1111111111111111,
             "#482878"
            ],
            [
             0.2222222222222222,
             "#3e4989"
            ],
            [
             0.3333333333333333,
             "#31688e"
            ],
            [
             0.4444444444444444,
             "#26828e"
            ],
            [
             0.5555555555555556,
             "#1f9e89"
            ],
            [
             0.6666666666666666,
             "#35b779"
            ],
            [
             0.7777777777777778,
             "#6ece58"
            ],
            [
             0.8888888888888888,
             "#b5de2b"
            ],
            [
             1,
             "#fde725"
            ]
           ],
           "sequentialminus": [
            [
             0,
             "#440154"
            ],
            [
             0.1111111111111111,
             "#482878"
            ],
            [
             0.2222222222222222,
             "#3e4989"
            ],
            [
             0.3333333333333333,
             "#31688e"
            ],
            [
             0.4444444444444444,
             "#26828e"
            ],
            [
             0.5555555555555556,
             "#1f9e89"
            ],
            [
             0.6666666666666666,
             "#35b779"
            ],
            [
             0.7777777777777778,
             "#6ece58"
            ],
            [
             0.8888888888888888,
             "#b5de2b"
            ],
            [
             1,
             "#fde725"
            ]
           ]
          },
          "colorway": [
           "#1F77B4",
           "#FF7F0E",
           "#2CA02C",
           "#D62728",
           "#9467BD",
           "#8C564B",
           "#E377C2",
           "#7F7F7F",
           "#BCBD22",
           "#17BECF"
          ],
          "font": {
           "color": "rgb(36,36,36)"
          },
          "geo": {
           "bgcolor": "white",
           "lakecolor": "white",
           "landcolor": "white",
           "showlakes": true,
           "showland": true,
           "subunitcolor": "white"
          },
          "hoverlabel": {
           "align": "left"
          },
          "hovermode": "closest",
          "mapbox": {
           "style": "light"
          },
          "paper_bgcolor": "white",
          "plot_bgcolor": "white",
          "polar": {
           "angularaxis": {
            "gridcolor": "rgb(232,232,232)",
            "linecolor": "rgb(36,36,36)",
            "showgrid": false,
            "showline": true,
            "ticks": "outside"
           },
           "bgcolor": "white",
           "radialaxis": {
            "gridcolor": "rgb(232,232,232)",
            "linecolor": "rgb(36,36,36)",
            "showgrid": false,
            "showline": true,
            "ticks": "outside"
           }
          },
          "scene": {
           "xaxis": {
            "backgroundcolor": "white",
            "gridcolor": "rgb(232,232,232)",
            "gridwidth": 2,
            "linecolor": "rgb(36,36,36)",
            "showbackground": true,
            "showgrid": false,
            "showline": true,
            "ticks": "outside",
            "zeroline": false,
            "zerolinecolor": "rgb(36,36,36)"
           },
           "yaxis": {
            "backgroundcolor": "white",
            "gridcolor": "rgb(232,232,232)",
            "gridwidth": 2,
            "linecolor": "rgb(36,36,36)",
            "showbackground": true,
            "showgrid": false,
            "showline": true,
            "ticks": "outside",
            "zeroline": false,
            "zerolinecolor": "rgb(36,36,36)"
           },
           "zaxis": {
            "backgroundcolor": "white",
            "gridcolor": "rgb(232,232,232)",
            "gridwidth": 2,
            "linecolor": "rgb(36,36,36)",
            "showbackground": true,
            "showgrid": false,
            "showline": true,
            "ticks": "outside",
            "zeroline": false,
            "zerolinecolor": "rgb(36,36,36)"
           }
          },
          "shapedefaults": {
           "fillcolor": "black",
           "line": {
            "width": 0
           },
           "opacity": 0.3
          },
          "ternary": {
           "aaxis": {
            "gridcolor": "rgb(232,232,232)",
            "linecolor": "rgb(36,36,36)",
            "showgrid": false,
            "showline": true,
            "ticks": "outside"
           },
           "baxis": {
            "gridcolor": "rgb(232,232,232)",
            "linecolor": "rgb(36,36,36)",
            "showgrid": false,
            "showline": true,
            "ticks": "outside"
           },
           "bgcolor": "white",
           "caxis": {
            "gridcolor": "rgb(232,232,232)",
            "linecolor": "rgb(36,36,36)",
            "showgrid": false,
            "showline": true,
            "ticks": "outside"
           }
          },
          "title": {
           "x": 0.05
          },
          "xaxis": {
           "automargin": true,
           "gridcolor": "rgb(232,232,232)",
           "linecolor": "rgb(36,36,36)",
           "showgrid": false,
           "showline": true,
           "ticks": "outside",
           "title": {
            "standoff": 15
           },
           "zeroline": false,
           "zerolinecolor": "rgb(36,36,36)"
          },
          "yaxis": {
           "automargin": true,
           "gridcolor": "rgb(232,232,232)",
           "linecolor": "rgb(36,36,36)",
           "showgrid": false,
           "showline": true,
           "ticks": "outside",
           "title": {
            "standoff": 15
           },
           "zeroline": false,
           "zerolinecolor": "rgb(36,36,36)"
          }
         }
        },
        "title": {
         "text": "GDP and Happiness Index are Positively Correlated"
        },
        "width": 750,
        "xaxis": {
         "anchor": "y",
         "domain": [
          0,
          1
         ],
         "title": {
          "text": "Log GDP"
         }
        },
        "yaxis": {
         "anchor": "x",
         "domain": [
          0,
          1
         ],
         "title": {
          "text": "Happiness index"
         }
        }
       }
      },
      "text/html": [
       "<div>\n",
       "        \n",
       "        \n",
       "            <div id=\"bad99c95-ec56-4275-a808-bd7b86b78bf3\" class=\"plotly-graph-div\" style=\"height:650px; width:750px;\"></div>\n",
       "            <script type=\"text/javascript\">\n",
       "                require([\"plotly\"], function(Plotly) {\n",
       "                    window.PLOTLYENV=window.PLOTLYENV || {};\n",
       "                    \n",
       "                if (document.getElementById(\"bad99c95-ec56-4275-a808-bd7b86b78bf3\")) {\n",
       "                    Plotly.newPlot(\n",
       "                        'bad99c95-ec56-4275-a808-bd7b86b78bf3',\n",
       "                        [{\"hovertemplate\": \"<b>%{hovertext}</b><br><br>Continent=Asia<br>Log GDP=%{x}<br>Happiness index=%{y}<extra></extra>\", \"hovertext\": [\"Afghanistan\", \"Armenia\", \"Azerbaijan\", \"Bahrain\", \"Bangladesh\", \"Cambodia\", \"China\", \"Cyprus\", \"Georgia\", \"Hong Kong S.A.R. of China\", \"India\", \"Indonesia\", \"Iran\", \"Iraq\", \"Israel\", \"Japan\", \"Jordan\", \"Kazakhstan\", \"Kuwait\", \"Kyrgyzstan\", \"Lebanon\", \"Malaysia\", \"Mongolia\", \"Nepal\", \"Pakistan\", \"Palestinian Territories\", \"Philippines\", \"Russia\", \"Saudi Arabia\", \"Singapore\", \"South Korea\", \"Sri Lanka\", \"Taiwan\", \"Tajikistan\", \"Thailand\", \"Turkmenistan\", \"United Arab Emirates\", \"Uzbekistan\", \"Vietnam\", \"Yemen\"], \"legendgroup\": \"Asia\", \"marker\": {\"color\": \"royalblue\", \"symbol\": \"circle\"}, \"mode\": \"markers\", \"name\": \"Asia\", \"orientation\": \"v\", \"showlegend\": true, \"type\": \"scatter\", \"x\": [0.138828633, 0.488069414, 0.6182212579999999, 0.835140998, 0.297180043, 0.297180043, 0.607375271, 0.776572668, 0.5097613879999999, 0.8893709329999999, 0.422993492, 0.540130152, 0.6572668110000001, 0.616052061, 0.776572668, 0.8112798259999999, 0.47505423, 0.7071583509999999, 0.9262472890000001, 0.281995662, 0.548806941, 0.74186551, 0.548806941, 0.225596529, 0.35574837299999995, 0.338394794, 0.455531453, 0.713665944, 0.8611713670000001, 0.986984816, 0.793926247, 0.550976139, 0.8568329720000001, 0.249457701, 0.6225596529999999, 0.6225596529999999, 0.9284164859999999, 0.407809111, 0.41431670299999995, 0.20824295], \"xaxis\": \"x\", \"y\": [0.0, 0.317738791, 0.48538011700000006, 0.695906433, 0.321637427, 0.376218324, 0.47563352799999997, 0.662768031, 0.348927875, 0.526315789, 0.270955166, 0.47563352799999997, 0.401559454, 0.350877193, 0.910331384, 0.633528265, 0.419103314, 0.6276803120000001, 0.668615984, 0.578947368, 0.48538011700000006, 0.522417154, 0.520467836, 0.40545809, 0.6179337229999999, 0.384015595, 0.5711500970000001, 0.56920078, 0.707602339, 0.7251461990000001, 0.625730994, 0.325536062, 0.7212475629999999, 0.6179337229999999, 0.639376218, 0.5009746589999999, 0.85380117, 0.73294347, 0.49122807, 0.115009747], \"yaxis\": \"y\"}, {\"hovertemplate\": \"<b>%{hovertext}</b><br><br>Continent=Europe<br>Log GDP=%{x}<br>Happiness index=%{y}<extra></extra>\", \"hovertext\": [\"Albania\", \"Austria\", \"Belarus\", \"Belgium\", \"Bosnia and Herzegovina\", \"Bulgaria\", \"Croatia\", \"Czech Republic\", \"Denmark\", \"Estonia\", \"Finland\", \"France\", \"Germany\", \"Greece\", \"Hungary\", \"Ireland\", \"Italy\", \"Kosovo\", \"Latvia\", \"Lithuania\", \"Luxembourg\", \"Macedonia\", \"Malta\", \"Moldova\", \"Montenegro\", \"Netherlands\", \"Poland\", \"Portugal\", \"Romania\", \"Serbia\", \"Slovakia\", \"Slovenia\", \"Spain\", \"Sweden\", \"Turkey\", \"Ukraine\", \"United Kingdom\"], \"legendgroup\": \"Europe\", \"marker\": {\"color\": \"darkturquoise\", \"symbol\": \"circle\"}, \"mode\": \"markers\", \"name\": \"Europe\", \"orientation\": \"v\", \"showlegend\": true, \"type\": \"scatter\", \"x\": [0.553145336, 0.845986985, 0.63340564, 0.830802603, 0.561822126, 0.650759219, 0.6963123640000001, 0.7722342729999999, 0.852494577, 0.754880694, 0.8242950109999999, 0.8112798259999999, 0.843817787, 0.7114967459999999, 0.731019523, 0.9262472890000001, 0.789587852, 0.511930586, 0.7158351409999999, 0.7527114970000001, 1.0, 0.57483731, 0.8004338390000001, 0.41431670299999995, 0.62472885, 0.8611713670000001, 0.7353579179999999, 0.7396963120000001, 0.7006507590000001, 0.607375271, 0.754880694, 0.763557484, 0.78308026, 0.85032538, 0.7158351409999999, 0.46637744, 0.8156182209999999], \"xaxis\": \"x\", \"y\": [0.38596491200000005, 0.902534113, 0.563352827, 0.8323586740000001, 0.473684211, 0.47563352799999997, 0.522417154, 0.8050682259999999, 0.961013645, 0.639376218, 1.0, 0.77582846, 0.859649123, 0.48538011700000006, 0.664717349, 0.857699805, 0.69005848, 0.6803118909999999, 0.6471734889999999, 0.703703704, 0.857699805, 0.5009746589999999, 0.783625731, 0.520467836, 0.5750487329999999, 0.935672515, 0.69005848, 0.59454191, 0.668615984, 0.479532164, 0.7231968809999999, 0.684210526, 0.695906433, 0.902534113, 0.5750487329999999, 0.321637427, 0.8654970759999999], \"yaxis\": \"y\"}, {\"hovertemplate\": \"<b>%{hovertext}</b><br><br>Continent=Americas<br>Log GDP=%{x}<br>Happiness index=%{y}<extra></extra>\", \"hovertext\": [\"Argentina\", \"Bolivia\", \"Brazil\", \"Canada\", \"Chile\", \"Colombia\", \"Costa Rica\", \"Dominican Republic\", \"Ecuador\", \"El Salvador\", \"Guatemala\", \"Haiti\", \"Honduras\", \"Mexico\", \"Nicaragua\", \"Panama\", \"Paraguay\", \"Peru\", \"United States\", \"Uruguay\", \"Venezuela\"], \"legendgroup\": \"Americas\", \"marker\": {\"color\": \"crimson\", \"symbol\": \"circle\"}, \"mode\": \"markers\", \"name\": \"Americas\", \"orientation\": \"v\", \"showlegend\": true, \"type\": \"scatter\", \"x\": [0.655097614, 0.431670282, 0.5921908889999999, 0.837310195, 0.689804772, 0.577006508, 0.609544469, 0.603036876, 0.52494577, 0.446854664, 0.451193059, 0.125813449, 0.340563991, 0.644251627, 0.373101952, 0.689804772, 0.553145336, 0.563991323, 0.8850325379999999, 0.67462039, 0.46637744], \"xaxis\": \"x\", \"y\": [0.658869396, 0.582846004, 0.71539961, 0.9259259259999999, 0.713450292, 0.6822612090000001, 0.890838207, 0.5750487329999999, 0.619883041, 0.7173489279999999, 0.71539961, 0.226120858, 0.65497076, 0.7309941520000001, 0.744639376, 0.7621832359999999, 0.59454191, 0.59454191, 0.844054581, 0.7173489279999999, 0.469785575], \"yaxis\": \"y\"}, {\"hovertemplate\": \"<b>%{hovertext}</b><br><br>Continent=Oceania<br>Log GDP=%{x}<br>Happiness index=%{y}<extra></extra>\", \"hovertext\": [\"Australia\", \"New Zealand\"], \"legendgroup\": \"Oceania\", \"marker\": {\"color\": \"mediumpurple\", \"symbol\": \"circle\"}, \"mode\": \"markers\", \"name\": \"Oceania\", \"orientation\": \"v\", \"showlegend\": true, \"type\": \"scatter\", \"x\": [0.84164859, 0.793926247], \"xaxis\": \"x\", \"y\": [0.89668616, 0.910331384], \"yaxis\": \"y\"}, {\"hovertemplate\": \"<b>%{hovertext}</b><br><br>Continent=Africa<br>Log GDP=%{x}<br>Happiness index=%{y}<extra></extra>\", \"hovertext\": [\"Benin\", \"Botswana\", \"Burkina Faso\", \"Cameroon\", \"Chad\", \"Congo (Brazzaville)\", \"Egypt\", \"Gabon\", \"Ghana\", \"Guinea\", \"Kenya\", \"Liberia\", \"Madagascar\", \"Malawi\", \"Mali\", \"Mauritania\", \"Morocco\", \"Niger\", \"Nigeria\", \"Rwanda\", \"Senegal\", \"Sierra Leone\", \"South Africa\", \"Tanzania\", \"Tunisia\", \"Uganda\", \"Zambia\", \"Zimbabwe\"], \"legendgroup\": \"Africa\", \"marker\": {\"color\": \"mediumseagreen\", \"symbol\": \"circle\"}, \"mode\": \"markers\", \"name\": \"Africa\", \"orientation\": \"v\", \"showlegend\": true, \"type\": \"scatter\", \"x\": [0.173535792, 0.620390456, 0.132321041, 0.277657267, 0.138828633, 0.370932755, 0.531453362, 0.620390456, 0.321041215, 0.188720174, 0.251626898, 0.052060737999999995, 0.093275488, 0.047722343, 0.169197397, 0.301518438, 0.453362256, 0.0, 0.381778742, 0.15618221300000001, 0.271149675, 0.09110629099999999, 0.559652928, 0.24078091100000001, 0.535791757, 0.140997831, 0.301518438, 0.221258134], \"xaxis\": \"x\", \"y\": [0.426900585, 0.16374269, 0.38791423, 0.469785575, 0.37037037, 0.43274853799999996, 0.247563353, 0.413255361, 0.549707602, 0.43079922, 0.35477582799999996, 0.34307992200000004, 0.276803119, 0.148148148, 0.40545809, 0.393762183, 0.516569201, 0.382066277, 0.518518519, 0.087719298, 0.393762183, 0.278752437, 0.360623782, 0.134502924, 0.28460039, 0.261208577, 0.247563353, 0.19103313800000002], \"yaxis\": \"y\"}, {\"marker\": {\"color\": \"dimgrey\"}, \"mode\": \"lines\", \"name\": \"Regression\", \"type\": \"scatter\", \"x\": [0.138828633, 0.553145336, 0.655097614, 0.488069414, 0.84164859, 0.845986985, 0.6182212579999999, 0.835140998, 0.297180043, 0.63340564, 0.830802603, 0.173535792, 0.431670282, 0.561822126, 0.620390456, 0.5921908889999999, 0.650759219, 0.132321041, 0.297180043, 0.277657267, 0.837310195, 0.138828633, 0.689804772, 0.607375271, 0.577006508, 0.370932755, 0.609544469, 0.6963123640000001, 0.776572668, 0.7722342729999999, 0.852494577, 0.603036876, 0.52494577, 0.531453362, 0.446854664, 0.754880694, 0.8242950109999999, 0.8112798259999999, 0.620390456, 0.5097613879999999, 0.843817787, 0.321041215, 0.7114967459999999, 0.451193059, 0.188720174, 0.125813449, 0.340563991, 0.8893709329999999, 0.731019523, 0.422993492, 0.540130152, 0.6572668110000001, 0.616052061, 0.9262472890000001, 0.776572668, 0.789587852, 0.8112798259999999, 0.47505423, 0.7071583509999999, 0.251626898, 0.511930586, 0.9262472890000001, 0.281995662, 0.7158351409999999, 0.548806941, 0.052060737999999995, 0.7527114970000001, 1.0, 0.57483731, 0.093275488, 0.047722343, 0.74186551, 0.169197397, 0.8004338390000001, 0.301518438, 0.644251627, 0.41431670299999995, 0.548806941, 0.62472885, 0.453362256, 0.225596529, 0.8611713670000001, 0.793926247, 0.373101952, 0.0, 0.381778742, 0.35574837299999995, 0.338394794, 0.689804772, 0.553145336, 0.563991323, 0.455531453, 0.7353579179999999, 0.7396963120000001, 0.7006507590000001, 0.713665944, 0.15618221300000001, 0.8611713670000001, 0.271149675, 0.607375271, 0.09110629099999999, 0.986984816, 0.754880694, 0.763557484, 0.559652928, 0.793926247, 0.78308026, 0.550976139, 0.85032538, 0.8568329720000001, 0.249457701, 0.24078091100000001, 0.6225596529999999, 0.535791757, 0.7158351409999999, 0.6225596529999999, 0.140997831, 0.46637744, 0.9284164859999999, 0.8156182209999999, 0.8850325379999999, 0.67462039, 0.407809111, 0.46637744, 0.41431670299999995, 0.20824295, 0.301518438, 0.221258134], \"y\": [0.28837582564633957, 0.5562886432472717, 0.6222148341588013, 0.5142080959394831, 0.7428457361824734, 0.7456511061323202, 0.5983691905550602, 0.738637681581022, 0.3907718239659642, 0.6081879850562051, 0.7358323116311754, 0.3108187845984761, 0.4777382885313881, 0.5618993831469653, 0.5997718758533025, 0.5815369715026172, 0.6194094642089545, 0.2841677710448883, 0.3907718239659642, 0.3781476601616103, 0.7400403662326267, 0.28837582564633957, 0.6446577924643001, 0.5913557660037622, 0.5717181776481101, 0.43846311117344633, 0.5927584513020044, 0.6488658470657515, 0.7007651888746849, 0.697959818924838, 0.7498591607337715, 0.5885503960539153, 0.5380537395432241, 0.5422617941446755, 0.487557083032533, 0.6867383397720886, 0.731624257029724, 0.7232081471801837, 0.5997718758533025, 0.5282349450420792, 0.7442484208340779, 0.40620135836680266, 0.6586846415668962, 0.4903624529823798, 0.320637579099621, 0.2799597164434369, 0.4188255221711566, 0.7737048043375125, 0.6713088060178879, 0.47212754863169454, 0.5478725340443691, 0.6236175188104058, 0.5969665059034557, 0.7975504479412537, 0.7007651888746849, 0.7091812980775875, 0.7232081471801837, 0.5057919867365805, 0.6558792716170494, 0.3613154411091673, 0.5296376303403215, 0.7975504479412537, 0.38095303011145704, 0.661490011516743, 0.5534832732974249, 0.23226842988259255, 0.6853356551204842, 0.845241734502098, 0.5703154923498679, 0.25891944278954265, 0.22946305993274577, 0.6783222305691861, 0.3080134146486293, 0.7161947226288856, 0.393577193915811, 0.6152014096075032, 0.46651680937863865, 0.5534832732974249, 0.6025772451565116, 0.49176513763398433, 0.3444832220567243, 0.7554699006334651, 0.7119866680274343, 0.43986579582505086, 0.1986039917777066, 0.44547653572474444, 0.4286443166723014, 0.41742283751955206, 0.6446577924643001, 0.5562886432472717, 0.5633020677985697, 0.4931678222855888, 0.6741141759677347, 0.6769195452709439, 0.6516712170155983, 0.6600873268651386, 0.2995973054457267, 0.7554699006334651, 0.3739396055601589, 0.5913557660037622, 0.2575167581379381, 0.8368256252991955, 0.6867383397720886, 0.6923490796717823, 0.560496697848723, 0.7119866680274343, 0.7049732434761361, 0.5548859585956671, 0.748456476082167, 0.7526645306836184, 0.35991275645756277, 0.3543020165578692, 0.601174560504907, 0.5450671640945223, 0.661490011516743, 0.601174560504907, 0.28977851094458185, 0.5001812468368869, 0.7989531325928582, 0.7260135171300304, 0.7708994343876657, 0.6348389979631552, 0.4623087547771874, 0.5001812468368869, 0.46651680937863865, 0.3332617429039749, 0.393577193915811, 0.3416778521068775]}],\n",
       "                        {\"annotations\": [{\"showarrow\": false, \"text\": \"y = 0.65x + 0.2\", \"x\": 0.05, \"y\": 1}], \"height\": 650, \"legend\": {\"title\": {\"text\": \"Continent\"}, \"tracegroupgap\": 0}, \"margin\": {\"t\": 60}, \"template\": {\"data\": {\"bar\": [{\"error_x\": {\"color\": \"rgb(36,36,36)\"}, \"error_y\": {\"color\": \"rgb(36,36,36)\"}, \"marker\": {\"line\": {\"color\": \"white\", \"width\": 0.5}}, \"type\": \"bar\"}], \"barpolar\": [{\"marker\": {\"line\": {\"color\": \"white\", \"width\": 0.5}}, \"type\": \"barpolar\"}], \"carpet\": [{\"aaxis\": {\"endlinecolor\": \"rgb(36,36,36)\", \"gridcolor\": \"white\", \"linecolor\": \"white\", \"minorgridcolor\": \"white\", \"startlinecolor\": \"rgb(36,36,36)\"}, \"baxis\": {\"endlinecolor\": \"rgb(36,36,36)\", \"gridcolor\": \"white\", \"linecolor\": \"white\", \"minorgridcolor\": \"white\", \"startlinecolor\": \"rgb(36,36,36)\"}, \"type\": \"carpet\"}], \"choropleth\": [{\"colorbar\": {\"outlinewidth\": 1, \"tickcolor\": \"rgb(36,36,36)\", \"ticks\": \"outside\"}, \"type\": \"choropleth\"}], \"contour\": [{\"colorbar\": {\"outlinewidth\": 1, \"tickcolor\": \"rgb(36,36,36)\", \"ticks\": \"outside\"}, \"colorscale\": [[0.0, \"#440154\"], [0.1111111111111111, \"#482878\"], [0.2222222222222222, \"#3e4989\"], [0.3333333333333333, \"#31688e\"], [0.4444444444444444, \"#26828e\"], [0.5555555555555556, \"#1f9e89\"], [0.6666666666666666, \"#35b779\"], [0.7777777777777778, \"#6ece58\"], [0.8888888888888888, \"#b5de2b\"], [1.0, \"#fde725\"]], \"type\": \"contour\"}], \"contourcarpet\": [{\"colorbar\": {\"outlinewidth\": 1, \"tickcolor\": \"rgb(36,36,36)\", \"ticks\": \"outside\"}, \"type\": \"contourcarpet\"}], \"heatmap\": [{\"colorbar\": {\"outlinewidth\": 1, \"tickcolor\": \"rgb(36,36,36)\", \"ticks\": \"outside\"}, \"colorscale\": [[0.0, \"#440154\"], [0.1111111111111111, \"#482878\"], [0.2222222222222222, \"#3e4989\"], [0.3333333333333333, \"#31688e\"], [0.4444444444444444, \"#26828e\"], [0.5555555555555556, \"#1f9e89\"], [0.6666666666666666, \"#35b779\"], [0.7777777777777778, \"#6ece58\"], [0.8888888888888888, \"#b5de2b\"], [1.0, \"#fde725\"]], \"type\": \"heatmap\"}], \"heatmapgl\": [{\"colorbar\": {\"outlinewidth\": 1, \"tickcolor\": \"rgb(36,36,36)\", \"ticks\": \"outside\"}, \"colorscale\": [[0.0, \"#440154\"], [0.1111111111111111, \"#482878\"], [0.2222222222222222, \"#3e4989\"], [0.3333333333333333, \"#31688e\"], [0.4444444444444444, \"#26828e\"], [0.5555555555555556, \"#1f9e89\"], [0.6666666666666666, \"#35b779\"], [0.7777777777777778, \"#6ece58\"], [0.8888888888888888, \"#b5de2b\"], [1.0, \"#fde725\"]], \"type\": \"heatmapgl\"}], \"histogram\": [{\"marker\": {\"line\": {\"color\": \"white\", \"width\": 0.6}}, \"type\": \"histogram\"}], \"histogram2d\": [{\"colorbar\": {\"outlinewidth\": 1, \"tickcolor\": \"rgb(36,36,36)\", \"ticks\": \"outside\"}, \"colorscale\": [[0.0, \"#440154\"], [0.1111111111111111, \"#482878\"], [0.2222222222222222, \"#3e4989\"], [0.3333333333333333, \"#31688e\"], [0.4444444444444444, \"#26828e\"], [0.5555555555555556, \"#1f9e89\"], [0.6666666666666666, \"#35b779\"], [0.7777777777777778, \"#6ece58\"], [0.8888888888888888, \"#b5de2b\"], [1.0, \"#fde725\"]], \"type\": \"histogram2d\"}], \"histogram2dcontour\": [{\"colorbar\": {\"outlinewidth\": 1, \"tickcolor\": \"rgb(36,36,36)\", \"ticks\": \"outside\"}, \"colorscale\": [[0.0, \"#440154\"], [0.1111111111111111, \"#482878\"], [0.2222222222222222, \"#3e4989\"], [0.3333333333333333, \"#31688e\"], [0.4444444444444444, \"#26828e\"], [0.5555555555555556, \"#1f9e89\"], [0.6666666666666666, \"#35b779\"], [0.7777777777777778, \"#6ece58\"], [0.8888888888888888, \"#b5de2b\"], [1.0, \"#fde725\"]], \"type\": \"histogram2dcontour\"}], \"mesh3d\": [{\"colorbar\": {\"outlinewidth\": 1, \"tickcolor\": \"rgb(36,36,36)\", \"ticks\": \"outside\"}, \"type\": \"mesh3d\"}], \"parcoords\": [{\"line\": {\"colorbar\": {\"outlinewidth\": 1, \"tickcolor\": \"rgb(36,36,36)\", \"ticks\": \"outside\"}}, \"type\": \"parcoords\"}], \"pie\": [{\"automargin\": true, \"type\": \"pie\"}], \"scatter\": [{\"marker\": {\"colorbar\": {\"outlinewidth\": 1, \"tickcolor\": \"rgb(36,36,36)\", \"ticks\": \"outside\"}}, \"type\": \"scatter\"}], \"scatter3d\": [{\"line\": {\"colorbar\": {\"outlinewidth\": 1, \"tickcolor\": \"rgb(36,36,36)\", \"ticks\": \"outside\"}}, \"marker\": {\"colorbar\": {\"outlinewidth\": 1, \"tickcolor\": \"rgb(36,36,36)\", \"ticks\": \"outside\"}}, \"type\": \"scatter3d\"}], \"scattercarpet\": [{\"marker\": {\"colorbar\": {\"outlinewidth\": 1, \"tickcolor\": \"rgb(36,36,36)\", \"ticks\": \"outside\"}}, \"type\": \"scattercarpet\"}], \"scattergeo\": [{\"marker\": {\"colorbar\": {\"outlinewidth\": 1, \"tickcolor\": \"rgb(36,36,36)\", \"ticks\": \"outside\"}}, \"type\": \"scattergeo\"}], \"scattergl\": [{\"marker\": {\"colorbar\": {\"outlinewidth\": 1, \"tickcolor\": \"rgb(36,36,36)\", \"ticks\": \"outside\"}}, \"type\": \"scattergl\"}], \"scattermapbox\": [{\"marker\": {\"colorbar\": {\"outlinewidth\": 1, \"tickcolor\": \"rgb(36,36,36)\", \"ticks\": \"outside\"}}, \"type\": \"scattermapbox\"}], \"scatterpolar\": [{\"marker\": {\"colorbar\": {\"outlinewidth\": 1, \"tickcolor\": \"rgb(36,36,36)\", \"ticks\": \"outside\"}}, \"type\": \"scatterpolar\"}], \"scatterpolargl\": [{\"marker\": {\"colorbar\": {\"outlinewidth\": 1, \"tickcolor\": \"rgb(36,36,36)\", \"ticks\": \"outside\"}}, \"type\": \"scatterpolargl\"}], \"scatterternary\": [{\"marker\": {\"colorbar\": {\"outlinewidth\": 1, \"tickcolor\": \"rgb(36,36,36)\", \"ticks\": \"outside\"}}, \"type\": \"scatterternary\"}], \"surface\": [{\"colorbar\": {\"outlinewidth\": 1, \"tickcolor\": \"rgb(36,36,36)\", \"ticks\": \"outside\"}, \"colorscale\": [[0.0, \"#440154\"], [0.1111111111111111, \"#482878\"], [0.2222222222222222, \"#3e4989\"], [0.3333333333333333, \"#31688e\"], [0.4444444444444444, \"#26828e\"], [0.5555555555555556, \"#1f9e89\"], [0.6666666666666666, \"#35b779\"], [0.7777777777777778, \"#6ece58\"], [0.8888888888888888, \"#b5de2b\"], [1.0, \"#fde725\"]], \"type\": \"surface\"}], \"table\": [{\"cells\": {\"fill\": {\"color\": \"rgb(237,237,237)\"}, \"line\": {\"color\": \"white\"}}, \"header\": {\"fill\": {\"color\": \"rgb(217,217,217)\"}, \"line\": {\"color\": \"white\"}}, \"type\": \"table\"}]}, \"layout\": {\"annotationdefaults\": {\"arrowhead\": 0, \"arrowwidth\": 1}, \"coloraxis\": {\"colorbar\": {\"outlinewidth\": 1, \"tickcolor\": \"rgb(36,36,36)\", \"ticks\": \"outside\"}}, \"colorscale\": {\"diverging\": [[0.0, \"rgb(103,0,31)\"], [0.1, \"rgb(178,24,43)\"], [0.2, \"rgb(214,96,77)\"], [0.3, \"rgb(244,165,130)\"], [0.4, \"rgb(253,219,199)\"], [0.5, \"rgb(247,247,247)\"], [0.6, \"rgb(209,229,240)\"], [0.7, \"rgb(146,197,222)\"], [0.8, \"rgb(67,147,195)\"], [0.9, \"rgb(33,102,172)\"], [1.0, \"rgb(5,48,97)\"]], \"sequential\": [[0.0, \"#440154\"], [0.1111111111111111, \"#482878\"], [0.2222222222222222, \"#3e4989\"], [0.3333333333333333, \"#31688e\"], [0.4444444444444444, \"#26828e\"], [0.5555555555555556, \"#1f9e89\"], [0.6666666666666666, \"#35b779\"], [0.7777777777777778, \"#6ece58\"], [0.8888888888888888, \"#b5de2b\"], [1.0, \"#fde725\"]], \"sequentialminus\": [[0.0, \"#440154\"], [0.1111111111111111, \"#482878\"], [0.2222222222222222, \"#3e4989\"], [0.3333333333333333, \"#31688e\"], [0.4444444444444444, \"#26828e\"], [0.5555555555555556, \"#1f9e89\"], [0.6666666666666666, \"#35b779\"], [0.7777777777777778, \"#6ece58\"], [0.8888888888888888, \"#b5de2b\"], [1.0, \"#fde725\"]]}, \"colorway\": [\"#1F77B4\", \"#FF7F0E\", \"#2CA02C\", \"#D62728\", \"#9467BD\", \"#8C564B\", \"#E377C2\", \"#7F7F7F\", \"#BCBD22\", \"#17BECF\"], \"font\": {\"color\": \"rgb(36,36,36)\"}, \"geo\": {\"bgcolor\": \"white\", \"lakecolor\": \"white\", \"landcolor\": \"white\", \"showlakes\": true, \"showland\": true, \"subunitcolor\": \"white\"}, \"hoverlabel\": {\"align\": \"left\"}, \"hovermode\": \"closest\", \"mapbox\": {\"style\": \"light\"}, \"paper_bgcolor\": \"white\", \"plot_bgcolor\": \"white\", \"polar\": {\"angularaxis\": {\"gridcolor\": \"rgb(232,232,232)\", \"linecolor\": \"rgb(36,36,36)\", \"showgrid\": false, \"showline\": true, \"ticks\": \"outside\"}, \"bgcolor\": \"white\", \"radialaxis\": {\"gridcolor\": \"rgb(232,232,232)\", \"linecolor\": \"rgb(36,36,36)\", \"showgrid\": false, \"showline\": true, \"ticks\": \"outside\"}}, \"scene\": {\"xaxis\": {\"backgroundcolor\": \"white\", \"gridcolor\": \"rgb(232,232,232)\", \"gridwidth\": 2, \"linecolor\": \"rgb(36,36,36)\", \"showbackground\": true, \"showgrid\": false, \"showline\": true, \"ticks\": \"outside\", \"zeroline\": false, \"zerolinecolor\": \"rgb(36,36,36)\"}, \"yaxis\": {\"backgroundcolor\": \"white\", \"gridcolor\": \"rgb(232,232,232)\", \"gridwidth\": 2, \"linecolor\": \"rgb(36,36,36)\", \"showbackground\": true, \"showgrid\": false, \"showline\": true, \"ticks\": \"outside\", \"zeroline\": false, \"zerolinecolor\": \"rgb(36,36,36)\"}, \"zaxis\": {\"backgroundcolor\": \"white\", \"gridcolor\": \"rgb(232,232,232)\", \"gridwidth\": 2, \"linecolor\": \"rgb(36,36,36)\", \"showbackground\": true, \"showgrid\": false, \"showline\": true, \"ticks\": \"outside\", \"zeroline\": false, \"zerolinecolor\": \"rgb(36,36,36)\"}}, \"shapedefaults\": {\"fillcolor\": \"black\", \"line\": {\"width\": 0}, \"opacity\": 0.3}, \"ternary\": {\"aaxis\": {\"gridcolor\": \"rgb(232,232,232)\", \"linecolor\": \"rgb(36,36,36)\", \"showgrid\": false, \"showline\": true, \"ticks\": \"outside\"}, \"baxis\": {\"gridcolor\": \"rgb(232,232,232)\", \"linecolor\": \"rgb(36,36,36)\", \"showgrid\": false, \"showline\": true, \"ticks\": \"outside\"}, \"bgcolor\": \"white\", \"caxis\": {\"gridcolor\": \"rgb(232,232,232)\", \"linecolor\": \"rgb(36,36,36)\", \"showgrid\": false, \"showline\": true, \"ticks\": \"outside\"}}, \"title\": {\"x\": 0.05}, \"xaxis\": {\"automargin\": true, \"gridcolor\": \"rgb(232,232,232)\", \"linecolor\": \"rgb(36,36,36)\", \"showgrid\": false, \"showline\": true, \"ticks\": \"outside\", \"title\": {\"standoff\": 15}, \"zeroline\": false, \"zerolinecolor\": \"rgb(36,36,36)\"}, \"yaxis\": {\"automargin\": true, \"gridcolor\": \"rgb(232,232,232)\", \"linecolor\": \"rgb(36,36,36)\", \"showgrid\": false, \"showline\": true, \"ticks\": \"outside\", \"title\": {\"standoff\": 15}, \"zeroline\": false, \"zerolinecolor\": \"rgb(36,36,36)\"}}}, \"title\": {\"text\": \"GDP and Happiness Index are Positively Correlated\"}, \"width\": 750, \"xaxis\": {\"anchor\": \"y\", \"domain\": [0.0, 1.0], \"title\": {\"text\": \"Log GDP\"}}, \"yaxis\": {\"anchor\": \"x\", \"domain\": [0.0, 1.0], \"title\": {\"text\": \"Happiness index\"}}},\n",
       "                        {\"responsive\": true}\n",
       "                    ).then(function(){\n",
       "                            \n",
       "var gd = document.getElementById('bad99c95-ec56-4275-a808-bd7b86b78bf3');\n",
       "var x = new MutationObserver(function (mutations, observer) {{\n",
       "        var display = window.getComputedStyle(gd).display;\n",
       "        if (!display || display === 'none') {{\n",
       "            console.log([gd, 'removed!']);\n",
       "            Plotly.purge(gd);\n",
       "            observer.disconnect();\n",
       "        }}\n",
       "}});\n",
       "\n",
       "// Listen for the removal of the full notebook cells\n",
       "var notebookContainer = gd.closest('#notebook-container');\n",
       "if (notebookContainer) {{\n",
       "    x.observe(notebookContainer, {childList: true});\n",
       "}}\n",
       "\n",
       "// Listen for the clearing of the current output cell\n",
       "var outputEl = gd.closest('.output');\n",
       "if (outputEl) {{\n",
       "    x.observe(outputEl, {childList: true});\n",
       "}}\n",
       "\n",
       "                        })\n",
       "                };\n",
       "                });\n",
       "            </script>\n",
       "        </div>"
      ]
     },
     "metadata": {},
     "output_type": "display_data"
    }
   ],
   "source": [
    "GDP = df_2017N_v3[\"Log GDP\"]\n",
    "HI = df_2017N_v3[\"Happiness index\"]\n",
    "color = [\"royalblue\",\"darkturquoise\",\"crimson\", \"mediumpurple\",\"mediumseagreen\"]\n",
    "\n",
    "\n",
    "#calculate y-values for regression line\n",
    "(slope, intercept, rvalue, pvalue, stderr) = linregress(GDP, HI)\n",
    "regress_values = GDP * slope + intercept\n",
    "value = regress_values\n",
    "line_eq = \"y = \" + str(round(slope,2)) + \"x + \" + str(round(intercept,2))\n",
    "\n",
    "#scatter plot\n",
    "fig_Q2a_2 = px.scatter(df_2017N_v3, GDP, HI, hover_name=\"Country name\"\n",
    "           ,template=\"simple_white\",color_discrete_sequence=color, color=\"Continent\")\n",
    "\n",
    "#regression line\n",
    "regline_a = sm.OLS(value,sm.add_constant(GDP)).fit().fittedvalues\n",
    "\n",
    "#add regression line to scatter\n",
    "fig_Q2a_2.add_traces(go.Scatter(x=GDP, y=regline_a, mode='lines', marker_color='dimgrey', name='Regression'))\n",
    "\n",
    "#update layout\n",
    "fig_Q2a_2.update_layout(title_text=\"GDP and Happiness Index are Positively Correlated\"\n",
    "                      ,annotations= [dict(x=0.05, y=1, text=line_eq, showarrow = False)]\n",
    "                      ,width=750, height=650\n",
    "                     )\n",
    "\n",
    "\n",
    "fig_Q2a_2.show()\n"
   ]
  },
  {
   "cell_type": "code",
   "execution_count": 23,
   "metadata": {},
   "outputs": [],
   "source": [
    "fig_Q2a_1.write_image(\"images/fig_Q2a_1.png\")\n",
    "fig_Q2a_2.write_image(\"images/fig_Q2a_2.png\")"
   ]
  },
  {
   "cell_type": "code",
   "execution_count": 24,
   "metadata": {},
   "outputs": [
    {
     "data": {
      "application/vnd.plotly.v1+json": {
       "config": {
        "plotlyServerURL": "https://plot.ly"
       },
       "data": [
        {
         "hovertemplate": "<b>%{hovertext}</b><br><br>Continent=Asia<br>% Unemployment=%{x}<br>Happiness index=%{y}<extra></extra>",
         "hovertext": [
          "Afghanistan",
          "Armenia",
          "Azerbaijan",
          "Bahrain",
          "Bangladesh",
          "Cambodia",
          "China",
          "Cyprus",
          "Georgia",
          "Hong Kong S.A.R. of China",
          "India",
          "Indonesia",
          "Iran",
          "Iraq",
          "Israel",
          "Japan",
          "Jordan",
          "Kazakhstan",
          "Kuwait",
          "Kyrgyzstan",
          "Lebanon",
          "Malaysia",
          "Mongolia",
          "Nepal",
          "Pakistan",
          "Palestinian Territories",
          "Philippines",
          "Russia",
          "Saudi Arabia",
          "Singapore",
          "South Korea",
          "Sri Lanka",
          "Tajikistan",
          "Thailand",
          "United Arab Emirates",
          "Uzbekistan",
          "Vietnam"
         ],
         "legendgroup": "Asia",
         "marker": {
          "color": "royalblue",
          "symbol": "circle"
         },
         "mode": "markers",
         "name": "Asia",
         "orientation": "v",
         "showlegend": true,
         "type": "scatter",
         "x": [
          0.40218209200000005,
          0.647479308,
          0.169676448,
          0.007900677,
          0.145974417,
          0.007148231999999999,
          0.148607976,
          0.397291196,
          0.506019564,
          0.09781790800000001,
          0.185477803,
          0.138826185,
          0.43679458200000004,
          0.47140707299999995,
          0.140331076,
          0.086907449,
          0.5500376220000001,
          0.165914221,
          0.049285177,
          0.24078254300000002,
          0.21557562100000002,
          0.109857035,
          0.22084273899999998,
          0.034236268,
          0.12979684,
          0.947705041,
          0.077501881,
          0.177577126,
          0.203160271,
          0.139578631,
          0.120767494,
          0.138826185,
          0.405568096,
          0.012791573,
          0.074115877,
          0.200902935,
          0.058690745
         ],
         "xaxis": "x",
         "y": [
          0,
          0.317738791,
          0.48538011700000006,
          0.695906433,
          0.321637427,
          0.376218324,
          0.47563352799999997,
          0.662768031,
          0.348927875,
          0.526315789,
          0.270955166,
          0.47563352799999997,
          0.401559454,
          0.350877193,
          0.910331384,
          0.633528265,
          0.419103314,
          0.6276803120000001,
          0.668615984,
          0.578947368,
          0.48538011700000006,
          0.522417154,
          0.520467836,
          0.40545809,
          0.6179337229999999,
          0.384015595,
          0.5711500970000001,
          0.56920078,
          0.707602339,
          0.7251461990000001,
          0.625730994,
          0.325536062,
          0.6179337229999999,
          0.639376218,
          0.85380117,
          0.73294347,
          0.49122807
         ],
         "yaxis": "y"
        },
        {
         "hovertemplate": "<b>%{hovertext}</b><br><br>Continent=Europe<br>% Unemployment=%{x}<br>Happiness index=%{y}<extra></extra>",
         "hovertext": [
          "Albania",
          "Austria",
          "Belarus",
          "Belgium",
          "Bosnia and Herzegovina",
          "Bulgaria",
          "Croatia",
          "Czech Republic",
          "Denmark",
          "Estonia",
          "Finland",
          "France",
          "Germany",
          "Greece",
          "Hungary",
          "Ireland",
          "Italy",
          "Latvia",
          "Lithuania",
          "Luxembourg",
          "Macedonia",
          "Malta",
          "Moldova",
          "Montenegro",
          "Netherlands",
          "Poland",
          "Portugal",
          "Romania",
          "Serbia",
          "Slovakia",
          "Slovenia",
          "Spain",
          "Sweden",
          "Turkey",
          "Ukraine",
          "United Kingdom"
         ],
         "legendgroup": "Europe",
         "marker": {
          "color": "darkturquoise",
          "symbol": "circle"
         },
         "mode": "markers",
         "name": "Europe",
         "orientation": "v",
         "showlegend": true,
         "type": "scatter",
         "x": [
          0.49887133200000006,
          0.188487585,
          0.194130926,
          0.248306998,
          0.7539503390000001,
          0.213318284,
          0.40331076,
          0.09029345400000001,
          0.19751693,
          0.198269375,
          0.30662152,
          0.33521444699999997,
          0.122648608,
          0.79006772,
          0.13807374,
          0.234010534,
          0.40331076,
          0.309631302,
          0.24755455199999998,
          0.18924003,
          0.823551543,
          0.132054176,
          0.135816403,
          0.586155004,
          0.163656885,
          0.16553799800000002,
          0.315274643,
          0.167042889,
          0.48871331799999995,
          0.287434161,
          0.228367193,
          0.6294206170000001,
          0.234386757,
          0.388638074,
          0.33935289700000004,
          0.144845749
         ],
         "xaxis": "x",
         "y": [
          0.38596491200000005,
          0.902534113,
          0.563352827,
          0.8323586740000001,
          0.473684211,
          0.47563352799999997,
          0.522417154,
          0.8050682259999999,
          0.961013645,
          0.639376218,
          1,
          0.77582846,
          0.859649123,
          0.48538011700000006,
          0.664717349,
          0.857699805,
          0.69005848,
          0.6471734889999999,
          0.703703704,
          0.857699805,
          0.5009746589999999,
          0.783625731,
          0.520467836,
          0.5750487329999999,
          0.935672515,
          0.69005848,
          0.59454191,
          0.668615984,
          0.479532164,
          0.7231968809999999,
          0.684210526,
          0.695906433,
          0.902534113,
          0.5750487329999999,
          0.321637427,
          0.8654970759999999
         ],
         "yaxis": "y"
        },
        {
         "hovertemplate": "<b>%{hovertext}</b><br><br>Continent=Americas<br>% Unemployment=%{x}<br>Happiness index=%{y}<extra></extra>",
         "hovertext": [
          "Argentina",
          "Bolivia",
          "Brazil",
          "Canada",
          "Chile",
          "Colombia",
          "Costa Rica",
          "Dominican Republic",
          "Ecuador",
          "El Salvador",
          "Guatemala",
          "Haiti",
          "Honduras",
          "Mexico",
          "Nicaragua",
          "Panama",
          "Paraguay",
          "Peru",
          "Uruguay",
          "Venezuela"
         ],
         "legendgroup": "Americas",
         "marker": {
          "color": "crimson",
          "symbol": "circle"
         },
         "mode": "markers",
         "name": "Americas",
         "orientation": "v",
         "showlegend": true,
         "type": "scatter",
         "x": [
          0.295711061,
          0.11963882599999999,
          0.463882619,
          0.22009029300000002,
          0.243416102,
          0.315274643,
          0.287810384,
          0.200902935,
          0.126034612,
          0.14672686199999999,
          0.074115877,
          0.49811888600000004,
          0.189616253,
          0.110233258,
          0.105718585,
          0.12829194900000002,
          0.155003762,
          0.11173814900000001,
          0.278404816,
          0.256207675
         ],
         "xaxis": "x",
         "y": [
          0.658869396,
          0.582846004,
          0.71539961,
          0.9259259259999999,
          0.713450292,
          0.6822612090000001,
          0.890838207,
          0.5750487329999999,
          0.619883041,
          0.7173489279999999,
          0.71539961,
          0.226120858,
          0.65497076,
          0.7309941520000001,
          0.744639376,
          0.7621832359999999,
          0.59454191,
          0.59454191,
          0.7173489279999999,
          0.469785575
         ],
         "yaxis": "y"
        },
        {
         "hovertemplate": "<b>%{hovertext}</b><br><br>Continent=Oceania<br>% Unemployment=%{x}<br>Happiness index=%{y}<extra></extra>",
         "hovertext": [
          "Australia",
          "New Zealand"
         ],
         "legendgroup": "Oceania",
         "marker": {
          "color": "mediumpurple",
          "symbol": "circle"
         },
         "mode": "markers",
         "name": "Oceania",
         "orientation": "v",
         "showlegend": true,
         "type": "scatter",
         "x": [
          0.19187358899999998,
          0.158389767
         ],
         "xaxis": "x",
         "y": [
          0.89668616,
          0.910331384
         ],
         "yaxis": "y"
        },
        {
         "hovertemplate": "<b>%{hovertext}</b><br><br>Continent=Africa<br>% Unemployment=%{x}<br>Happiness index=%{y}<extra></extra>",
         "hovertext": [
          "Benin",
          "Botswana",
          "Burkina Faso",
          "Cameroon",
          "Chad",
          "Egypt",
          "Gabon",
          "Ghana",
          "Guinea",
          "Kenya",
          "Liberia",
          "Madagascar",
          "Malawi",
          "Mali",
          "Mauritania",
          "Morocco",
          "Niger",
          "Nigeria",
          "Rwanda",
          "Senegal",
          "Sierra Leone",
          "South Africa",
          "Tanzania",
          "Tunisia",
          "Uganda",
          "Zambia",
          "Zimbabwe"
         ],
         "legendgroup": "Africa",
         "marker": {
          "color": "mediumseagreen",
          "symbol": "circle"
         },
         "mode": "markers",
         "name": "Africa",
         "orientation": "v",
         "showlegend": true,
         "type": "scatter",
         "x": [
          0.074115877,
          0.639954853,
          0.21557562100000002,
          0.109857035,
          0.05116629,
          0.423250564,
          0.7332580890000001,
          0.140331076,
          0.144093303,
          0.08276899900000001,
          0.094431904,
          0.046651618,
          0.19638826199999998,
          0.257336343,
          0.341986456,
          0.32731377,
          0,
          0.297215952,
          0.021444695,
          0.23024830699999999,
          0.150865312,
          1,
          0.057938299000000006,
          0.560195636,
          0.048908954000000004,
          0.419112114,
          0.176072235
         ],
         "xaxis": "x",
         "y": [
          0.426900585,
          0.16374269,
          0.38791423,
          0.469785575,
          0.37037037,
          0.247563353,
          0.413255361,
          0.549707602,
          0.43079922,
          0.35477582799999996,
          0.34307992200000004,
          0.276803119,
          0.148148148,
          0.40545809,
          0.393762183,
          0.516569201,
          0.382066277,
          0.518518519,
          0.087719298,
          0.393762183,
          0.278752437,
          0.360623782,
          0.134502924,
          0.28460039,
          0.261208577,
          0.247563353,
          0.19103313800000002
         ],
         "yaxis": "y"
        }
       ],
       "layout": {
        "height": 650,
        "legend": {
         "title": {
          "text": "Continent"
         },
         "tracegroupgap": 0
        },
        "margin": {
         "t": 60
        },
        "template": {
         "data": {
          "bar": [
           {
            "error_x": {
             "color": "rgb(36,36,36)"
            },
            "error_y": {
             "color": "rgb(36,36,36)"
            },
            "marker": {
             "line": {
              "color": "white",
              "width": 0.5
             }
            },
            "type": "bar"
           }
          ],
          "barpolar": [
           {
            "marker": {
             "line": {
              "color": "white",
              "width": 0.5
             }
            },
            "type": "barpolar"
           }
          ],
          "carpet": [
           {
            "aaxis": {
             "endlinecolor": "rgb(36,36,36)",
             "gridcolor": "white",
             "linecolor": "white",
             "minorgridcolor": "white",
             "startlinecolor": "rgb(36,36,36)"
            },
            "baxis": {
             "endlinecolor": "rgb(36,36,36)",
             "gridcolor": "white",
             "linecolor": "white",
             "minorgridcolor": "white",
             "startlinecolor": "rgb(36,36,36)"
            },
            "type": "carpet"
           }
          ],
          "choropleth": [
           {
            "colorbar": {
             "outlinewidth": 1,
             "tickcolor": "rgb(36,36,36)",
             "ticks": "outside"
            },
            "type": "choropleth"
           }
          ],
          "contour": [
           {
            "colorbar": {
             "outlinewidth": 1,
             "tickcolor": "rgb(36,36,36)",
             "ticks": "outside"
            },
            "colorscale": [
             [
              0,
              "#440154"
             ],
             [
              0.1111111111111111,
              "#482878"
             ],
             [
              0.2222222222222222,
              "#3e4989"
             ],
             [
              0.3333333333333333,
              "#31688e"
             ],
             [
              0.4444444444444444,
              "#26828e"
             ],
             [
              0.5555555555555556,
              "#1f9e89"
             ],
             [
              0.6666666666666666,
              "#35b779"
             ],
             [
              0.7777777777777778,
              "#6ece58"
             ],
             [
              0.8888888888888888,
              "#b5de2b"
             ],
             [
              1,
              "#fde725"
             ]
            ],
            "type": "contour"
           }
          ],
          "contourcarpet": [
           {
            "colorbar": {
             "outlinewidth": 1,
             "tickcolor": "rgb(36,36,36)",
             "ticks": "outside"
            },
            "type": "contourcarpet"
           }
          ],
          "heatmap": [
           {
            "colorbar": {
             "outlinewidth": 1,
             "tickcolor": "rgb(36,36,36)",
             "ticks": "outside"
            },
            "colorscale": [
             [
              0,
              "#440154"
             ],
             [
              0.1111111111111111,
              "#482878"
             ],
             [
              0.2222222222222222,
              "#3e4989"
             ],
             [
              0.3333333333333333,
              "#31688e"
             ],
             [
              0.4444444444444444,
              "#26828e"
             ],
             [
              0.5555555555555556,
              "#1f9e89"
             ],
             [
              0.6666666666666666,
              "#35b779"
             ],
             [
              0.7777777777777778,
              "#6ece58"
             ],
             [
              0.8888888888888888,
              "#b5de2b"
             ],
             [
              1,
              "#fde725"
             ]
            ],
            "type": "heatmap"
           }
          ],
          "heatmapgl": [
           {
            "colorbar": {
             "outlinewidth": 1,
             "tickcolor": "rgb(36,36,36)",
             "ticks": "outside"
            },
            "colorscale": [
             [
              0,
              "#440154"
             ],
             [
              0.1111111111111111,
              "#482878"
             ],
             [
              0.2222222222222222,
              "#3e4989"
             ],
             [
              0.3333333333333333,
              "#31688e"
             ],
             [
              0.4444444444444444,
              "#26828e"
             ],
             [
              0.5555555555555556,
              "#1f9e89"
             ],
             [
              0.6666666666666666,
              "#35b779"
             ],
             [
              0.7777777777777778,
              "#6ece58"
             ],
             [
              0.8888888888888888,
              "#b5de2b"
             ],
             [
              1,
              "#fde725"
             ]
            ],
            "type": "heatmapgl"
           }
          ],
          "histogram": [
           {
            "marker": {
             "line": {
              "color": "white",
              "width": 0.6
             }
            },
            "type": "histogram"
           }
          ],
          "histogram2d": [
           {
            "colorbar": {
             "outlinewidth": 1,
             "tickcolor": "rgb(36,36,36)",
             "ticks": "outside"
            },
            "colorscale": [
             [
              0,
              "#440154"
             ],
             [
              0.1111111111111111,
              "#482878"
             ],
             [
              0.2222222222222222,
              "#3e4989"
             ],
             [
              0.3333333333333333,
              "#31688e"
             ],
             [
              0.4444444444444444,
              "#26828e"
             ],
             [
              0.5555555555555556,
              "#1f9e89"
             ],
             [
              0.6666666666666666,
              "#35b779"
             ],
             [
              0.7777777777777778,
              "#6ece58"
             ],
             [
              0.8888888888888888,
              "#b5de2b"
             ],
             [
              1,
              "#fde725"
             ]
            ],
            "type": "histogram2d"
           }
          ],
          "histogram2dcontour": [
           {
            "colorbar": {
             "outlinewidth": 1,
             "tickcolor": "rgb(36,36,36)",
             "ticks": "outside"
            },
            "colorscale": [
             [
              0,
              "#440154"
             ],
             [
              0.1111111111111111,
              "#482878"
             ],
             [
              0.2222222222222222,
              "#3e4989"
             ],
             [
              0.3333333333333333,
              "#31688e"
             ],
             [
              0.4444444444444444,
              "#26828e"
             ],
             [
              0.5555555555555556,
              "#1f9e89"
             ],
             [
              0.6666666666666666,
              "#35b779"
             ],
             [
              0.7777777777777778,
              "#6ece58"
             ],
             [
              0.8888888888888888,
              "#b5de2b"
             ],
             [
              1,
              "#fde725"
             ]
            ],
            "type": "histogram2dcontour"
           }
          ],
          "mesh3d": [
           {
            "colorbar": {
             "outlinewidth": 1,
             "tickcolor": "rgb(36,36,36)",
             "ticks": "outside"
            },
            "type": "mesh3d"
           }
          ],
          "parcoords": [
           {
            "line": {
             "colorbar": {
              "outlinewidth": 1,
              "tickcolor": "rgb(36,36,36)",
              "ticks": "outside"
             }
            },
            "type": "parcoords"
           }
          ],
          "pie": [
           {
            "automargin": true,
            "type": "pie"
           }
          ],
          "scatter": [
           {
            "marker": {
             "colorbar": {
              "outlinewidth": 1,
              "tickcolor": "rgb(36,36,36)",
              "ticks": "outside"
             }
            },
            "type": "scatter"
           }
          ],
          "scatter3d": [
           {
            "line": {
             "colorbar": {
              "outlinewidth": 1,
              "tickcolor": "rgb(36,36,36)",
              "ticks": "outside"
             }
            },
            "marker": {
             "colorbar": {
              "outlinewidth": 1,
              "tickcolor": "rgb(36,36,36)",
              "ticks": "outside"
             }
            },
            "type": "scatter3d"
           }
          ],
          "scattercarpet": [
           {
            "marker": {
             "colorbar": {
              "outlinewidth": 1,
              "tickcolor": "rgb(36,36,36)",
              "ticks": "outside"
             }
            },
            "type": "scattercarpet"
           }
          ],
          "scattergeo": [
           {
            "marker": {
             "colorbar": {
              "outlinewidth": 1,
              "tickcolor": "rgb(36,36,36)",
              "ticks": "outside"
             }
            },
            "type": "scattergeo"
           }
          ],
          "scattergl": [
           {
            "marker": {
             "colorbar": {
              "outlinewidth": 1,
              "tickcolor": "rgb(36,36,36)",
              "ticks": "outside"
             }
            },
            "type": "scattergl"
           }
          ],
          "scattermapbox": [
           {
            "marker": {
             "colorbar": {
              "outlinewidth": 1,
              "tickcolor": "rgb(36,36,36)",
              "ticks": "outside"
             }
            },
            "type": "scattermapbox"
           }
          ],
          "scatterpolar": [
           {
            "marker": {
             "colorbar": {
              "outlinewidth": 1,
              "tickcolor": "rgb(36,36,36)",
              "ticks": "outside"
             }
            },
            "type": "scatterpolar"
           }
          ],
          "scatterpolargl": [
           {
            "marker": {
             "colorbar": {
              "outlinewidth": 1,
              "tickcolor": "rgb(36,36,36)",
              "ticks": "outside"
             }
            },
            "type": "scatterpolargl"
           }
          ],
          "scatterternary": [
           {
            "marker": {
             "colorbar": {
              "outlinewidth": 1,
              "tickcolor": "rgb(36,36,36)",
              "ticks": "outside"
             }
            },
            "type": "scatterternary"
           }
          ],
          "surface": [
           {
            "colorbar": {
             "outlinewidth": 1,
             "tickcolor": "rgb(36,36,36)",
             "ticks": "outside"
            },
            "colorscale": [
             [
              0,
              "#440154"
             ],
             [
              0.1111111111111111,
              "#482878"
             ],
             [
              0.2222222222222222,
              "#3e4989"
             ],
             [
              0.3333333333333333,
              "#31688e"
             ],
             [
              0.4444444444444444,
              "#26828e"
             ],
             [
              0.5555555555555556,
              "#1f9e89"
             ],
             [
              0.6666666666666666,
              "#35b779"
             ],
             [
              0.7777777777777778,
              "#6ece58"
             ],
             [
              0.8888888888888888,
              "#b5de2b"
             ],
             [
              1,
              "#fde725"
             ]
            ],
            "type": "surface"
           }
          ],
          "table": [
           {
            "cells": {
             "fill": {
              "color": "rgb(237,237,237)"
             },
             "line": {
              "color": "white"
             }
            },
            "header": {
             "fill": {
              "color": "rgb(217,217,217)"
             },
             "line": {
              "color": "white"
             }
            },
            "type": "table"
           }
          ]
         },
         "layout": {
          "annotationdefaults": {
           "arrowhead": 0,
           "arrowwidth": 1
          },
          "coloraxis": {
           "colorbar": {
            "outlinewidth": 1,
            "tickcolor": "rgb(36,36,36)",
            "ticks": "outside"
           }
          },
          "colorscale": {
           "diverging": [
            [
             0,
             "rgb(103,0,31)"
            ],
            [
             0.1,
             "rgb(178,24,43)"
            ],
            [
             0.2,
             "rgb(214,96,77)"
            ],
            [
             0.3,
             "rgb(244,165,130)"
            ],
            [
             0.4,
             "rgb(253,219,199)"
            ],
            [
             0.5,
             "rgb(247,247,247)"
            ],
            [
             0.6,
             "rgb(209,229,240)"
            ],
            [
             0.7,
             "rgb(146,197,222)"
            ],
            [
             0.8,
             "rgb(67,147,195)"
            ],
            [
             0.9,
             "rgb(33,102,172)"
            ],
            [
             1,
             "rgb(5,48,97)"
            ]
           ],
           "sequential": [
            [
             0,
             "#440154"
            ],
            [
             0.1111111111111111,
             "#482878"
            ],
            [
             0.2222222222222222,
             "#3e4989"
            ],
            [
             0.3333333333333333,
             "#31688e"
            ],
            [
             0.4444444444444444,
             "#26828e"
            ],
            [
             0.5555555555555556,
             "#1f9e89"
            ],
            [
             0.6666666666666666,
             "#35b779"
            ],
            [
             0.7777777777777778,
             "#6ece58"
            ],
            [
             0.8888888888888888,
             "#b5de2b"
            ],
            [
             1,
             "#fde725"
            ]
           ],
           "sequentialminus": [
            [
             0,
             "#440154"
            ],
            [
             0.1111111111111111,
             "#482878"
            ],
            [
             0.2222222222222222,
             "#3e4989"
            ],
            [
             0.3333333333333333,
             "#31688e"
            ],
            [
             0.4444444444444444,
             "#26828e"
            ],
            [
             0.5555555555555556,
             "#1f9e89"
            ],
            [
             0.6666666666666666,
             "#35b779"
            ],
            [
             0.7777777777777778,
             "#6ece58"
            ],
            [
             0.8888888888888888,
             "#b5de2b"
            ],
            [
             1,
             "#fde725"
            ]
           ]
          },
          "colorway": [
           "#1F77B4",
           "#FF7F0E",
           "#2CA02C",
           "#D62728",
           "#9467BD",
           "#8C564B",
           "#E377C2",
           "#7F7F7F",
           "#BCBD22",
           "#17BECF"
          ],
          "font": {
           "color": "rgb(36,36,36)"
          },
          "geo": {
           "bgcolor": "white",
           "lakecolor": "white",
           "landcolor": "white",
           "showlakes": true,
           "showland": true,
           "subunitcolor": "white"
          },
          "hoverlabel": {
           "align": "left"
          },
          "hovermode": "closest",
          "mapbox": {
           "style": "light"
          },
          "paper_bgcolor": "white",
          "plot_bgcolor": "white",
          "polar": {
           "angularaxis": {
            "gridcolor": "rgb(232,232,232)",
            "linecolor": "rgb(36,36,36)",
            "showgrid": false,
            "showline": true,
            "ticks": "outside"
           },
           "bgcolor": "white",
           "radialaxis": {
            "gridcolor": "rgb(232,232,232)",
            "linecolor": "rgb(36,36,36)",
            "showgrid": false,
            "showline": true,
            "ticks": "outside"
           }
          },
          "scene": {
           "xaxis": {
            "backgroundcolor": "white",
            "gridcolor": "rgb(232,232,232)",
            "gridwidth": 2,
            "linecolor": "rgb(36,36,36)",
            "showbackground": true,
            "showgrid": false,
            "showline": true,
            "ticks": "outside",
            "zeroline": false,
            "zerolinecolor": "rgb(36,36,36)"
           },
           "yaxis": {
            "backgroundcolor": "white",
            "gridcolor": "rgb(232,232,232)",
            "gridwidth": 2,
            "linecolor": "rgb(36,36,36)",
            "showbackground": true,
            "showgrid": false,
            "showline": true,
            "ticks": "outside",
            "zeroline": false,
            "zerolinecolor": "rgb(36,36,36)"
           },
           "zaxis": {
            "backgroundcolor": "white",
            "gridcolor": "rgb(232,232,232)",
            "gridwidth": 2,
            "linecolor": "rgb(36,36,36)",
            "showbackground": true,
            "showgrid": false,
            "showline": true,
            "ticks": "outside",
            "zeroline": false,
            "zerolinecolor": "rgb(36,36,36)"
           }
          },
          "shapedefaults": {
           "fillcolor": "black",
           "line": {
            "width": 0
           },
           "opacity": 0.3
          },
          "ternary": {
           "aaxis": {
            "gridcolor": "rgb(232,232,232)",
            "linecolor": "rgb(36,36,36)",
            "showgrid": false,
            "showline": true,
            "ticks": "outside"
           },
           "baxis": {
            "gridcolor": "rgb(232,232,232)",
            "linecolor": "rgb(36,36,36)",
            "showgrid": false,
            "showline": true,
            "ticks": "outside"
           },
           "bgcolor": "white",
           "caxis": {
            "gridcolor": "rgb(232,232,232)",
            "linecolor": "rgb(36,36,36)",
            "showgrid": false,
            "showline": true,
            "ticks": "outside"
           }
          },
          "title": {
           "x": 0.05
          },
          "xaxis": {
           "automargin": true,
           "gridcolor": "rgb(232,232,232)",
           "linecolor": "rgb(36,36,36)",
           "showgrid": false,
           "showline": true,
           "ticks": "outside",
           "title": {
            "standoff": 15
           },
           "zeroline": false,
           "zerolinecolor": "rgb(36,36,36)"
          },
          "yaxis": {
           "automargin": true,
           "gridcolor": "rgb(232,232,232)",
           "linecolor": "rgb(36,36,36)",
           "showgrid": false,
           "showline": true,
           "ticks": "outside",
           "title": {
            "standoff": 15
           },
           "zeroline": false,
           "zerolinecolor": "rgb(36,36,36)"
          }
         }
        },
        "title": {
         "text": "% Unemployment and Happiness Index"
        },
        "width": 750,
        "xaxis": {
         "anchor": "y",
         "domain": [
          0,
          1
         ],
         "title": {
          "text": "% Unemployment"
         }
        },
        "yaxis": {
         "anchor": "x",
         "domain": [
          0,
          1
         ],
         "title": {
          "text": "Happiness index"
         }
        }
       }
      },
      "text/html": [
       "<div>\n",
       "        \n",
       "        \n",
       "            <div id=\"68f2e81d-611d-48b9-b8ce-2b6b79f194db\" class=\"plotly-graph-div\" style=\"height:650px; width:750px;\"></div>\n",
       "            <script type=\"text/javascript\">\n",
       "                require([\"plotly\"], function(Plotly) {\n",
       "                    window.PLOTLYENV=window.PLOTLYENV || {};\n",
       "                    \n",
       "                if (document.getElementById(\"68f2e81d-611d-48b9-b8ce-2b6b79f194db\")) {\n",
       "                    Plotly.newPlot(\n",
       "                        '68f2e81d-611d-48b9-b8ce-2b6b79f194db',\n",
       "                        [{\"hovertemplate\": \"<b>%{hovertext}</b><br><br>Continent=Asia<br>% Unemployment=%{x}<br>Happiness index=%{y}<extra></extra>\", \"hovertext\": [\"Afghanistan\", \"Armenia\", \"Azerbaijan\", \"Bahrain\", \"Bangladesh\", \"Cambodia\", \"China\", \"Cyprus\", \"Georgia\", \"Hong Kong S.A.R. of China\", \"India\", \"Indonesia\", \"Iran\", \"Iraq\", \"Israel\", \"Japan\", \"Jordan\", \"Kazakhstan\", \"Kuwait\", \"Kyrgyzstan\", \"Lebanon\", \"Malaysia\", \"Mongolia\", \"Nepal\", \"Pakistan\", \"Palestinian Territories\", \"Philippines\", \"Russia\", \"Saudi Arabia\", \"Singapore\", \"South Korea\", \"Sri Lanka\", \"Tajikistan\", \"Thailand\", \"United Arab Emirates\", \"Uzbekistan\", \"Vietnam\"], \"legendgroup\": \"Asia\", \"marker\": {\"color\": \"royalblue\", \"symbol\": \"circle\"}, \"mode\": \"markers\", \"name\": \"Asia\", \"orientation\": \"v\", \"showlegend\": true, \"type\": \"scatter\", \"x\": [0.40218209200000005, 0.647479308, 0.169676448, 0.007900677, 0.145974417, 0.007148231999999999, 0.148607976, 0.397291196, 0.506019564, 0.09781790800000001, 0.185477803, 0.138826185, 0.43679458200000004, 0.47140707299999995, 0.140331076, 0.086907449, 0.5500376220000001, 0.165914221, 0.049285177, 0.24078254300000002, 0.21557562100000002, 0.109857035, 0.22084273899999998, 0.034236268, 0.12979684, 0.947705041, 0.077501881, 0.177577126, 0.203160271, 0.139578631, 0.120767494, 0.138826185, 0.405568096, 0.012791573, 0.074115877, 0.200902935, 0.058690745], \"xaxis\": \"x\", \"y\": [0.0, 0.317738791, 0.48538011700000006, 0.695906433, 0.321637427, 0.376218324, 0.47563352799999997, 0.662768031, 0.348927875, 0.526315789, 0.270955166, 0.47563352799999997, 0.401559454, 0.350877193, 0.910331384, 0.633528265, 0.419103314, 0.6276803120000001, 0.668615984, 0.578947368, 0.48538011700000006, 0.522417154, 0.520467836, 0.40545809, 0.6179337229999999, 0.384015595, 0.5711500970000001, 0.56920078, 0.707602339, 0.7251461990000001, 0.625730994, 0.325536062, 0.6179337229999999, 0.639376218, 0.85380117, 0.73294347, 0.49122807], \"yaxis\": \"y\"}, {\"hovertemplate\": \"<b>%{hovertext}</b><br><br>Continent=Europe<br>% Unemployment=%{x}<br>Happiness index=%{y}<extra></extra>\", \"hovertext\": [\"Albania\", \"Austria\", \"Belarus\", \"Belgium\", \"Bosnia and Herzegovina\", \"Bulgaria\", \"Croatia\", \"Czech Republic\", \"Denmark\", \"Estonia\", \"Finland\", \"France\", \"Germany\", \"Greece\", \"Hungary\", \"Ireland\", \"Italy\", \"Latvia\", \"Lithuania\", \"Luxembourg\", \"Macedonia\", \"Malta\", \"Moldova\", \"Montenegro\", \"Netherlands\", \"Poland\", \"Portugal\", \"Romania\", \"Serbia\", \"Slovakia\", \"Slovenia\", \"Spain\", \"Sweden\", \"Turkey\", \"Ukraine\", \"United Kingdom\"], \"legendgroup\": \"Europe\", \"marker\": {\"color\": \"darkturquoise\", \"symbol\": \"circle\"}, \"mode\": \"markers\", \"name\": \"Europe\", \"orientation\": \"v\", \"showlegend\": true, \"type\": \"scatter\", \"x\": [0.49887133200000006, 0.188487585, 0.194130926, 0.248306998, 0.7539503390000001, 0.213318284, 0.40331076, 0.09029345400000001, 0.19751693, 0.198269375, 0.30662152, 0.33521444699999997, 0.122648608, 0.79006772, 0.13807374, 0.234010534, 0.40331076, 0.309631302, 0.24755455199999998, 0.18924003, 0.823551543, 0.132054176, 0.135816403, 0.586155004, 0.163656885, 0.16553799800000002, 0.315274643, 0.167042889, 0.48871331799999995, 0.287434161, 0.228367193, 0.6294206170000001, 0.234386757, 0.388638074, 0.33935289700000004, 0.144845749], \"xaxis\": \"x\", \"y\": [0.38596491200000005, 0.902534113, 0.563352827, 0.8323586740000001, 0.473684211, 0.47563352799999997, 0.522417154, 0.8050682259999999, 0.961013645, 0.639376218, 1.0, 0.77582846, 0.859649123, 0.48538011700000006, 0.664717349, 0.857699805, 0.69005848, 0.6471734889999999, 0.703703704, 0.857699805, 0.5009746589999999, 0.783625731, 0.520467836, 0.5750487329999999, 0.935672515, 0.69005848, 0.59454191, 0.668615984, 0.479532164, 0.7231968809999999, 0.684210526, 0.695906433, 0.902534113, 0.5750487329999999, 0.321637427, 0.8654970759999999], \"yaxis\": \"y\"}, {\"hovertemplate\": \"<b>%{hovertext}</b><br><br>Continent=Americas<br>% Unemployment=%{x}<br>Happiness index=%{y}<extra></extra>\", \"hovertext\": [\"Argentina\", \"Bolivia\", \"Brazil\", \"Canada\", \"Chile\", \"Colombia\", \"Costa Rica\", \"Dominican Republic\", \"Ecuador\", \"El Salvador\", \"Guatemala\", \"Haiti\", \"Honduras\", \"Mexico\", \"Nicaragua\", \"Panama\", \"Paraguay\", \"Peru\", \"Uruguay\", \"Venezuela\"], \"legendgroup\": \"Americas\", \"marker\": {\"color\": \"crimson\", \"symbol\": \"circle\"}, \"mode\": \"markers\", \"name\": \"Americas\", \"orientation\": \"v\", \"showlegend\": true, \"type\": \"scatter\", \"x\": [0.295711061, 0.11963882599999999, 0.463882619, 0.22009029300000002, 0.243416102, 0.315274643, 0.287810384, 0.200902935, 0.126034612, 0.14672686199999999, 0.074115877, 0.49811888600000004, 0.189616253, 0.110233258, 0.105718585, 0.12829194900000002, 0.155003762, 0.11173814900000001, 0.278404816, 0.256207675], \"xaxis\": \"x\", \"y\": [0.658869396, 0.582846004, 0.71539961, 0.9259259259999999, 0.713450292, 0.6822612090000001, 0.890838207, 0.5750487329999999, 0.619883041, 0.7173489279999999, 0.71539961, 0.226120858, 0.65497076, 0.7309941520000001, 0.744639376, 0.7621832359999999, 0.59454191, 0.59454191, 0.7173489279999999, 0.469785575], \"yaxis\": \"y\"}, {\"hovertemplate\": \"<b>%{hovertext}</b><br><br>Continent=Oceania<br>% Unemployment=%{x}<br>Happiness index=%{y}<extra></extra>\", \"hovertext\": [\"Australia\", \"New Zealand\"], \"legendgroup\": \"Oceania\", \"marker\": {\"color\": \"mediumpurple\", \"symbol\": \"circle\"}, \"mode\": \"markers\", \"name\": \"Oceania\", \"orientation\": \"v\", \"showlegend\": true, \"type\": \"scatter\", \"x\": [0.19187358899999998, 0.158389767], \"xaxis\": \"x\", \"y\": [0.89668616, 0.910331384], \"yaxis\": \"y\"}, {\"hovertemplate\": \"<b>%{hovertext}</b><br><br>Continent=Africa<br>% Unemployment=%{x}<br>Happiness index=%{y}<extra></extra>\", \"hovertext\": [\"Benin\", \"Botswana\", \"Burkina Faso\", \"Cameroon\", \"Chad\", \"Egypt\", \"Gabon\", \"Ghana\", \"Guinea\", \"Kenya\", \"Liberia\", \"Madagascar\", \"Malawi\", \"Mali\", \"Mauritania\", \"Morocco\", \"Niger\", \"Nigeria\", \"Rwanda\", \"Senegal\", \"Sierra Leone\", \"South Africa\", \"Tanzania\", \"Tunisia\", \"Uganda\", \"Zambia\", \"Zimbabwe\"], \"legendgroup\": \"Africa\", \"marker\": {\"color\": \"mediumseagreen\", \"symbol\": \"circle\"}, \"mode\": \"markers\", \"name\": \"Africa\", \"orientation\": \"v\", \"showlegend\": true, \"type\": \"scatter\", \"x\": [0.074115877, 0.639954853, 0.21557562100000002, 0.109857035, 0.05116629, 0.423250564, 0.7332580890000001, 0.140331076, 0.144093303, 0.08276899900000001, 0.094431904, 0.046651618, 0.19638826199999998, 0.257336343, 0.341986456, 0.32731377, 0.0, 0.297215952, 0.021444695, 0.23024830699999999, 0.150865312, 1.0, 0.057938299000000006, 0.560195636, 0.048908954000000004, 0.419112114, 0.176072235], \"xaxis\": \"x\", \"y\": [0.426900585, 0.16374269, 0.38791423, 0.469785575, 0.37037037, 0.247563353, 0.413255361, 0.549707602, 0.43079922, 0.35477582799999996, 0.34307992200000004, 0.276803119, 0.148148148, 0.40545809, 0.393762183, 0.516569201, 0.382066277, 0.518518519, 0.087719298, 0.393762183, 0.278752437, 0.360623782, 0.134502924, 0.28460039, 0.261208577, 0.247563353, 0.19103313800000002], \"yaxis\": \"y\"}],\n",
       "                        {\"height\": 650, \"legend\": {\"title\": {\"text\": \"Continent\"}, \"tracegroupgap\": 0}, \"margin\": {\"t\": 60}, \"template\": {\"data\": {\"bar\": [{\"error_x\": {\"color\": \"rgb(36,36,36)\"}, \"error_y\": {\"color\": \"rgb(36,36,36)\"}, \"marker\": {\"line\": {\"color\": \"white\", \"width\": 0.5}}, \"type\": \"bar\"}], \"barpolar\": [{\"marker\": {\"line\": {\"color\": \"white\", \"width\": 0.5}}, \"type\": \"barpolar\"}], \"carpet\": [{\"aaxis\": {\"endlinecolor\": \"rgb(36,36,36)\", \"gridcolor\": \"white\", \"linecolor\": \"white\", \"minorgridcolor\": \"white\", \"startlinecolor\": \"rgb(36,36,36)\"}, \"baxis\": {\"endlinecolor\": \"rgb(36,36,36)\", \"gridcolor\": \"white\", \"linecolor\": \"white\", \"minorgridcolor\": \"white\", \"startlinecolor\": \"rgb(36,36,36)\"}, \"type\": \"carpet\"}], \"choropleth\": [{\"colorbar\": {\"outlinewidth\": 1, \"tickcolor\": \"rgb(36,36,36)\", \"ticks\": \"outside\"}, \"type\": \"choropleth\"}], \"contour\": [{\"colorbar\": {\"outlinewidth\": 1, \"tickcolor\": \"rgb(36,36,36)\", \"ticks\": \"outside\"}, \"colorscale\": [[0.0, \"#440154\"], [0.1111111111111111, \"#482878\"], [0.2222222222222222, \"#3e4989\"], [0.3333333333333333, \"#31688e\"], [0.4444444444444444, \"#26828e\"], [0.5555555555555556, \"#1f9e89\"], [0.6666666666666666, \"#35b779\"], [0.7777777777777778, \"#6ece58\"], [0.8888888888888888, \"#b5de2b\"], [1.0, \"#fde725\"]], \"type\": \"contour\"}], \"contourcarpet\": [{\"colorbar\": {\"outlinewidth\": 1, \"tickcolor\": \"rgb(36,36,36)\", \"ticks\": \"outside\"}, \"type\": \"contourcarpet\"}], \"heatmap\": [{\"colorbar\": {\"outlinewidth\": 1, \"tickcolor\": \"rgb(36,36,36)\", \"ticks\": \"outside\"}, \"colorscale\": [[0.0, \"#440154\"], [0.1111111111111111, \"#482878\"], [0.2222222222222222, \"#3e4989\"], [0.3333333333333333, \"#31688e\"], [0.4444444444444444, \"#26828e\"], [0.5555555555555556, \"#1f9e89\"], [0.6666666666666666, \"#35b779\"], [0.7777777777777778, \"#6ece58\"], [0.8888888888888888, \"#b5de2b\"], [1.0, \"#fde725\"]], \"type\": \"heatmap\"}], \"heatmapgl\": [{\"colorbar\": {\"outlinewidth\": 1, \"tickcolor\": \"rgb(36,36,36)\", \"ticks\": \"outside\"}, \"colorscale\": [[0.0, \"#440154\"], [0.1111111111111111, \"#482878\"], [0.2222222222222222, \"#3e4989\"], [0.3333333333333333, \"#31688e\"], [0.4444444444444444, \"#26828e\"], [0.5555555555555556, \"#1f9e89\"], [0.6666666666666666, \"#35b779\"], [0.7777777777777778, \"#6ece58\"], [0.8888888888888888, \"#b5de2b\"], [1.0, \"#fde725\"]], \"type\": \"heatmapgl\"}], \"histogram\": [{\"marker\": {\"line\": {\"color\": \"white\", \"width\": 0.6}}, \"type\": \"histogram\"}], \"histogram2d\": [{\"colorbar\": {\"outlinewidth\": 1, \"tickcolor\": \"rgb(36,36,36)\", \"ticks\": \"outside\"}, \"colorscale\": [[0.0, \"#440154\"], [0.1111111111111111, \"#482878\"], [0.2222222222222222, \"#3e4989\"], [0.3333333333333333, \"#31688e\"], [0.4444444444444444, \"#26828e\"], [0.5555555555555556, \"#1f9e89\"], [0.6666666666666666, \"#35b779\"], [0.7777777777777778, \"#6ece58\"], [0.8888888888888888, \"#b5de2b\"], [1.0, \"#fde725\"]], \"type\": \"histogram2d\"}], \"histogram2dcontour\": [{\"colorbar\": {\"outlinewidth\": 1, \"tickcolor\": \"rgb(36,36,36)\", \"ticks\": \"outside\"}, \"colorscale\": [[0.0, \"#440154\"], [0.1111111111111111, \"#482878\"], [0.2222222222222222, \"#3e4989\"], [0.3333333333333333, \"#31688e\"], [0.4444444444444444, \"#26828e\"], [0.5555555555555556, \"#1f9e89\"], [0.6666666666666666, \"#35b779\"], [0.7777777777777778, \"#6ece58\"], [0.8888888888888888, \"#b5de2b\"], [1.0, \"#fde725\"]], \"type\": \"histogram2dcontour\"}], \"mesh3d\": [{\"colorbar\": {\"outlinewidth\": 1, \"tickcolor\": \"rgb(36,36,36)\", \"ticks\": \"outside\"}, \"type\": \"mesh3d\"}], \"parcoords\": [{\"line\": {\"colorbar\": {\"outlinewidth\": 1, \"tickcolor\": \"rgb(36,36,36)\", \"ticks\": \"outside\"}}, \"type\": \"parcoords\"}], \"pie\": [{\"automargin\": true, \"type\": \"pie\"}], \"scatter\": [{\"marker\": {\"colorbar\": {\"outlinewidth\": 1, \"tickcolor\": \"rgb(36,36,36)\", \"ticks\": \"outside\"}}, \"type\": \"scatter\"}], \"scatter3d\": [{\"line\": {\"colorbar\": {\"outlinewidth\": 1, \"tickcolor\": \"rgb(36,36,36)\", \"ticks\": \"outside\"}}, \"marker\": {\"colorbar\": {\"outlinewidth\": 1, \"tickcolor\": \"rgb(36,36,36)\", \"ticks\": \"outside\"}}, \"type\": \"scatter3d\"}], \"scattercarpet\": [{\"marker\": {\"colorbar\": {\"outlinewidth\": 1, \"tickcolor\": \"rgb(36,36,36)\", \"ticks\": \"outside\"}}, \"type\": \"scattercarpet\"}], \"scattergeo\": [{\"marker\": {\"colorbar\": {\"outlinewidth\": 1, \"tickcolor\": \"rgb(36,36,36)\", \"ticks\": \"outside\"}}, \"type\": \"scattergeo\"}], \"scattergl\": [{\"marker\": {\"colorbar\": {\"outlinewidth\": 1, \"tickcolor\": \"rgb(36,36,36)\", \"ticks\": \"outside\"}}, \"type\": \"scattergl\"}], \"scattermapbox\": [{\"marker\": {\"colorbar\": {\"outlinewidth\": 1, \"tickcolor\": \"rgb(36,36,36)\", \"ticks\": \"outside\"}}, \"type\": \"scattermapbox\"}], \"scatterpolar\": [{\"marker\": {\"colorbar\": {\"outlinewidth\": 1, \"tickcolor\": \"rgb(36,36,36)\", \"ticks\": \"outside\"}}, \"type\": \"scatterpolar\"}], \"scatterpolargl\": [{\"marker\": {\"colorbar\": {\"outlinewidth\": 1, \"tickcolor\": \"rgb(36,36,36)\", \"ticks\": \"outside\"}}, \"type\": \"scatterpolargl\"}], \"scatterternary\": [{\"marker\": {\"colorbar\": {\"outlinewidth\": 1, \"tickcolor\": \"rgb(36,36,36)\", \"ticks\": \"outside\"}}, \"type\": \"scatterternary\"}], \"surface\": [{\"colorbar\": {\"outlinewidth\": 1, \"tickcolor\": \"rgb(36,36,36)\", \"ticks\": \"outside\"}, \"colorscale\": [[0.0, \"#440154\"], [0.1111111111111111, \"#482878\"], [0.2222222222222222, \"#3e4989\"], [0.3333333333333333, \"#31688e\"], [0.4444444444444444, \"#26828e\"], [0.5555555555555556, \"#1f9e89\"], [0.6666666666666666, \"#35b779\"], [0.7777777777777778, \"#6ece58\"], [0.8888888888888888, \"#b5de2b\"], [1.0, \"#fde725\"]], \"type\": \"surface\"}], \"table\": [{\"cells\": {\"fill\": {\"color\": \"rgb(237,237,237)\"}, \"line\": {\"color\": \"white\"}}, \"header\": {\"fill\": {\"color\": \"rgb(217,217,217)\"}, \"line\": {\"color\": \"white\"}}, \"type\": \"table\"}]}, \"layout\": {\"annotationdefaults\": {\"arrowhead\": 0, \"arrowwidth\": 1}, \"coloraxis\": {\"colorbar\": {\"outlinewidth\": 1, \"tickcolor\": \"rgb(36,36,36)\", \"ticks\": \"outside\"}}, \"colorscale\": {\"diverging\": [[0.0, \"rgb(103,0,31)\"], [0.1, \"rgb(178,24,43)\"], [0.2, \"rgb(214,96,77)\"], [0.3, \"rgb(244,165,130)\"], [0.4, \"rgb(253,219,199)\"], [0.5, \"rgb(247,247,247)\"], [0.6, \"rgb(209,229,240)\"], [0.7, \"rgb(146,197,222)\"], [0.8, \"rgb(67,147,195)\"], [0.9, \"rgb(33,102,172)\"], [1.0, \"rgb(5,48,97)\"]], \"sequential\": [[0.0, \"#440154\"], [0.1111111111111111, \"#482878\"], [0.2222222222222222, \"#3e4989\"], [0.3333333333333333, \"#31688e\"], [0.4444444444444444, \"#26828e\"], [0.5555555555555556, \"#1f9e89\"], [0.6666666666666666, \"#35b779\"], [0.7777777777777778, \"#6ece58\"], [0.8888888888888888, \"#b5de2b\"], [1.0, \"#fde725\"]], \"sequentialminus\": [[0.0, \"#440154\"], [0.1111111111111111, \"#482878\"], [0.2222222222222222, \"#3e4989\"], [0.3333333333333333, \"#31688e\"], [0.4444444444444444, \"#26828e\"], [0.5555555555555556, \"#1f9e89\"], [0.6666666666666666, \"#35b779\"], [0.7777777777777778, \"#6ece58\"], [0.8888888888888888, \"#b5de2b\"], [1.0, \"#fde725\"]]}, \"colorway\": [\"#1F77B4\", \"#FF7F0E\", \"#2CA02C\", \"#D62728\", \"#9467BD\", \"#8C564B\", \"#E377C2\", \"#7F7F7F\", \"#BCBD22\", \"#17BECF\"], \"font\": {\"color\": \"rgb(36,36,36)\"}, \"geo\": {\"bgcolor\": \"white\", \"lakecolor\": \"white\", \"landcolor\": \"white\", \"showlakes\": true, \"showland\": true, \"subunitcolor\": \"white\"}, \"hoverlabel\": {\"align\": \"left\"}, \"hovermode\": \"closest\", \"mapbox\": {\"style\": \"light\"}, \"paper_bgcolor\": \"white\", \"plot_bgcolor\": \"white\", \"polar\": {\"angularaxis\": {\"gridcolor\": \"rgb(232,232,232)\", \"linecolor\": \"rgb(36,36,36)\", \"showgrid\": false, \"showline\": true, \"ticks\": \"outside\"}, \"bgcolor\": \"white\", \"radialaxis\": {\"gridcolor\": \"rgb(232,232,232)\", \"linecolor\": \"rgb(36,36,36)\", \"showgrid\": false, \"showline\": true, \"ticks\": \"outside\"}}, \"scene\": {\"xaxis\": {\"backgroundcolor\": \"white\", \"gridcolor\": \"rgb(232,232,232)\", \"gridwidth\": 2, \"linecolor\": \"rgb(36,36,36)\", \"showbackground\": true, \"showgrid\": false, \"showline\": true, \"ticks\": \"outside\", \"zeroline\": false, \"zerolinecolor\": \"rgb(36,36,36)\"}, \"yaxis\": {\"backgroundcolor\": \"white\", \"gridcolor\": \"rgb(232,232,232)\", \"gridwidth\": 2, \"linecolor\": \"rgb(36,36,36)\", \"showbackground\": true, \"showgrid\": false, \"showline\": true, \"ticks\": \"outside\", \"zeroline\": false, \"zerolinecolor\": \"rgb(36,36,36)\"}, \"zaxis\": {\"backgroundcolor\": \"white\", \"gridcolor\": \"rgb(232,232,232)\", \"gridwidth\": 2, \"linecolor\": \"rgb(36,36,36)\", \"showbackground\": true, \"showgrid\": false, \"showline\": true, \"ticks\": \"outside\", \"zeroline\": false, \"zerolinecolor\": \"rgb(36,36,36)\"}}, \"shapedefaults\": {\"fillcolor\": \"black\", \"line\": {\"width\": 0}, \"opacity\": 0.3}, \"ternary\": {\"aaxis\": {\"gridcolor\": \"rgb(232,232,232)\", \"linecolor\": \"rgb(36,36,36)\", \"showgrid\": false, \"showline\": true, \"ticks\": \"outside\"}, \"baxis\": {\"gridcolor\": \"rgb(232,232,232)\", \"linecolor\": \"rgb(36,36,36)\", \"showgrid\": false, \"showline\": true, \"ticks\": \"outside\"}, \"bgcolor\": \"white\", \"caxis\": {\"gridcolor\": \"rgb(232,232,232)\", \"linecolor\": \"rgb(36,36,36)\", \"showgrid\": false, \"showline\": true, \"ticks\": \"outside\"}}, \"title\": {\"x\": 0.05}, \"xaxis\": {\"automargin\": true, \"gridcolor\": \"rgb(232,232,232)\", \"linecolor\": \"rgb(36,36,36)\", \"showgrid\": false, \"showline\": true, \"ticks\": \"outside\", \"title\": {\"standoff\": 15}, \"zeroline\": false, \"zerolinecolor\": \"rgb(36,36,36)\"}, \"yaxis\": {\"automargin\": true, \"gridcolor\": \"rgb(232,232,232)\", \"linecolor\": \"rgb(36,36,36)\", \"showgrid\": false, \"showline\": true, \"ticks\": \"outside\", \"title\": {\"standoff\": 15}, \"zeroline\": false, \"zerolinecolor\": \"rgb(36,36,36)\"}}}, \"title\": {\"text\": \"% Unemployment and Happiness Index\"}, \"width\": 750, \"xaxis\": {\"anchor\": \"y\", \"domain\": [0.0, 1.0], \"title\": {\"text\": \"% Unemployment\"}}, \"yaxis\": {\"anchor\": \"x\", \"domain\": [0.0, 1.0], \"title\": {\"text\": \"Happiness index\"}}},\n",
       "                        {\"responsive\": true}\n",
       "                    ).then(function(){\n",
       "                            \n",
       "var gd = document.getElementById('68f2e81d-611d-48b9-b8ce-2b6b79f194db');\n",
       "var x = new MutationObserver(function (mutations, observer) {{\n",
       "        var display = window.getComputedStyle(gd).display;\n",
       "        if (!display || display === 'none') {{\n",
       "            console.log([gd, 'removed!']);\n",
       "            Plotly.purge(gd);\n",
       "            observer.disconnect();\n",
       "        }}\n",
       "}});\n",
       "\n",
       "// Listen for the removal of the full notebook cells\n",
       "var notebookContainer = gd.closest('#notebook-container');\n",
       "if (notebookContainer) {{\n",
       "    x.observe(notebookContainer, {childList: true});\n",
       "}}\n",
       "\n",
       "// Listen for the clearing of the current output cell\n",
       "var outputEl = gd.closest('.output');\n",
       "if (outputEl) {{\n",
       "    x.observe(outputEl, {childList: true});\n",
       "}}\n",
       "\n",
       "                        })\n",
       "                };\n",
       "                });\n",
       "            </script>\n",
       "        </div>"
      ]
     },
     "metadata": {},
     "output_type": "display_data"
    }
   ],
   "source": [
    "#Correlation of Unemployment with the Happiness Index\n",
    "\n",
    "\n",
    "unemp = df_2017N_v4[\"% Unemployment\"]\n",
    "HI = df_2017N_v4[\"Happiness index\"]\n",
    "color = [\"royalblue\",\"darkturquoise\",\"crimson\", \"mediumpurple\",\"mediumseagreen\"]\n",
    "\n",
    "#scatter plot\n",
    "fig_Q2b_1 = px.scatter(df_2017N_v4, unemp, HI, hover_name=\"Country name\"\n",
    "           ,template=\"simple_white\",color_discrete_sequence=color, color=\"Continent\")\n",
    "\n",
    "#update layout\n",
    "fig_Q2b_1.update_layout(title_text=\"% Unemployment and Happiness Index\"\n",
    "                      #,annotations= [dict(x=0.05, y=1, text=line_eq, showarrow = False)]\n",
    "                      ,width=750, height=650\n",
    "                     )\n",
    "\n",
    "\n",
    "fig_Q2b_1.show()"
   ]
  },
  {
   "cell_type": "code",
   "execution_count": 25,
   "metadata": {},
   "outputs": [
    {
     "data": {
      "application/vnd.plotly.v1+json": {
       "config": {
        "plotlyServerURL": "https://plot.ly"
       },
       "data": [
        {
         "hovertemplate": "<b>%{hovertext}</b><br><br>Continent=Asia<br>% Unemployment=%{x}<br>Happiness index=%{y}<extra></extra>",
         "hovertext": [
          "Afghanistan",
          "Armenia",
          "Azerbaijan",
          "Bahrain",
          "Bangladesh",
          "Cambodia",
          "China",
          "Cyprus",
          "Georgia",
          "Hong Kong S.A.R. of China",
          "India",
          "Indonesia",
          "Iran",
          "Iraq",
          "Israel",
          "Japan",
          "Jordan",
          "Kazakhstan",
          "Kuwait",
          "Kyrgyzstan",
          "Lebanon",
          "Malaysia",
          "Mongolia",
          "Nepal",
          "Pakistan",
          "Palestinian Territories",
          "Philippines",
          "Russia",
          "Saudi Arabia",
          "Singapore",
          "South Korea",
          "Sri Lanka",
          "Tajikistan",
          "Thailand",
          "United Arab Emirates",
          "Uzbekistan",
          "Vietnam"
         ],
         "legendgroup": "Asia",
         "marker": {
          "color": "royalblue",
          "symbol": "circle"
         },
         "mode": "markers",
         "name": "Asia",
         "orientation": "v",
         "showlegend": true,
         "type": "scatter",
         "x": [
          0.40218209200000005,
          0.647479308,
          0.169676448,
          0.007900677,
          0.145974417,
          0.007148231999999999,
          0.148607976,
          0.397291196,
          0.506019564,
          0.09781790800000001,
          0.185477803,
          0.138826185,
          0.43679458200000004,
          0.47140707299999995,
          0.140331076,
          0.086907449,
          0.5500376220000001,
          0.165914221,
          0.049285177,
          0.24078254300000002,
          0.21557562100000002,
          0.109857035,
          0.22084273899999998,
          0.034236268,
          0.12979684,
          0.947705041,
          0.077501881,
          0.177577126,
          0.203160271,
          0.139578631,
          0.120767494,
          0.138826185,
          0.405568096,
          0.012791573,
          0.074115877,
          0.200902935,
          0.058690745
         ],
         "xaxis": "x",
         "y": [
          0,
          0.317738791,
          0.48538011700000006,
          0.695906433,
          0.321637427,
          0.376218324,
          0.47563352799999997,
          0.662768031,
          0.348927875,
          0.526315789,
          0.270955166,
          0.47563352799999997,
          0.401559454,
          0.350877193,
          0.910331384,
          0.633528265,
          0.419103314,
          0.6276803120000001,
          0.668615984,
          0.578947368,
          0.48538011700000006,
          0.522417154,
          0.520467836,
          0.40545809,
          0.6179337229999999,
          0.384015595,
          0.5711500970000001,
          0.56920078,
          0.707602339,
          0.7251461990000001,
          0.625730994,
          0.325536062,
          0.6179337229999999,
          0.639376218,
          0.85380117,
          0.73294347,
          0.49122807
         ],
         "yaxis": "y"
        },
        {
         "hovertemplate": "<b>%{hovertext}</b><br><br>Continent=Europe<br>% Unemployment=%{x}<br>Happiness index=%{y}<extra></extra>",
         "hovertext": [
          "Albania",
          "Austria",
          "Belarus",
          "Belgium",
          "Bosnia and Herzegovina",
          "Bulgaria",
          "Croatia",
          "Czech Republic",
          "Denmark",
          "Estonia",
          "Finland",
          "France",
          "Germany",
          "Greece",
          "Hungary",
          "Ireland",
          "Italy",
          "Latvia",
          "Lithuania",
          "Luxembourg",
          "Macedonia",
          "Malta",
          "Moldova",
          "Montenegro",
          "Netherlands",
          "Poland",
          "Portugal",
          "Romania",
          "Serbia",
          "Slovakia",
          "Slovenia",
          "Spain",
          "Sweden",
          "Turkey",
          "Ukraine",
          "United Kingdom"
         ],
         "legendgroup": "Europe",
         "marker": {
          "color": "darkturquoise",
          "symbol": "circle"
         },
         "mode": "markers",
         "name": "Europe",
         "orientation": "v",
         "showlegend": true,
         "type": "scatter",
         "x": [
          0.49887133200000006,
          0.188487585,
          0.194130926,
          0.248306998,
          0.7539503390000001,
          0.213318284,
          0.40331076,
          0.09029345400000001,
          0.19751693,
          0.198269375,
          0.30662152,
          0.33521444699999997,
          0.122648608,
          0.79006772,
          0.13807374,
          0.234010534,
          0.40331076,
          0.309631302,
          0.24755455199999998,
          0.18924003,
          0.823551543,
          0.132054176,
          0.135816403,
          0.586155004,
          0.163656885,
          0.16553799800000002,
          0.315274643,
          0.167042889,
          0.48871331799999995,
          0.287434161,
          0.228367193,
          0.6294206170000001,
          0.234386757,
          0.388638074,
          0.33935289700000004,
          0.144845749
         ],
         "xaxis": "x",
         "y": [
          0.38596491200000005,
          0.902534113,
          0.563352827,
          0.8323586740000001,
          0.473684211,
          0.47563352799999997,
          0.522417154,
          0.8050682259999999,
          0.961013645,
          0.639376218,
          1,
          0.77582846,
          0.859649123,
          0.48538011700000006,
          0.664717349,
          0.857699805,
          0.69005848,
          0.6471734889999999,
          0.703703704,
          0.857699805,
          0.5009746589999999,
          0.783625731,
          0.520467836,
          0.5750487329999999,
          0.935672515,
          0.69005848,
          0.59454191,
          0.668615984,
          0.479532164,
          0.7231968809999999,
          0.684210526,
          0.695906433,
          0.902534113,
          0.5750487329999999,
          0.321637427,
          0.8654970759999999
         ],
         "yaxis": "y"
        },
        {
         "hovertemplate": "<b>%{hovertext}</b><br><br>Continent=Americas<br>% Unemployment=%{x}<br>Happiness index=%{y}<extra></extra>",
         "hovertext": [
          "Argentina",
          "Bolivia",
          "Brazil",
          "Canada",
          "Chile",
          "Colombia",
          "Costa Rica",
          "Dominican Republic",
          "Ecuador",
          "El Salvador",
          "Guatemala",
          "Haiti",
          "Honduras",
          "Mexico",
          "Nicaragua",
          "Panama",
          "Paraguay",
          "Peru",
          "Uruguay",
          "Venezuela"
         ],
         "legendgroup": "Americas",
         "marker": {
          "color": "crimson",
          "symbol": "circle"
         },
         "mode": "markers",
         "name": "Americas",
         "orientation": "v",
         "showlegend": true,
         "type": "scatter",
         "x": [
          0.295711061,
          0.11963882599999999,
          0.463882619,
          0.22009029300000002,
          0.243416102,
          0.315274643,
          0.287810384,
          0.200902935,
          0.126034612,
          0.14672686199999999,
          0.074115877,
          0.49811888600000004,
          0.189616253,
          0.110233258,
          0.105718585,
          0.12829194900000002,
          0.155003762,
          0.11173814900000001,
          0.278404816,
          0.256207675
         ],
         "xaxis": "x",
         "y": [
          0.658869396,
          0.582846004,
          0.71539961,
          0.9259259259999999,
          0.713450292,
          0.6822612090000001,
          0.890838207,
          0.5750487329999999,
          0.619883041,
          0.7173489279999999,
          0.71539961,
          0.226120858,
          0.65497076,
          0.7309941520000001,
          0.744639376,
          0.7621832359999999,
          0.59454191,
          0.59454191,
          0.7173489279999999,
          0.469785575
         ],
         "yaxis": "y"
        },
        {
         "hovertemplate": "<b>%{hovertext}</b><br><br>Continent=Oceania<br>% Unemployment=%{x}<br>Happiness index=%{y}<extra></extra>",
         "hovertext": [
          "Australia",
          "New Zealand"
         ],
         "legendgroup": "Oceania",
         "marker": {
          "color": "mediumpurple",
          "symbol": "circle"
         },
         "mode": "markers",
         "name": "Oceania",
         "orientation": "v",
         "showlegend": true,
         "type": "scatter",
         "x": [
          0.19187358899999998,
          0.158389767
         ],
         "xaxis": "x",
         "y": [
          0.89668616,
          0.910331384
         ],
         "yaxis": "y"
        },
        {
         "hovertemplate": "<b>%{hovertext}</b><br><br>Continent=Africa<br>% Unemployment=%{x}<br>Happiness index=%{y}<extra></extra>",
         "hovertext": [
          "Benin",
          "Botswana",
          "Burkina Faso",
          "Cameroon",
          "Chad",
          "Egypt",
          "Gabon",
          "Ghana",
          "Guinea",
          "Kenya",
          "Liberia",
          "Madagascar",
          "Malawi",
          "Mali",
          "Mauritania",
          "Morocco",
          "Niger",
          "Nigeria",
          "Rwanda",
          "Senegal",
          "Sierra Leone",
          "South Africa",
          "Tanzania",
          "Tunisia",
          "Uganda",
          "Zambia",
          "Zimbabwe"
         ],
         "legendgroup": "Africa",
         "marker": {
          "color": "mediumseagreen",
          "symbol": "circle"
         },
         "mode": "markers",
         "name": "Africa",
         "orientation": "v",
         "showlegend": true,
         "type": "scatter",
         "x": [
          0.074115877,
          0.639954853,
          0.21557562100000002,
          0.109857035,
          0.05116629,
          0.423250564,
          0.7332580890000001,
          0.140331076,
          0.144093303,
          0.08276899900000001,
          0.094431904,
          0.046651618,
          0.19638826199999998,
          0.257336343,
          0.341986456,
          0.32731377,
          0,
          0.297215952,
          0.021444695,
          0.23024830699999999,
          0.150865312,
          1,
          0.057938299000000006,
          0.560195636,
          0.048908954000000004,
          0.419112114,
          0.176072235
         ],
         "xaxis": "x",
         "y": [
          0.426900585,
          0.16374269,
          0.38791423,
          0.469785575,
          0.37037037,
          0.247563353,
          0.413255361,
          0.549707602,
          0.43079922,
          0.35477582799999996,
          0.34307992200000004,
          0.276803119,
          0.148148148,
          0.40545809,
          0.393762183,
          0.516569201,
          0.382066277,
          0.518518519,
          0.087719298,
          0.393762183,
          0.278752437,
          0.360623782,
          0.134502924,
          0.28460039,
          0.261208577,
          0.247563353,
          0.19103313800000002
         ],
         "yaxis": "y"
        },
        {
         "marker": {
          "color": "dimgrey"
         },
         "mode": "lines",
         "name": "Regression",
         "type": "scatter",
         "x": [
          0.40218209200000005,
          0.49887133200000006,
          0.295711061,
          0.647479308,
          0.19187358899999998,
          0.188487585,
          0.169676448,
          0.007900677,
          0.145974417,
          0.194130926,
          0.248306998,
          0.074115877,
          0.11963882599999999,
          0.7539503390000001,
          0.639954853,
          0.463882619,
          0.213318284,
          0.21557562100000002,
          0.007148231999999999,
          0.109857035,
          0.22009029300000002,
          0.05116629,
          0.243416102,
          0.148607976,
          0.315274643,
          0.287810384,
          0.40331076,
          0.397291196,
          0.09029345400000001,
          0.19751693,
          0.200902935,
          0.126034612,
          0.423250564,
          0.14672686199999999,
          0.198269375,
          0.30662152,
          0.33521444699999997,
          0.7332580890000001,
          0.506019564,
          0.122648608,
          0.140331076,
          0.79006772,
          0.074115877,
          0.144093303,
          0.49811888600000004,
          0.189616253,
          0.09781790800000001,
          0.13807374,
          0.185477803,
          0.138826185,
          0.43679458200000004,
          0.47140707299999995,
          0.234010534,
          0.140331076,
          0.40331076,
          0.086907449,
          0.5500376220000001,
          0.165914221,
          0.08276899900000001,
          0.049285177,
          0.24078254300000002,
          0.309631302,
          0.21557562100000002,
          0.094431904,
          0.24755455199999998,
          0.18924003,
          0.823551543,
          0.046651618,
          0.19638826199999998,
          0.109857035,
          0.257336343,
          0.132054176,
          0.341986456,
          0.110233258,
          0.135816403,
          0.22084273899999998,
          0.586155004,
          0.32731377,
          0.034236268,
          0.163656885,
          0.158389767,
          0.105718585,
          0,
          0.297215952,
          0.12979684,
          0.947705041,
          0.12829194900000002,
          0.155003762,
          0.11173814900000001,
          0.077501881,
          0.16553799800000002,
          0.315274643,
          0.167042889,
          0.177577126,
          0.021444695,
          0.203160271,
          0.23024830699999999,
          0.48871331799999995,
          0.150865312,
          0.139578631,
          0.287434161,
          0.228367193,
          1,
          0.120767494,
          0.6294206170000001,
          0.138826185,
          0.234386757,
          0.405568096,
          0.057938299000000006,
          0.012791573,
          0.560195636,
          0.388638074,
          0.048908954000000004,
          0.33935289700000004,
          0.074115877,
          0.144845749,
          0.278404816,
          0.200902935,
          0.256207675,
          0.058690745,
          0.419112114,
          0.176072235
         ],
         "y": [
          0.5260472155778445,
          0.5049618323313096,
          0.5492657504767503,
          0.47255433665286767,
          0.5719099753405649,
          0.5726483738636508,
          0.5767505886803984,
          0.6120296345342974,
          0.581919378996221,
          0.5714177094404338,
          0.5596033313264693,
          0.5975898388678308,
          0.5876624795652088,
          0.4493358017539618,
          0.4741952226231815,
          0.5125919514935662,
          0.5672334507067995,
          0.5667411848066685,
          0.6121937230222919,
          0.5897956312175798,
          0.5657566534425539,
          0.6025945409137327,
          0.5606699072616917,
          0.5813450689611296,
          0.5449994471720082,
          0.5509886805820245,
          0.5258010827368158,
          0.5271137915130669,
          0.5940619343042483,
          0.5706793109173479,
          0.5699409121761883,
          0.5862677266539973,
          0.5214527352971132,
          0.5817552905082265,
          0.5705152224293534,
          0.5468864659833507,
          0.5406510997323056,
          0.4538482378997326,
          0.50340299071403,
          0.5870061251770832,
          0.5831500434194379,
          0.4414595497506767,
          0.5975898388678308,
          0.5823296005433178,
          0.505125921037378,
          0.572402241022622,
          0.5924210485520082,
          0.5836423091014952,
          0.5733047282517763,
          0.5834782206135007,
          0.5184991407686221,
          0.5109510657413261,
          0.5627210145610286,
          0.5831500434194379,
          0.5258010827368158,
          0.5948003330454079,
          0.4938038086054707,
          0.5775710315565185,
          0.5957028202745621,
          0.6030047622427558,
          0.5612442172967831,
          0.546230111595225,
          0.5667411848066685,
          0.5931594470750942,
          0.5597674200325375,
          0.5724842853756562,
          0.4341576075644093,
          0.6035790722778472,
          0.5709254437583765,
          0.5897956312175798,
          0.5576342683801665,
          0.5849550178777463,
          0.5391743024680601,
          0.5897135868645457,
          0.5841345750016262,
          0.5655925647364857,
          0.4859275563841119,
          0.5423740298375798,
          0.6062865339653096,
          0.5780632972385757,
          0.5792119173087585,
          0.590698118446734,
          0.6137525646395716,
          0.5489375732826876,
          0.5854472835598036,
          0.4070829911259319,
          0.5857754607538663,
          0.5799503160499182,
          0.5893854096704829,
          0.5968514403447449,
          0.5776530759095525,
          0.5449994471720082,
          0.5773248987154898,
          0.5750276583570505,
          0.6090760400058063,
          0.569448646494131,
          0.5635414574371487,
          0.507177028336715,
          0.5808528032790723,
          0.5833141319074324,
          0.5510707249350587,
          0.5639516789842456,
          0.3956788343409905,
          0.5874163467241801,
          0.47649246276354706,
          0.5834782206135007,
          0.5626389702079946,
          0.5253088170547585,
          0.6011177436494871,
          0.610963058599075,
          0.4915886126000655,
          0.5290008101063356,
          0.60308680659579,
          0.5397486125031514,
          0.5975898388678308,
          0.5821655118372496,
          0.5530397878813615,
          0.5699409121761883,
          0.5578804012211951,
          0.6009536549434188,
          0.5223552225262674,
          0.5753558355511132
         ]
        }
       ],
       "layout": {
        "annotations": [
         {
          "showarrow": false,
          "text": "y = -0.22x + 0.61",
          "x": 0.05,
          "y": 1
         }
        ],
        "height": 650,
        "legend": {
         "title": {
          "text": "Continent"
         },
         "tracegroupgap": 0
        },
        "margin": {
         "t": 60
        },
        "template": {
         "data": {
          "bar": [
           {
            "error_x": {
             "color": "rgb(36,36,36)"
            },
            "error_y": {
             "color": "rgb(36,36,36)"
            },
            "marker": {
             "line": {
              "color": "white",
              "width": 0.5
             }
            },
            "type": "bar"
           }
          ],
          "barpolar": [
           {
            "marker": {
             "line": {
              "color": "white",
              "width": 0.5
             }
            },
            "type": "barpolar"
           }
          ],
          "carpet": [
           {
            "aaxis": {
             "endlinecolor": "rgb(36,36,36)",
             "gridcolor": "white",
             "linecolor": "white",
             "minorgridcolor": "white",
             "startlinecolor": "rgb(36,36,36)"
            },
            "baxis": {
             "endlinecolor": "rgb(36,36,36)",
             "gridcolor": "white",
             "linecolor": "white",
             "minorgridcolor": "white",
             "startlinecolor": "rgb(36,36,36)"
            },
            "type": "carpet"
           }
          ],
          "choropleth": [
           {
            "colorbar": {
             "outlinewidth": 1,
             "tickcolor": "rgb(36,36,36)",
             "ticks": "outside"
            },
            "type": "choropleth"
           }
          ],
          "contour": [
           {
            "colorbar": {
             "outlinewidth": 1,
             "tickcolor": "rgb(36,36,36)",
             "ticks": "outside"
            },
            "colorscale": [
             [
              0,
              "#440154"
             ],
             [
              0.1111111111111111,
              "#482878"
             ],
             [
              0.2222222222222222,
              "#3e4989"
             ],
             [
              0.3333333333333333,
              "#31688e"
             ],
             [
              0.4444444444444444,
              "#26828e"
             ],
             [
              0.5555555555555556,
              "#1f9e89"
             ],
             [
              0.6666666666666666,
              "#35b779"
             ],
             [
              0.7777777777777778,
              "#6ece58"
             ],
             [
              0.8888888888888888,
              "#b5de2b"
             ],
             [
              1,
              "#fde725"
             ]
            ],
            "type": "contour"
           }
          ],
          "contourcarpet": [
           {
            "colorbar": {
             "outlinewidth": 1,
             "tickcolor": "rgb(36,36,36)",
             "ticks": "outside"
            },
            "type": "contourcarpet"
           }
          ],
          "heatmap": [
           {
            "colorbar": {
             "outlinewidth": 1,
             "tickcolor": "rgb(36,36,36)",
             "ticks": "outside"
            },
            "colorscale": [
             [
              0,
              "#440154"
             ],
             [
              0.1111111111111111,
              "#482878"
             ],
             [
              0.2222222222222222,
              "#3e4989"
             ],
             [
              0.3333333333333333,
              "#31688e"
             ],
             [
              0.4444444444444444,
              "#26828e"
             ],
             [
              0.5555555555555556,
              "#1f9e89"
             ],
             [
              0.6666666666666666,
              "#35b779"
             ],
             [
              0.7777777777777778,
              "#6ece58"
             ],
             [
              0.8888888888888888,
              "#b5de2b"
             ],
             [
              1,
              "#fde725"
             ]
            ],
            "type": "heatmap"
           }
          ],
          "heatmapgl": [
           {
            "colorbar": {
             "outlinewidth": 1,
             "tickcolor": "rgb(36,36,36)",
             "ticks": "outside"
            },
            "colorscale": [
             [
              0,
              "#440154"
             ],
             [
              0.1111111111111111,
              "#482878"
             ],
             [
              0.2222222222222222,
              "#3e4989"
             ],
             [
              0.3333333333333333,
              "#31688e"
             ],
             [
              0.4444444444444444,
              "#26828e"
             ],
             [
              0.5555555555555556,
              "#1f9e89"
             ],
             [
              0.6666666666666666,
              "#35b779"
             ],
             [
              0.7777777777777778,
              "#6ece58"
             ],
             [
              0.8888888888888888,
              "#b5de2b"
             ],
             [
              1,
              "#fde725"
             ]
            ],
            "type": "heatmapgl"
           }
          ],
          "histogram": [
           {
            "marker": {
             "line": {
              "color": "white",
              "width": 0.6
             }
            },
            "type": "histogram"
           }
          ],
          "histogram2d": [
           {
            "colorbar": {
             "outlinewidth": 1,
             "tickcolor": "rgb(36,36,36)",
             "ticks": "outside"
            },
            "colorscale": [
             [
              0,
              "#440154"
             ],
             [
              0.1111111111111111,
              "#482878"
             ],
             [
              0.2222222222222222,
              "#3e4989"
             ],
             [
              0.3333333333333333,
              "#31688e"
             ],
             [
              0.4444444444444444,
              "#26828e"
             ],
             [
              0.5555555555555556,
              "#1f9e89"
             ],
             [
              0.6666666666666666,
              "#35b779"
             ],
             [
              0.7777777777777778,
              "#6ece58"
             ],
             [
              0.8888888888888888,
              "#b5de2b"
             ],
             [
              1,
              "#fde725"
             ]
            ],
            "type": "histogram2d"
           }
          ],
          "histogram2dcontour": [
           {
            "colorbar": {
             "outlinewidth": 1,
             "tickcolor": "rgb(36,36,36)",
             "ticks": "outside"
            },
            "colorscale": [
             [
              0,
              "#440154"
             ],
             [
              0.1111111111111111,
              "#482878"
             ],
             [
              0.2222222222222222,
              "#3e4989"
             ],
             [
              0.3333333333333333,
              "#31688e"
             ],
             [
              0.4444444444444444,
              "#26828e"
             ],
             [
              0.5555555555555556,
              "#1f9e89"
             ],
             [
              0.6666666666666666,
              "#35b779"
             ],
             [
              0.7777777777777778,
              "#6ece58"
             ],
             [
              0.8888888888888888,
              "#b5de2b"
             ],
             [
              1,
              "#fde725"
             ]
            ],
            "type": "histogram2dcontour"
           }
          ],
          "mesh3d": [
           {
            "colorbar": {
             "outlinewidth": 1,
             "tickcolor": "rgb(36,36,36)",
             "ticks": "outside"
            },
            "type": "mesh3d"
           }
          ],
          "parcoords": [
           {
            "line": {
             "colorbar": {
              "outlinewidth": 1,
              "tickcolor": "rgb(36,36,36)",
              "ticks": "outside"
             }
            },
            "type": "parcoords"
           }
          ],
          "pie": [
           {
            "automargin": true,
            "type": "pie"
           }
          ],
          "scatter": [
           {
            "marker": {
             "colorbar": {
              "outlinewidth": 1,
              "tickcolor": "rgb(36,36,36)",
              "ticks": "outside"
             }
            },
            "type": "scatter"
           }
          ],
          "scatter3d": [
           {
            "line": {
             "colorbar": {
              "outlinewidth": 1,
              "tickcolor": "rgb(36,36,36)",
              "ticks": "outside"
             }
            },
            "marker": {
             "colorbar": {
              "outlinewidth": 1,
              "tickcolor": "rgb(36,36,36)",
              "ticks": "outside"
             }
            },
            "type": "scatter3d"
           }
          ],
          "scattercarpet": [
           {
            "marker": {
             "colorbar": {
              "outlinewidth": 1,
              "tickcolor": "rgb(36,36,36)",
              "ticks": "outside"
             }
            },
            "type": "scattercarpet"
           }
          ],
          "scattergeo": [
           {
            "marker": {
             "colorbar": {
              "outlinewidth": 1,
              "tickcolor": "rgb(36,36,36)",
              "ticks": "outside"
             }
            },
            "type": "scattergeo"
           }
          ],
          "scattergl": [
           {
            "marker": {
             "colorbar": {
              "outlinewidth": 1,
              "tickcolor": "rgb(36,36,36)",
              "ticks": "outside"
             }
            },
            "type": "scattergl"
           }
          ],
          "scattermapbox": [
           {
            "marker": {
             "colorbar": {
              "outlinewidth": 1,
              "tickcolor": "rgb(36,36,36)",
              "ticks": "outside"
             }
            },
            "type": "scattermapbox"
           }
          ],
          "scatterpolar": [
           {
            "marker": {
             "colorbar": {
              "outlinewidth": 1,
              "tickcolor": "rgb(36,36,36)",
              "ticks": "outside"
             }
            },
            "type": "scatterpolar"
           }
          ],
          "scatterpolargl": [
           {
            "marker": {
             "colorbar": {
              "outlinewidth": 1,
              "tickcolor": "rgb(36,36,36)",
              "ticks": "outside"
             }
            },
            "type": "scatterpolargl"
           }
          ],
          "scatterternary": [
           {
            "marker": {
             "colorbar": {
              "outlinewidth": 1,
              "tickcolor": "rgb(36,36,36)",
              "ticks": "outside"
             }
            },
            "type": "scatterternary"
           }
          ],
          "surface": [
           {
            "colorbar": {
             "outlinewidth": 1,
             "tickcolor": "rgb(36,36,36)",
             "ticks": "outside"
            },
            "colorscale": [
             [
              0,
              "#440154"
             ],
             [
              0.1111111111111111,
              "#482878"
             ],
             [
              0.2222222222222222,
              "#3e4989"
             ],
             [
              0.3333333333333333,
              "#31688e"
             ],
             [
              0.4444444444444444,
              "#26828e"
             ],
             [
              0.5555555555555556,
              "#1f9e89"
             ],
             [
              0.6666666666666666,
              "#35b779"
             ],
             [
              0.7777777777777778,
              "#6ece58"
             ],
             [
              0.8888888888888888,
              "#b5de2b"
             ],
             [
              1,
              "#fde725"
             ]
            ],
            "type": "surface"
           }
          ],
          "table": [
           {
            "cells": {
             "fill": {
              "color": "rgb(237,237,237)"
             },
             "line": {
              "color": "white"
             }
            },
            "header": {
             "fill": {
              "color": "rgb(217,217,217)"
             },
             "line": {
              "color": "white"
             }
            },
            "type": "table"
           }
          ]
         },
         "layout": {
          "annotationdefaults": {
           "arrowhead": 0,
           "arrowwidth": 1
          },
          "coloraxis": {
           "colorbar": {
            "outlinewidth": 1,
            "tickcolor": "rgb(36,36,36)",
            "ticks": "outside"
           }
          },
          "colorscale": {
           "diverging": [
            [
             0,
             "rgb(103,0,31)"
            ],
            [
             0.1,
             "rgb(178,24,43)"
            ],
            [
             0.2,
             "rgb(214,96,77)"
            ],
            [
             0.3,
             "rgb(244,165,130)"
            ],
            [
             0.4,
             "rgb(253,219,199)"
            ],
            [
             0.5,
             "rgb(247,247,247)"
            ],
            [
             0.6,
             "rgb(209,229,240)"
            ],
            [
             0.7,
             "rgb(146,197,222)"
            ],
            [
             0.8,
             "rgb(67,147,195)"
            ],
            [
             0.9,
             "rgb(33,102,172)"
            ],
            [
             1,
             "rgb(5,48,97)"
            ]
           ],
           "sequential": [
            [
             0,
             "#440154"
            ],
            [
             0.1111111111111111,
             "#482878"
            ],
            [
             0.2222222222222222,
             "#3e4989"
            ],
            [
             0.3333333333333333,
             "#31688e"
            ],
            [
             0.4444444444444444,
             "#26828e"
            ],
            [
             0.5555555555555556,
             "#1f9e89"
            ],
            [
             0.6666666666666666,
             "#35b779"
            ],
            [
             0.7777777777777778,
             "#6ece58"
            ],
            [
             0.8888888888888888,
             "#b5de2b"
            ],
            [
             1,
             "#fde725"
            ]
           ],
           "sequentialminus": [
            [
             0,
             "#440154"
            ],
            [
             0.1111111111111111,
             "#482878"
            ],
            [
             0.2222222222222222,
             "#3e4989"
            ],
            [
             0.3333333333333333,
             "#31688e"
            ],
            [
             0.4444444444444444,
             "#26828e"
            ],
            [
             0.5555555555555556,
             "#1f9e89"
            ],
            [
             0.6666666666666666,
             "#35b779"
            ],
            [
             0.7777777777777778,
             "#6ece58"
            ],
            [
             0.8888888888888888,
             "#b5de2b"
            ],
            [
             1,
             "#fde725"
            ]
           ]
          },
          "colorway": [
           "#1F77B4",
           "#FF7F0E",
           "#2CA02C",
           "#D62728",
           "#9467BD",
           "#8C564B",
           "#E377C2",
           "#7F7F7F",
           "#BCBD22",
           "#17BECF"
          ],
          "font": {
           "color": "rgb(36,36,36)"
          },
          "geo": {
           "bgcolor": "white",
           "lakecolor": "white",
           "landcolor": "white",
           "showlakes": true,
           "showland": true,
           "subunitcolor": "white"
          },
          "hoverlabel": {
           "align": "left"
          },
          "hovermode": "closest",
          "mapbox": {
           "style": "light"
          },
          "paper_bgcolor": "white",
          "plot_bgcolor": "white",
          "polar": {
           "angularaxis": {
            "gridcolor": "rgb(232,232,232)",
            "linecolor": "rgb(36,36,36)",
            "showgrid": false,
            "showline": true,
            "ticks": "outside"
           },
           "bgcolor": "white",
           "radialaxis": {
            "gridcolor": "rgb(232,232,232)",
            "linecolor": "rgb(36,36,36)",
            "showgrid": false,
            "showline": true,
            "ticks": "outside"
           }
          },
          "scene": {
           "xaxis": {
            "backgroundcolor": "white",
            "gridcolor": "rgb(232,232,232)",
            "gridwidth": 2,
            "linecolor": "rgb(36,36,36)",
            "showbackground": true,
            "showgrid": false,
            "showline": true,
            "ticks": "outside",
            "zeroline": false,
            "zerolinecolor": "rgb(36,36,36)"
           },
           "yaxis": {
            "backgroundcolor": "white",
            "gridcolor": "rgb(232,232,232)",
            "gridwidth": 2,
            "linecolor": "rgb(36,36,36)",
            "showbackground": true,
            "showgrid": false,
            "showline": true,
            "ticks": "outside",
            "zeroline": false,
            "zerolinecolor": "rgb(36,36,36)"
           },
           "zaxis": {
            "backgroundcolor": "white",
            "gridcolor": "rgb(232,232,232)",
            "gridwidth": 2,
            "linecolor": "rgb(36,36,36)",
            "showbackground": true,
            "showgrid": false,
            "showline": true,
            "ticks": "outside",
            "zeroline": false,
            "zerolinecolor": "rgb(36,36,36)"
           }
          },
          "shapedefaults": {
           "fillcolor": "black",
           "line": {
            "width": 0
           },
           "opacity": 0.3
          },
          "ternary": {
           "aaxis": {
            "gridcolor": "rgb(232,232,232)",
            "linecolor": "rgb(36,36,36)",
            "showgrid": false,
            "showline": true,
            "ticks": "outside"
           },
           "baxis": {
            "gridcolor": "rgb(232,232,232)",
            "linecolor": "rgb(36,36,36)",
            "showgrid": false,
            "showline": true,
            "ticks": "outside"
           },
           "bgcolor": "white",
           "caxis": {
            "gridcolor": "rgb(232,232,232)",
            "linecolor": "rgb(36,36,36)",
            "showgrid": false,
            "showline": true,
            "ticks": "outside"
           }
          },
          "title": {
           "x": 0.05
          },
          "xaxis": {
           "automargin": true,
           "gridcolor": "rgb(232,232,232)",
           "linecolor": "rgb(36,36,36)",
           "showgrid": false,
           "showline": true,
           "ticks": "outside",
           "title": {
            "standoff": 15
           },
           "zeroline": false,
           "zerolinecolor": "rgb(36,36,36)"
          },
          "yaxis": {
           "automargin": true,
           "gridcolor": "rgb(232,232,232)",
           "linecolor": "rgb(36,36,36)",
           "showgrid": false,
           "showline": true,
           "ticks": "outside",
           "title": {
            "standoff": 15
           },
           "zeroline": false,
           "zerolinecolor": "rgb(36,36,36)"
          }
         }
        },
        "title": {
         "text": "% Unemployment and Happiness Index are Negatively Correlated"
        },
        "width": 750,
        "xaxis": {
         "anchor": "y",
         "domain": [
          0,
          1
         ],
         "title": {
          "text": "% Unemployment"
         }
        },
        "yaxis": {
         "anchor": "x",
         "domain": [
          0,
          1
         ],
         "title": {
          "text": "Happiness index"
         }
        }
       }
      },
      "text/html": [
       "<div>\n",
       "        \n",
       "        \n",
       "            <div id=\"6398a928-8713-4739-967f-64cf2b23c3cc\" class=\"plotly-graph-div\" style=\"height:650px; width:750px;\"></div>\n",
       "            <script type=\"text/javascript\">\n",
       "                require([\"plotly\"], function(Plotly) {\n",
       "                    window.PLOTLYENV=window.PLOTLYENV || {};\n",
       "                    \n",
       "                if (document.getElementById(\"6398a928-8713-4739-967f-64cf2b23c3cc\")) {\n",
       "                    Plotly.newPlot(\n",
       "                        '6398a928-8713-4739-967f-64cf2b23c3cc',\n",
       "                        [{\"hovertemplate\": \"<b>%{hovertext}</b><br><br>Continent=Asia<br>% Unemployment=%{x}<br>Happiness index=%{y}<extra></extra>\", \"hovertext\": [\"Afghanistan\", \"Armenia\", \"Azerbaijan\", \"Bahrain\", \"Bangladesh\", \"Cambodia\", \"China\", \"Cyprus\", \"Georgia\", \"Hong Kong S.A.R. of China\", \"India\", \"Indonesia\", \"Iran\", \"Iraq\", \"Israel\", \"Japan\", \"Jordan\", \"Kazakhstan\", \"Kuwait\", \"Kyrgyzstan\", \"Lebanon\", \"Malaysia\", \"Mongolia\", \"Nepal\", \"Pakistan\", \"Palestinian Territories\", \"Philippines\", \"Russia\", \"Saudi Arabia\", \"Singapore\", \"South Korea\", \"Sri Lanka\", \"Tajikistan\", \"Thailand\", \"United Arab Emirates\", \"Uzbekistan\", \"Vietnam\"], \"legendgroup\": \"Asia\", \"marker\": {\"color\": \"royalblue\", \"symbol\": \"circle\"}, \"mode\": \"markers\", \"name\": \"Asia\", \"orientation\": \"v\", \"showlegend\": true, \"type\": \"scatter\", \"x\": [0.40218209200000005, 0.647479308, 0.169676448, 0.007900677, 0.145974417, 0.007148231999999999, 0.148607976, 0.397291196, 0.506019564, 0.09781790800000001, 0.185477803, 0.138826185, 0.43679458200000004, 0.47140707299999995, 0.140331076, 0.086907449, 0.5500376220000001, 0.165914221, 0.049285177, 0.24078254300000002, 0.21557562100000002, 0.109857035, 0.22084273899999998, 0.034236268, 0.12979684, 0.947705041, 0.077501881, 0.177577126, 0.203160271, 0.139578631, 0.120767494, 0.138826185, 0.405568096, 0.012791573, 0.074115877, 0.200902935, 0.058690745], \"xaxis\": \"x\", \"y\": [0.0, 0.317738791, 0.48538011700000006, 0.695906433, 0.321637427, 0.376218324, 0.47563352799999997, 0.662768031, 0.348927875, 0.526315789, 0.270955166, 0.47563352799999997, 0.401559454, 0.350877193, 0.910331384, 0.633528265, 0.419103314, 0.6276803120000001, 0.668615984, 0.578947368, 0.48538011700000006, 0.522417154, 0.520467836, 0.40545809, 0.6179337229999999, 0.384015595, 0.5711500970000001, 0.56920078, 0.707602339, 0.7251461990000001, 0.625730994, 0.325536062, 0.6179337229999999, 0.639376218, 0.85380117, 0.73294347, 0.49122807], \"yaxis\": \"y\"}, {\"hovertemplate\": \"<b>%{hovertext}</b><br><br>Continent=Europe<br>% Unemployment=%{x}<br>Happiness index=%{y}<extra></extra>\", \"hovertext\": [\"Albania\", \"Austria\", \"Belarus\", \"Belgium\", \"Bosnia and Herzegovina\", \"Bulgaria\", \"Croatia\", \"Czech Republic\", \"Denmark\", \"Estonia\", \"Finland\", \"France\", \"Germany\", \"Greece\", \"Hungary\", \"Ireland\", \"Italy\", \"Latvia\", \"Lithuania\", \"Luxembourg\", \"Macedonia\", \"Malta\", \"Moldova\", \"Montenegro\", \"Netherlands\", \"Poland\", \"Portugal\", \"Romania\", \"Serbia\", \"Slovakia\", \"Slovenia\", \"Spain\", \"Sweden\", \"Turkey\", \"Ukraine\", \"United Kingdom\"], \"legendgroup\": \"Europe\", \"marker\": {\"color\": \"darkturquoise\", \"symbol\": \"circle\"}, \"mode\": \"markers\", \"name\": \"Europe\", \"orientation\": \"v\", \"showlegend\": true, \"type\": \"scatter\", \"x\": [0.49887133200000006, 0.188487585, 0.194130926, 0.248306998, 0.7539503390000001, 0.213318284, 0.40331076, 0.09029345400000001, 0.19751693, 0.198269375, 0.30662152, 0.33521444699999997, 0.122648608, 0.79006772, 0.13807374, 0.234010534, 0.40331076, 0.309631302, 0.24755455199999998, 0.18924003, 0.823551543, 0.132054176, 0.135816403, 0.586155004, 0.163656885, 0.16553799800000002, 0.315274643, 0.167042889, 0.48871331799999995, 0.287434161, 0.228367193, 0.6294206170000001, 0.234386757, 0.388638074, 0.33935289700000004, 0.144845749], \"xaxis\": \"x\", \"y\": [0.38596491200000005, 0.902534113, 0.563352827, 0.8323586740000001, 0.473684211, 0.47563352799999997, 0.522417154, 0.8050682259999999, 0.961013645, 0.639376218, 1.0, 0.77582846, 0.859649123, 0.48538011700000006, 0.664717349, 0.857699805, 0.69005848, 0.6471734889999999, 0.703703704, 0.857699805, 0.5009746589999999, 0.783625731, 0.520467836, 0.5750487329999999, 0.935672515, 0.69005848, 0.59454191, 0.668615984, 0.479532164, 0.7231968809999999, 0.684210526, 0.695906433, 0.902534113, 0.5750487329999999, 0.321637427, 0.8654970759999999], \"yaxis\": \"y\"}, {\"hovertemplate\": \"<b>%{hovertext}</b><br><br>Continent=Americas<br>% Unemployment=%{x}<br>Happiness index=%{y}<extra></extra>\", \"hovertext\": [\"Argentina\", \"Bolivia\", \"Brazil\", \"Canada\", \"Chile\", \"Colombia\", \"Costa Rica\", \"Dominican Republic\", \"Ecuador\", \"El Salvador\", \"Guatemala\", \"Haiti\", \"Honduras\", \"Mexico\", \"Nicaragua\", \"Panama\", \"Paraguay\", \"Peru\", \"Uruguay\", \"Venezuela\"], \"legendgroup\": \"Americas\", \"marker\": {\"color\": \"crimson\", \"symbol\": \"circle\"}, \"mode\": \"markers\", \"name\": \"Americas\", \"orientation\": \"v\", \"showlegend\": true, \"type\": \"scatter\", \"x\": [0.295711061, 0.11963882599999999, 0.463882619, 0.22009029300000002, 0.243416102, 0.315274643, 0.287810384, 0.200902935, 0.126034612, 0.14672686199999999, 0.074115877, 0.49811888600000004, 0.189616253, 0.110233258, 0.105718585, 0.12829194900000002, 0.155003762, 0.11173814900000001, 0.278404816, 0.256207675], \"xaxis\": \"x\", \"y\": [0.658869396, 0.582846004, 0.71539961, 0.9259259259999999, 0.713450292, 0.6822612090000001, 0.890838207, 0.5750487329999999, 0.619883041, 0.7173489279999999, 0.71539961, 0.226120858, 0.65497076, 0.7309941520000001, 0.744639376, 0.7621832359999999, 0.59454191, 0.59454191, 0.7173489279999999, 0.469785575], \"yaxis\": \"y\"}, {\"hovertemplate\": \"<b>%{hovertext}</b><br><br>Continent=Oceania<br>% Unemployment=%{x}<br>Happiness index=%{y}<extra></extra>\", \"hovertext\": [\"Australia\", \"New Zealand\"], \"legendgroup\": \"Oceania\", \"marker\": {\"color\": \"mediumpurple\", \"symbol\": \"circle\"}, \"mode\": \"markers\", \"name\": \"Oceania\", \"orientation\": \"v\", \"showlegend\": true, \"type\": \"scatter\", \"x\": [0.19187358899999998, 0.158389767], \"xaxis\": \"x\", \"y\": [0.89668616, 0.910331384], \"yaxis\": \"y\"}, {\"hovertemplate\": \"<b>%{hovertext}</b><br><br>Continent=Africa<br>% Unemployment=%{x}<br>Happiness index=%{y}<extra></extra>\", \"hovertext\": [\"Benin\", \"Botswana\", \"Burkina Faso\", \"Cameroon\", \"Chad\", \"Egypt\", \"Gabon\", \"Ghana\", \"Guinea\", \"Kenya\", \"Liberia\", \"Madagascar\", \"Malawi\", \"Mali\", \"Mauritania\", \"Morocco\", \"Niger\", \"Nigeria\", \"Rwanda\", \"Senegal\", \"Sierra Leone\", \"South Africa\", \"Tanzania\", \"Tunisia\", \"Uganda\", \"Zambia\", \"Zimbabwe\"], \"legendgroup\": \"Africa\", \"marker\": {\"color\": \"mediumseagreen\", \"symbol\": \"circle\"}, \"mode\": \"markers\", \"name\": \"Africa\", \"orientation\": \"v\", \"showlegend\": true, \"type\": \"scatter\", \"x\": [0.074115877, 0.639954853, 0.21557562100000002, 0.109857035, 0.05116629, 0.423250564, 0.7332580890000001, 0.140331076, 0.144093303, 0.08276899900000001, 0.094431904, 0.046651618, 0.19638826199999998, 0.257336343, 0.341986456, 0.32731377, 0.0, 0.297215952, 0.021444695, 0.23024830699999999, 0.150865312, 1.0, 0.057938299000000006, 0.560195636, 0.048908954000000004, 0.419112114, 0.176072235], \"xaxis\": \"x\", \"y\": [0.426900585, 0.16374269, 0.38791423, 0.469785575, 0.37037037, 0.247563353, 0.413255361, 0.549707602, 0.43079922, 0.35477582799999996, 0.34307992200000004, 0.276803119, 0.148148148, 0.40545809, 0.393762183, 0.516569201, 0.382066277, 0.518518519, 0.087719298, 0.393762183, 0.278752437, 0.360623782, 0.134502924, 0.28460039, 0.261208577, 0.247563353, 0.19103313800000002], \"yaxis\": \"y\"}, {\"marker\": {\"color\": \"dimgrey\"}, \"mode\": \"lines\", \"name\": \"Regression\", \"type\": \"scatter\", \"x\": [0.40218209200000005, 0.49887133200000006, 0.295711061, 0.647479308, 0.19187358899999998, 0.188487585, 0.169676448, 0.007900677, 0.145974417, 0.194130926, 0.248306998, 0.074115877, 0.11963882599999999, 0.7539503390000001, 0.639954853, 0.463882619, 0.213318284, 0.21557562100000002, 0.007148231999999999, 0.109857035, 0.22009029300000002, 0.05116629, 0.243416102, 0.148607976, 0.315274643, 0.287810384, 0.40331076, 0.397291196, 0.09029345400000001, 0.19751693, 0.200902935, 0.126034612, 0.423250564, 0.14672686199999999, 0.198269375, 0.30662152, 0.33521444699999997, 0.7332580890000001, 0.506019564, 0.122648608, 0.140331076, 0.79006772, 0.074115877, 0.144093303, 0.49811888600000004, 0.189616253, 0.09781790800000001, 0.13807374, 0.185477803, 0.138826185, 0.43679458200000004, 0.47140707299999995, 0.234010534, 0.140331076, 0.40331076, 0.086907449, 0.5500376220000001, 0.165914221, 0.08276899900000001, 0.049285177, 0.24078254300000002, 0.309631302, 0.21557562100000002, 0.094431904, 0.24755455199999998, 0.18924003, 0.823551543, 0.046651618, 0.19638826199999998, 0.109857035, 0.257336343, 0.132054176, 0.341986456, 0.110233258, 0.135816403, 0.22084273899999998, 0.586155004, 0.32731377, 0.034236268, 0.163656885, 0.158389767, 0.105718585, 0.0, 0.297215952, 0.12979684, 0.947705041, 0.12829194900000002, 0.155003762, 0.11173814900000001, 0.077501881, 0.16553799800000002, 0.315274643, 0.167042889, 0.177577126, 0.021444695, 0.203160271, 0.23024830699999999, 0.48871331799999995, 0.150865312, 0.139578631, 0.287434161, 0.228367193, 1.0, 0.120767494, 0.6294206170000001, 0.138826185, 0.234386757, 0.405568096, 0.057938299000000006, 0.012791573, 0.560195636, 0.388638074, 0.048908954000000004, 0.33935289700000004, 0.074115877, 0.144845749, 0.278404816, 0.200902935, 0.256207675, 0.058690745, 0.419112114, 0.176072235], \"y\": [0.5260472155778445, 0.5049618323313096, 0.5492657504767503, 0.47255433665286767, 0.5719099753405649, 0.5726483738636508, 0.5767505886803984, 0.6120296345342974, 0.581919378996221, 0.5714177094404338, 0.5596033313264693, 0.5975898388678308, 0.5876624795652088, 0.4493358017539618, 0.4741952226231815, 0.5125919514935662, 0.5672334507067995, 0.5667411848066685, 0.6121937230222919, 0.5897956312175798, 0.5657566534425539, 0.6025945409137327, 0.5606699072616917, 0.5813450689611296, 0.5449994471720082, 0.5509886805820245, 0.5258010827368158, 0.5271137915130669, 0.5940619343042483, 0.5706793109173479, 0.5699409121761883, 0.5862677266539973, 0.5214527352971132, 0.5817552905082265, 0.5705152224293534, 0.5468864659833507, 0.5406510997323056, 0.4538482378997326, 0.50340299071403, 0.5870061251770832, 0.5831500434194379, 0.4414595497506767, 0.5975898388678308, 0.5823296005433178, 0.505125921037378, 0.572402241022622, 0.5924210485520082, 0.5836423091014952, 0.5733047282517763, 0.5834782206135007, 0.5184991407686221, 0.5109510657413261, 0.5627210145610286, 0.5831500434194379, 0.5258010827368158, 0.5948003330454079, 0.4938038086054707, 0.5775710315565185, 0.5957028202745621, 0.6030047622427558, 0.5612442172967831, 0.546230111595225, 0.5667411848066685, 0.5931594470750942, 0.5597674200325375, 0.5724842853756562, 0.4341576075644093, 0.6035790722778472, 0.5709254437583765, 0.5897956312175798, 0.5576342683801665, 0.5849550178777463, 0.5391743024680601, 0.5897135868645457, 0.5841345750016262, 0.5655925647364857, 0.4859275563841119, 0.5423740298375798, 0.6062865339653096, 0.5780632972385757, 0.5792119173087585, 0.590698118446734, 0.6137525646395716, 0.5489375732826876, 0.5854472835598036, 0.4070829911259319, 0.5857754607538663, 0.5799503160499182, 0.5893854096704829, 0.5968514403447449, 0.5776530759095525, 0.5449994471720082, 0.5773248987154898, 0.5750276583570505, 0.6090760400058063, 0.569448646494131, 0.5635414574371487, 0.507177028336715, 0.5808528032790723, 0.5833141319074324, 0.5510707249350587, 0.5639516789842456, 0.3956788343409905, 0.5874163467241801, 0.47649246276354706, 0.5834782206135007, 0.5626389702079946, 0.5253088170547585, 0.6011177436494871, 0.610963058599075, 0.4915886126000655, 0.5290008101063356, 0.60308680659579, 0.5397486125031514, 0.5975898388678308, 0.5821655118372496, 0.5530397878813615, 0.5699409121761883, 0.5578804012211951, 0.6009536549434188, 0.5223552225262674, 0.5753558355511132]}],\n",
       "                        {\"annotations\": [{\"showarrow\": false, \"text\": \"y = -0.22x + 0.61\", \"x\": 0.05, \"y\": 1}], \"height\": 650, \"legend\": {\"title\": {\"text\": \"Continent\"}, \"tracegroupgap\": 0}, \"margin\": {\"t\": 60}, \"template\": {\"data\": {\"bar\": [{\"error_x\": {\"color\": \"rgb(36,36,36)\"}, \"error_y\": {\"color\": \"rgb(36,36,36)\"}, \"marker\": {\"line\": {\"color\": \"white\", \"width\": 0.5}}, \"type\": \"bar\"}], \"barpolar\": [{\"marker\": {\"line\": {\"color\": \"white\", \"width\": 0.5}}, \"type\": \"barpolar\"}], \"carpet\": [{\"aaxis\": {\"endlinecolor\": \"rgb(36,36,36)\", \"gridcolor\": \"white\", \"linecolor\": \"white\", \"minorgridcolor\": \"white\", \"startlinecolor\": \"rgb(36,36,36)\"}, \"baxis\": {\"endlinecolor\": \"rgb(36,36,36)\", \"gridcolor\": \"white\", \"linecolor\": \"white\", \"minorgridcolor\": \"white\", \"startlinecolor\": \"rgb(36,36,36)\"}, \"type\": \"carpet\"}], \"choropleth\": [{\"colorbar\": {\"outlinewidth\": 1, \"tickcolor\": \"rgb(36,36,36)\", \"ticks\": \"outside\"}, \"type\": \"choropleth\"}], \"contour\": [{\"colorbar\": {\"outlinewidth\": 1, \"tickcolor\": \"rgb(36,36,36)\", \"ticks\": \"outside\"}, \"colorscale\": [[0.0, \"#440154\"], [0.1111111111111111, \"#482878\"], [0.2222222222222222, \"#3e4989\"], [0.3333333333333333, \"#31688e\"], [0.4444444444444444, \"#26828e\"], [0.5555555555555556, \"#1f9e89\"], [0.6666666666666666, \"#35b779\"], [0.7777777777777778, \"#6ece58\"], [0.8888888888888888, \"#b5de2b\"], [1.0, \"#fde725\"]], \"type\": \"contour\"}], \"contourcarpet\": [{\"colorbar\": {\"outlinewidth\": 1, \"tickcolor\": \"rgb(36,36,36)\", \"ticks\": \"outside\"}, \"type\": \"contourcarpet\"}], \"heatmap\": [{\"colorbar\": {\"outlinewidth\": 1, \"tickcolor\": \"rgb(36,36,36)\", \"ticks\": \"outside\"}, \"colorscale\": [[0.0, \"#440154\"], [0.1111111111111111, \"#482878\"], [0.2222222222222222, \"#3e4989\"], [0.3333333333333333, \"#31688e\"], [0.4444444444444444, \"#26828e\"], [0.5555555555555556, \"#1f9e89\"], [0.6666666666666666, \"#35b779\"], [0.7777777777777778, \"#6ece58\"], [0.8888888888888888, \"#b5de2b\"], [1.0, \"#fde725\"]], \"type\": \"heatmap\"}], \"heatmapgl\": [{\"colorbar\": {\"outlinewidth\": 1, \"tickcolor\": \"rgb(36,36,36)\", \"ticks\": \"outside\"}, \"colorscale\": [[0.0, \"#440154\"], [0.1111111111111111, \"#482878\"], [0.2222222222222222, \"#3e4989\"], [0.3333333333333333, \"#31688e\"], [0.4444444444444444, \"#26828e\"], [0.5555555555555556, \"#1f9e89\"], [0.6666666666666666, \"#35b779\"], [0.7777777777777778, \"#6ece58\"], [0.8888888888888888, \"#b5de2b\"], [1.0, \"#fde725\"]], \"type\": \"heatmapgl\"}], \"histogram\": [{\"marker\": {\"line\": {\"color\": \"white\", \"width\": 0.6}}, \"type\": \"histogram\"}], \"histogram2d\": [{\"colorbar\": {\"outlinewidth\": 1, \"tickcolor\": \"rgb(36,36,36)\", \"ticks\": \"outside\"}, \"colorscale\": [[0.0, \"#440154\"], [0.1111111111111111, \"#482878\"], [0.2222222222222222, \"#3e4989\"], [0.3333333333333333, \"#31688e\"], [0.4444444444444444, \"#26828e\"], [0.5555555555555556, \"#1f9e89\"], [0.6666666666666666, \"#35b779\"], [0.7777777777777778, \"#6ece58\"], [0.8888888888888888, \"#b5de2b\"], [1.0, \"#fde725\"]], \"type\": \"histogram2d\"}], \"histogram2dcontour\": [{\"colorbar\": {\"outlinewidth\": 1, \"tickcolor\": \"rgb(36,36,36)\", \"ticks\": \"outside\"}, \"colorscale\": [[0.0, \"#440154\"], [0.1111111111111111, \"#482878\"], [0.2222222222222222, \"#3e4989\"], [0.3333333333333333, \"#31688e\"], [0.4444444444444444, \"#26828e\"], [0.5555555555555556, \"#1f9e89\"], [0.6666666666666666, \"#35b779\"], [0.7777777777777778, \"#6ece58\"], [0.8888888888888888, \"#b5de2b\"], [1.0, \"#fde725\"]], \"type\": \"histogram2dcontour\"}], \"mesh3d\": [{\"colorbar\": {\"outlinewidth\": 1, \"tickcolor\": \"rgb(36,36,36)\", \"ticks\": \"outside\"}, \"type\": \"mesh3d\"}], \"parcoords\": [{\"line\": {\"colorbar\": {\"outlinewidth\": 1, \"tickcolor\": \"rgb(36,36,36)\", \"ticks\": \"outside\"}}, \"type\": \"parcoords\"}], \"pie\": [{\"automargin\": true, \"type\": \"pie\"}], \"scatter\": [{\"marker\": {\"colorbar\": {\"outlinewidth\": 1, \"tickcolor\": \"rgb(36,36,36)\", \"ticks\": \"outside\"}}, \"type\": \"scatter\"}], \"scatter3d\": [{\"line\": {\"colorbar\": {\"outlinewidth\": 1, \"tickcolor\": \"rgb(36,36,36)\", \"ticks\": \"outside\"}}, \"marker\": {\"colorbar\": {\"outlinewidth\": 1, \"tickcolor\": \"rgb(36,36,36)\", \"ticks\": \"outside\"}}, \"type\": \"scatter3d\"}], \"scattercarpet\": [{\"marker\": {\"colorbar\": {\"outlinewidth\": 1, \"tickcolor\": \"rgb(36,36,36)\", \"ticks\": \"outside\"}}, \"type\": \"scattercarpet\"}], \"scattergeo\": [{\"marker\": {\"colorbar\": {\"outlinewidth\": 1, \"tickcolor\": \"rgb(36,36,36)\", \"ticks\": \"outside\"}}, \"type\": \"scattergeo\"}], \"scattergl\": [{\"marker\": {\"colorbar\": {\"outlinewidth\": 1, \"tickcolor\": \"rgb(36,36,36)\", \"ticks\": \"outside\"}}, \"type\": \"scattergl\"}], \"scattermapbox\": [{\"marker\": {\"colorbar\": {\"outlinewidth\": 1, \"tickcolor\": \"rgb(36,36,36)\", \"ticks\": \"outside\"}}, \"type\": \"scattermapbox\"}], \"scatterpolar\": [{\"marker\": {\"colorbar\": {\"outlinewidth\": 1, \"tickcolor\": \"rgb(36,36,36)\", \"ticks\": \"outside\"}}, \"type\": \"scatterpolar\"}], \"scatterpolargl\": [{\"marker\": {\"colorbar\": {\"outlinewidth\": 1, \"tickcolor\": \"rgb(36,36,36)\", \"ticks\": \"outside\"}}, \"type\": \"scatterpolargl\"}], \"scatterternary\": [{\"marker\": {\"colorbar\": {\"outlinewidth\": 1, \"tickcolor\": \"rgb(36,36,36)\", \"ticks\": \"outside\"}}, \"type\": \"scatterternary\"}], \"surface\": [{\"colorbar\": {\"outlinewidth\": 1, \"tickcolor\": \"rgb(36,36,36)\", \"ticks\": \"outside\"}, \"colorscale\": [[0.0, \"#440154\"], [0.1111111111111111, \"#482878\"], [0.2222222222222222, \"#3e4989\"], [0.3333333333333333, \"#31688e\"], [0.4444444444444444, \"#26828e\"], [0.5555555555555556, \"#1f9e89\"], [0.6666666666666666, \"#35b779\"], [0.7777777777777778, \"#6ece58\"], [0.8888888888888888, \"#b5de2b\"], [1.0, \"#fde725\"]], \"type\": \"surface\"}], \"table\": [{\"cells\": {\"fill\": {\"color\": \"rgb(237,237,237)\"}, \"line\": {\"color\": \"white\"}}, \"header\": {\"fill\": {\"color\": \"rgb(217,217,217)\"}, \"line\": {\"color\": \"white\"}}, \"type\": \"table\"}]}, \"layout\": {\"annotationdefaults\": {\"arrowhead\": 0, \"arrowwidth\": 1}, \"coloraxis\": {\"colorbar\": {\"outlinewidth\": 1, \"tickcolor\": \"rgb(36,36,36)\", \"ticks\": \"outside\"}}, \"colorscale\": {\"diverging\": [[0.0, \"rgb(103,0,31)\"], [0.1, \"rgb(178,24,43)\"], [0.2, \"rgb(214,96,77)\"], [0.3, \"rgb(244,165,130)\"], [0.4, \"rgb(253,219,199)\"], [0.5, \"rgb(247,247,247)\"], [0.6, \"rgb(209,229,240)\"], [0.7, \"rgb(146,197,222)\"], [0.8, \"rgb(67,147,195)\"], [0.9, \"rgb(33,102,172)\"], [1.0, \"rgb(5,48,97)\"]], \"sequential\": [[0.0, \"#440154\"], [0.1111111111111111, \"#482878\"], [0.2222222222222222, \"#3e4989\"], [0.3333333333333333, \"#31688e\"], [0.4444444444444444, \"#26828e\"], [0.5555555555555556, \"#1f9e89\"], [0.6666666666666666, \"#35b779\"], [0.7777777777777778, \"#6ece58\"], [0.8888888888888888, \"#b5de2b\"], [1.0, \"#fde725\"]], \"sequentialminus\": [[0.0, \"#440154\"], [0.1111111111111111, \"#482878\"], [0.2222222222222222, \"#3e4989\"], [0.3333333333333333, \"#31688e\"], [0.4444444444444444, \"#26828e\"], [0.5555555555555556, \"#1f9e89\"], [0.6666666666666666, \"#35b779\"], [0.7777777777777778, \"#6ece58\"], [0.8888888888888888, \"#b5de2b\"], [1.0, \"#fde725\"]]}, \"colorway\": [\"#1F77B4\", \"#FF7F0E\", \"#2CA02C\", \"#D62728\", \"#9467BD\", \"#8C564B\", \"#E377C2\", \"#7F7F7F\", \"#BCBD22\", \"#17BECF\"], \"font\": {\"color\": \"rgb(36,36,36)\"}, \"geo\": {\"bgcolor\": \"white\", \"lakecolor\": \"white\", \"landcolor\": \"white\", \"showlakes\": true, \"showland\": true, \"subunitcolor\": \"white\"}, \"hoverlabel\": {\"align\": \"left\"}, \"hovermode\": \"closest\", \"mapbox\": {\"style\": \"light\"}, \"paper_bgcolor\": \"white\", \"plot_bgcolor\": \"white\", \"polar\": {\"angularaxis\": {\"gridcolor\": \"rgb(232,232,232)\", \"linecolor\": \"rgb(36,36,36)\", \"showgrid\": false, \"showline\": true, \"ticks\": \"outside\"}, \"bgcolor\": \"white\", \"radialaxis\": {\"gridcolor\": \"rgb(232,232,232)\", \"linecolor\": \"rgb(36,36,36)\", \"showgrid\": false, \"showline\": true, \"ticks\": \"outside\"}}, \"scene\": {\"xaxis\": {\"backgroundcolor\": \"white\", \"gridcolor\": \"rgb(232,232,232)\", \"gridwidth\": 2, \"linecolor\": \"rgb(36,36,36)\", \"showbackground\": true, \"showgrid\": false, \"showline\": true, \"ticks\": \"outside\", \"zeroline\": false, \"zerolinecolor\": \"rgb(36,36,36)\"}, \"yaxis\": {\"backgroundcolor\": \"white\", \"gridcolor\": \"rgb(232,232,232)\", \"gridwidth\": 2, \"linecolor\": \"rgb(36,36,36)\", \"showbackground\": true, \"showgrid\": false, \"showline\": true, \"ticks\": \"outside\", \"zeroline\": false, \"zerolinecolor\": \"rgb(36,36,36)\"}, \"zaxis\": {\"backgroundcolor\": \"white\", \"gridcolor\": \"rgb(232,232,232)\", \"gridwidth\": 2, \"linecolor\": \"rgb(36,36,36)\", \"showbackground\": true, \"showgrid\": false, \"showline\": true, \"ticks\": \"outside\", \"zeroline\": false, \"zerolinecolor\": \"rgb(36,36,36)\"}}, \"shapedefaults\": {\"fillcolor\": \"black\", \"line\": {\"width\": 0}, \"opacity\": 0.3}, \"ternary\": {\"aaxis\": {\"gridcolor\": \"rgb(232,232,232)\", \"linecolor\": \"rgb(36,36,36)\", \"showgrid\": false, \"showline\": true, \"ticks\": \"outside\"}, \"baxis\": {\"gridcolor\": \"rgb(232,232,232)\", \"linecolor\": \"rgb(36,36,36)\", \"showgrid\": false, \"showline\": true, \"ticks\": \"outside\"}, \"bgcolor\": \"white\", \"caxis\": {\"gridcolor\": \"rgb(232,232,232)\", \"linecolor\": \"rgb(36,36,36)\", \"showgrid\": false, \"showline\": true, \"ticks\": \"outside\"}}, \"title\": {\"x\": 0.05}, \"xaxis\": {\"automargin\": true, \"gridcolor\": \"rgb(232,232,232)\", \"linecolor\": \"rgb(36,36,36)\", \"showgrid\": false, \"showline\": true, \"ticks\": \"outside\", \"title\": {\"standoff\": 15}, \"zeroline\": false, \"zerolinecolor\": \"rgb(36,36,36)\"}, \"yaxis\": {\"automargin\": true, \"gridcolor\": \"rgb(232,232,232)\", \"linecolor\": \"rgb(36,36,36)\", \"showgrid\": false, \"showline\": true, \"ticks\": \"outside\", \"title\": {\"standoff\": 15}, \"zeroline\": false, \"zerolinecolor\": \"rgb(36,36,36)\"}}}, \"title\": {\"text\": \"% Unemployment and Happiness Index are Negatively Correlated\"}, \"width\": 750, \"xaxis\": {\"anchor\": \"y\", \"domain\": [0.0, 1.0], \"title\": {\"text\": \"% Unemployment\"}}, \"yaxis\": {\"anchor\": \"x\", \"domain\": [0.0, 1.0], \"title\": {\"text\": \"Happiness index\"}}},\n",
       "                        {\"responsive\": true}\n",
       "                    ).then(function(){\n",
       "                            \n",
       "var gd = document.getElementById('6398a928-8713-4739-967f-64cf2b23c3cc');\n",
       "var x = new MutationObserver(function (mutations, observer) {{\n",
       "        var display = window.getComputedStyle(gd).display;\n",
       "        if (!display || display === 'none') {{\n",
       "            console.log([gd, 'removed!']);\n",
       "            Plotly.purge(gd);\n",
       "            observer.disconnect();\n",
       "        }}\n",
       "}});\n",
       "\n",
       "// Listen for the removal of the full notebook cells\n",
       "var notebookContainer = gd.closest('#notebook-container');\n",
       "if (notebookContainer) {{\n",
       "    x.observe(notebookContainer, {childList: true});\n",
       "}}\n",
       "\n",
       "// Listen for the clearing of the current output cell\n",
       "var outputEl = gd.closest('.output');\n",
       "if (outputEl) {{\n",
       "    x.observe(outputEl, {childList: true});\n",
       "}}\n",
       "\n",
       "                        })\n",
       "                };\n",
       "                });\n",
       "            </script>\n",
       "        </div>"
      ]
     },
     "metadata": {},
     "output_type": "display_data"
    }
   ],
   "source": [
    "#Correlation of Unemployment with the Happiness Index\n",
    "\n",
    "\n",
    "unemp = df_2017N_v4[\"% Unemployment\"]\n",
    "HI = df_2017N_v4[\"Happiness index\"]\n",
    "color = [\"royalblue\",\"darkturquoise\",\"crimson\", \"mediumpurple\",\"mediumseagreen\"]\n",
    "\n",
    "\n",
    "#calculate y-values for regression line\n",
    "(slope, intercept, rvalue, pvalue, stderr) = linregress(unemp, HI)\n",
    "regress_values = unemp * slope + intercept\n",
    "value = regress_values\n",
    "line_eq = \"y = \" + str(round(slope,2)) + \"x + \" + str(round(intercept,2))\n",
    "\n",
    "#scatter plot\n",
    "fig_Q2b_2 = px.scatter(df_2017N_v4, unemp, HI, hover_name=\"Country name\"\n",
    "           ,template=\"simple_white\",color_discrete_sequence=color, color=\"Continent\")\n",
    "\n",
    "#regression line\n",
    "regline_b = sm.OLS(value,sm.add_constant(unemp)).fit().fittedvalues\n",
    "\n",
    "#add regression line to scatter\n",
    "fig_Q2b_2.add_traces(go.Scatter(x=unemp, y=regline_b, mode='lines', marker_color='dimgrey', name='Regression'))\n",
    "\n",
    "fig_Q2b_2.update_layout(title_text=\"% Unemployment and Happiness Index are Negatively Correlated\"\n",
    "                      ,annotations= [dict(x=0.05, y=1, text=line_eq, showarrow = False)]\n",
    "                      ,width=750, height=650\n",
    "                     )\n",
    "\n",
    "\n",
    "fig_Q2b_2.show()"
   ]
  },
  {
   "cell_type": "code",
   "execution_count": 26,
   "metadata": {},
   "outputs": [],
   "source": [
    "fig_Q2b_1.write_image(\"images/fig_Q2b_1.png\")\n",
    "fig_Q2b_2.write_image(\"images/fig_Q2b_2.png\")"
   ]
  },
  {
   "cell_type": "code",
   "execution_count": null,
   "metadata": {},
   "outputs": [],
   "source": []
  }
 ],
 "metadata": {
  "kernelspec": {
   "display_name": "Python 3",
   "language": "python",
   "name": "python3"
  },
  "language_info": {
   "codemirror_mode": {
    "name": "ipython",
    "version": 3
   },
   "file_extension": ".py",
   "mimetype": "text/x-python",
   "name": "python",
   "nbconvert_exporter": "python",
   "pygments_lexer": "ipython3",
   "version": "3.7.6"
  }
 },
 "nbformat": 4,
 "nbformat_minor": 4
}
